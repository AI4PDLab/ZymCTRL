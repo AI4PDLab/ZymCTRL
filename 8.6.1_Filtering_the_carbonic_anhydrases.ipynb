{
 "cells": [
  {
   "cell_type": "code",
   "execution_count": 1,
   "metadata": {},
   "outputs": [],
   "source": [
    "import pandas as  pd"
   ]
  },
  {
   "cell_type": "code",
   "execution_count": 19,
   "metadata": {},
   "outputs": [],
   "source": [
    "df = pd.read_csv('/scratch2/geraldenemunsamy/carbonic_anhydrase/sequence_selection/clustering_ncbi/blast_ncbi_30_clusterreps.csv')"
   ]
  },
  {
   "cell_type": "code",
   "execution_count": 20,
   "metadata": {},
   "outputs": [],
   "source": [
    "df = df.rename(columns = {'4.2.1.1_1006_14' : 'ID','60.0': 'seqid' })"
   ]
  },
  {
   "cell_type": "code",
   "execution_count": 21,
   "metadata": {},
   "outputs": [
    {
     "data": {
      "text/html": [
       "<div>\n",
       "<style scoped>\n",
       "    .dataframe tbody tr th:only-of-type {\n",
       "        vertical-align: middle;\n",
       "    }\n",
       "\n",
       "    .dataframe tbody tr th {\n",
       "        vertical-align: top;\n",
       "    }\n",
       "\n",
       "    .dataframe thead th {\n",
       "        text-align: right;\n",
       "    }\n",
       "</style>\n",
       "<table border=\"1\" class=\"dataframe\">\n",
       "  <thead>\n",
       "    <tr style=\"text-align: right;\">\n",
       "      <th></th>\n",
       "      <th>ID</th>\n",
       "      <th>BBX84867.1</th>\n",
       "      <th>seqid</th>\n",
       "      <th>99.5</th>\n",
       "      <th>1.1e-62</th>\n",
       "    </tr>\n",
       "  </thead>\n",
       "  <tbody>\n",
       "    <tr>\n",
       "      <th>0</th>\n",
       "      <td>4.2.1.1_1006_14</td>\n",
       "      <td>PTR40073.1</td>\n",
       "      <td>60.5</td>\n",
       "      <td>99.5</td>\n",
       "      <td>2.500000e-62</td>\n",
       "    </tr>\n",
       "    <tr>\n",
       "      <th>1</th>\n",
       "      <td>4.2.1.1_1006_14</td>\n",
       "      <td>WP_112553880.1</td>\n",
       "      <td>58.0</td>\n",
       "      <td>99.5</td>\n",
       "      <td>9.600000e-62</td>\n",
       "    </tr>\n",
       "    <tr>\n",
       "      <th>2</th>\n",
       "      <td>4.2.1.1_1006_14</td>\n",
       "      <td>WP_011731025.1</td>\n",
       "      <td>57.8</td>\n",
       "      <td>99.5</td>\n",
       "      <td>1.300000e-61</td>\n",
       "    </tr>\n",
       "    <tr>\n",
       "      <th>3</th>\n",
       "      <td>4.2.1.1_1006_14</td>\n",
       "      <td>WP_090279706.1</td>\n",
       "      <td>58.0</td>\n",
       "      <td>99.5</td>\n",
       "      <td>1.600000e-61</td>\n",
       "    </tr>\n",
       "    <tr>\n",
       "      <th>4</th>\n",
       "      <td>4.2.1.1_1006_14</td>\n",
       "      <td>WP_068199178.1</td>\n",
       "      <td>58.0</td>\n",
       "      <td>99.5</td>\n",
       "      <td>2.100000e-61</td>\n",
       "    </tr>\n",
       "    <tr>\n",
       "      <th>...</th>\n",
       "      <td>...</td>\n",
       "      <td>...</td>\n",
       "      <td>...</td>\n",
       "      <td>...</td>\n",
       "      <td>...</td>\n",
       "    </tr>\n",
       "    <tr>\n",
       "      <th>298454663</th>\n",
       "      <td>4.2.1.1_2976_6</td>\n",
       "      <td>MCC8071606.1</td>\n",
       "      <td>34.2</td>\n",
       "      <td>29.9</td>\n",
       "      <td>1.500000e-02</td>\n",
       "    </tr>\n",
       "    <tr>\n",
       "      <th>298454664</th>\n",
       "      <td>4.2.1.1_2976_6</td>\n",
       "      <td>WP_007575114.1</td>\n",
       "      <td>20.9</td>\n",
       "      <td>67.5</td>\n",
       "      <td>2.000000e-02</td>\n",
       "    </tr>\n",
       "    <tr>\n",
       "      <th>298454665</th>\n",
       "      <td>4.2.1.1_2976_6</td>\n",
       "      <td>VEI45483.1</td>\n",
       "      <td>50.0</td>\n",
       "      <td>12.8</td>\n",
       "      <td>3.400000e-02</td>\n",
       "    </tr>\n",
       "    <tr>\n",
       "      <th>298454666</th>\n",
       "      <td>4.2.1.1_2976_6</td>\n",
       "      <td>TMQ57291.1</td>\n",
       "      <td>38.9</td>\n",
       "      <td>15.4</td>\n",
       "      <td>1.700000e-01</td>\n",
       "    </tr>\n",
       "    <tr>\n",
       "      <th>298454667</th>\n",
       "      <td>4.2.1.1_2976_6</td>\n",
       "      <td>MCA9590588.1</td>\n",
       "      <td>57.1</td>\n",
       "      <td>9.0</td>\n",
       "      <td>8.400000e-01</td>\n",
       "    </tr>\n",
       "  </tbody>\n",
       "</table>\n",
       "<p>298454668 rows × 5 columns</p>\n",
       "</div>"
      ],
      "text/plain": [
       "                        ID      BBX84867.1  seqid  99.5       1.1e-62\n",
       "0          4.2.1.1_1006_14      PTR40073.1   60.5  99.5  2.500000e-62\n",
       "1          4.2.1.1_1006_14  WP_112553880.1   58.0  99.5  9.600000e-62\n",
       "2          4.2.1.1_1006_14  WP_011731025.1   57.8  99.5  1.300000e-61\n",
       "3          4.2.1.1_1006_14  WP_090279706.1   58.0  99.5  1.600000e-61\n",
       "4          4.2.1.1_1006_14  WP_068199178.1   58.0  99.5  2.100000e-61\n",
       "...                    ...             ...    ...   ...           ...\n",
       "298454663   4.2.1.1_2976_6    MCC8071606.1   34.2  29.9  1.500000e-02\n",
       "298454664   4.2.1.1_2976_6  WP_007575114.1   20.9  67.5  2.000000e-02\n",
       "298454665   4.2.1.1_2976_6      VEI45483.1   50.0  12.8  3.400000e-02\n",
       "298454666   4.2.1.1_2976_6      TMQ57291.1   38.9  15.4  1.700000e-01\n",
       "298454667   4.2.1.1_2976_6    MCA9590588.1   57.1   9.0  8.400000e-01\n",
       "\n",
       "[298454668 rows x 5 columns]"
      ]
     },
     "execution_count": 21,
     "metadata": {},
     "output_type": "execute_result"
    }
   ],
   "source": [
    "df"
   ]
  },
  {
   "cell_type": "code",
   "execution_count": 22,
   "metadata": {},
   "outputs": [],
   "source": [
    "#sequences that have greater than 60% identity \n",
    "df_selected = df.loc[(df['seqid'] >=60)] "
   ]
  },
  {
   "cell_type": "code",
   "execution_count": 23,
   "metadata": {},
   "outputs": [],
   "source": [
    "#get unique list of sequences that had less than 60% sequence identity \n",
    "unique_60 = df.loc[~df['ID'].isin(df_selected['ID']), 'ID'].unique()"
   ]
  },
  {
   "cell_type": "code",
   "execution_count": 24,
   "metadata": {},
   "outputs": [
    {
     "data": {
      "text/plain": [
       "1494"
      ]
     },
     "execution_count": 24,
     "metadata": {},
     "output_type": "execute_result"
    }
   ],
   "source": [
    "#total number of unique sequences that have less than 60% seq identity \n",
    "unique_60.size"
   ]
  },
  {
   "cell_type": "code",
   "execution_count": 25,
   "metadata": {},
   "outputs": [],
   "source": [
    "import numpy as np\n",
    "np.savetxt('/scratch2/geraldenemunsamy/carbonic_anhydrase/sequence_selection/clustering_ncbi/final_list_hits_25_01_23.csv', unique_60,  newline = \"\\n\", fmt=\"%s\")"
   ]
  }
 ],
 "metadata": {
  "kernelspec": {
   "display_name": "Python 3 (ipykernel)",
   "language": "python",
   "name": "python3"
  },
  "language_info": {
   "codemirror_mode": {
    "name": "ipython",
    "version": 3
   },
   "file_extension": ".py",
   "mimetype": "text/x-python",
   "name": "python",
   "nbconvert_exporter": "python",
   "pygments_lexer": "ipython3",
   "version": "3.7.12"
  },
  "vscode": {
   "interpreter": {
    "hash": "31f2aee4e71d21fbe5cf8b01ff0e069b9275f58929596ceb00d14d90e3e16cd6"
   }
  }
 },
 "nbformat": 4,
 "nbformat_minor": 2
}
