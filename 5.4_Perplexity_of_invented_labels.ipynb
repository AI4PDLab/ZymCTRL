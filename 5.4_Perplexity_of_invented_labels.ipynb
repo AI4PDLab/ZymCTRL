{
 "cells": [
  {
   "cell_type": "code",
   "execution_count": 2,
   "metadata": {},
   "outputs": [],
   "source": [
    "from transformers import GPT2LMHeadModel, AutoTokenizer\n",
    "import torch\n",
    "from transformers import pipeline\n",
    "device = torch.device(\"cuda\")\n",
    "import pandas as pd\n",
    "import math\n",
    "import plotly.express as px\n",
    "tokenizer = AutoTokenizer.from_pretrained('/home/phil/Geraldene/transformers/examples/pytorch/language-modeling/ZymCTRL')\n",
    "model = GPT2LMHeadModel.from_pretrained('/home/phil/Geraldene/transformers/examples/pytorch/language-modeling/ZymCTRL').to(device)"
   ]
  },
  {
   "cell_type": "code",
   "execution_count": 3,
   "metadata": {},
   "outputs": [],
   "source": [
    "def calculatePerplexity(input_ids,model,tokenizer):\n",
    "    with torch.no_grad():\n",
    "        outputs = model(input_ids, labels=input_ids)\n",
    "    loss, logits = outputs[:2]\n",
    "    return math.exp(loss)"
   ]
  },
  {
   "cell_type": "code",
   "execution_count": 11,
   "metadata": {},
   "outputs": [],
   "source": [
    "generated_ids = ['9.9.9.9', '8.9.99', '7.7.7.99', '6.6.6.3', '8.2.2.2', '4.4.4.44', '2.2.2.2', '3.3.3.3', '5.6.5.6', '0.0.0.9']"
   ]
  },
  {
   "cell_type": "code",
   "execution_count": 12,
   "metadata": {},
   "outputs": [],
   "source": [
    "# 1. Run directly from the HuggingFace pipeline\n",
    "ppls = {}\n",
    "#model = pipeline('text-generation', model=\"nferruz/ZymCTRL\")\n",
    "for i in generated_ids:\n",
    "    sequences = tokenizer.encode(i, return_tensors='pt').to(device)\n",
    "    outputs = model.generate(\n",
    "        sequences,\n",
    "        top_k=9,\n",
    "        repetition_penalty=1.2,\n",
    "        max_length=1024,\n",
    "        eos_token_id=1,\n",
    "        pad_token_id=0,\n",
    "        do_sample=True,\n",
    "        num_return_sequences=20)\n",
    "    ppls[i] = [calculatePerplexity(output, model, tokenizer) for output in outputs ]\n"
   ]
  },
  {
   "cell_type": "code",
   "execution_count": 13,
   "metadata": {},
   "outputs": [
    {
     "name": "stdout",
     "output_type": "stream",
     "text": [
      "9.9.9.9\n",
      "5.9856997703815065\n",
      "8.9.99\n",
      "7.9881428087499815\n",
      "7.7.7.99\n",
      "4.004538741255333\n",
      "6.6.6.3\n",
      "5.6338416302812675\n",
      "8.2.2.2\n",
      "5.584334903694108\n",
      "4.4.4.44\n",
      "6.529528351081924\n",
      "2.2.2.2\n",
      "5.111341002760229\n",
      "3.3.3.3\n",
      "3.9961696562804123\n",
      "5.6.5.6\n",
      "5.887081730359552\n",
      "0.0.0.9\n",
      "6.0139973572028325\n"
     ]
    }
   ],
   "source": [
    "for label,ppls_values in ppls.items():\n",
    "    print(label)\n",
    "    print(np.mean(ppls_values))"
   ]
  },
  {
   "cell_type": "code",
   "execution_count": null,
   "metadata": {},
   "outputs": [],
   "source": []
  }
 ],
 "metadata": {
  "interpreter": {
   "hash": "4955dedc2d00847a5d8ce35d0b08f51a09c63081b880cfd982b13da27f1123ca"
  },
  "kernelspec": {
   "display_name": "Python 3.7.6 64-bit ('base': conda)",
   "language": "python",
   "name": "python3"
  },
  "language_info": {
   "codemirror_mode": {
    "name": "ipython",
    "version": 3
   },
   "file_extension": ".py",
   "mimetype": "text/x-python",
   "name": "python",
   "nbconvert_exporter": "python",
   "pygments_lexer": "ipython3",
   "version": "3.7.6"
  },
  "orig_nbformat": 4
 },
 "nbformat": 4,
 "nbformat_minor": 2
}
