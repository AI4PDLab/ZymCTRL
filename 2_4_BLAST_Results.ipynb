{
 "cells": [
  {
   "cell_type": "code",
   "execution_count": 1,
   "id": "76536900-e156-4feb-8228-91843c2a20be",
   "metadata": {},
   "outputs": [],
   "source": [
    "import pandas as pd\n",
    "from argparse import ArgumentParser\n",
    "from tqdm import tqdm\n",
    "import pickle\n",
    "import torch\n",
    "from transformers import GPT2LMHeadModel, GPT2Tokenizer, AutoTokenizer\n",
    "import random\n",
    "from selenium import webdriver\n",
    "from selenium.webdriver.common.by import By\n",
    "import os\n",
    "import time\n",
    "from tqdm import tqdm\n",
    "from selenium.webdriver.firefox.options import Options\n",
    "from Bio import SeqIO\n",
    "import blast\n",
    "import multiprocessing\n",
    "import glob, os\n",
    "import statistics\n",
    "from selenium.webdriver.firefox.options import Options"
   ]
  },
  {
   "cell_type": "code",
   "execution_count": 2,
   "id": "547caaa6-833c-4c4c-80bd-1c73c4bb549a",
   "metadata": {},
   "outputs": [],
   "source": [
    "def split(a, n):\n",
    "    k, m = divmod(len(a), n)\n",
    "    return (a[i*k+min(i, m):(i+1)*k+min(i+1, m)] for i in range(n))"
   ]
  },
  {
   "cell_type": "code",
   "execution_count": 3,
   "id": "76c66615-315e-4e73-ae0e-1c483b972806",
   "metadata": {},
   "outputs": [],
   "source": [
    "fasta = open(\"selection_proteinfer.fasta\",\"r\").readlines()"
   ]
  },
  {
   "cell_type": "code",
   "execution_count": 13,
   "id": "75023e52-f7bf-464d-a1b3-acc1d1fffb1c",
   "metadata": {
    "collapsed": true
   },
   "outputs": [
    {
     "ename": "IndexError",
     "evalue": "list index out of range",
     "output_type": "error",
     "traceback": [
      "\u001b[0;31m---------------------------------------------------------------------------\u001b[0m",
      "\u001b[0;31mIndexError\u001b[0m                                Traceback (most recent call last)",
      "Input \u001b[0;32mIn [13]\u001b[0m, in \u001b[0;36m<cell line: 3>\u001b[0;34m()\u001b[0m\n\u001b[1;32m      2\u001b[0m new_fasta \u001b[38;5;241m=\u001b[39m {}\n\u001b[1;32m      3\u001b[0m \u001b[38;5;28;01mfor\u001b[39;00m idx \u001b[38;5;129;01min\u001b[39;00m \u001b[38;5;28mrange\u001b[39m(\u001b[38;5;241m0\u001b[39m,\u001b[38;5;28mlen\u001b[39m(fasta),\u001b[38;5;241m2\u001b[39m):\n\u001b[0;32m----> 4\u001b[0m     new_fasta[fasta[idx][:\u001b[38;5;241m-\u001b[39m\u001b[38;5;241m2\u001b[39m]\u001b[38;5;241m+\u001b[39m\u001b[38;5;124m\"\u001b[39m\u001b[38;5;124m \u001b[39m\u001b[38;5;124m\"\u001b[39m\u001b[38;5;241m+\u001b[39mfasta[idx\u001b[38;5;241m+\u001b[39m\u001b[38;5;241m1\u001b[39m]\u001b[38;5;241m.\u001b[39msplit()[\u001b[38;5;241m0\u001b[39m]\u001b[38;5;241m+\u001b[39m\u001b[38;5;124m\"\u001b[39m\u001b[38;5;130;01m\\n\u001b[39;00m\u001b[38;5;124m\"\u001b[39m] \u001b[38;5;241m=\u001b[39m \u001b[43mfasta\u001b[49m\u001b[43m[\u001b[49m\u001b[43midx\u001b[49m\u001b[38;5;241;43m+\u001b[39;49m\u001b[38;5;241;43m1\u001b[39;49m\u001b[43m]\u001b[49m\u001b[38;5;241;43m.\u001b[39;49m\u001b[43msplit\u001b[49m\u001b[43m(\u001b[49m\u001b[43m)\u001b[49m\u001b[43m[\u001b[49m\u001b[38;5;241;43m1\u001b[39;49m\u001b[43m]\u001b[49m\u001b[38;5;241m+\u001b[39m\u001b[38;5;124m\"\u001b[39m\u001b[38;5;130;01m\\n\u001b[39;00m\u001b[38;5;124m\"\u001b[39m\n",
      "\u001b[0;31mIndexError\u001b[0m: list index out of range"
     ]
    }
   ],
   "source": [
    "# generated\n",
    "new_fasta = {}\n",
    "for idx in range(0,len(fasta),2):\n",
    "    new_fasta[fasta[idx][:-2]+\" \"+fasta[idx+1].split()[0]+\"\\n\"] = fasta[idx+1].split()[1]+\"\\n\""
   ]
  },
  {
   "cell_type": "code",
   "execution_count": 4,
   "id": "9c0fcf82-fe52-41f0-8571-68487033658a",
   "metadata": {},
   "outputs": [
    {
     "name": "stderr",
     "output_type": "stream",
     "text": [
      "100%|██████████████████████████████████| 3000/3000 [00:00<00:00, 1052963.35it/s]\n"
     ]
    }
   ],
   "source": [
    "# natural\n",
    "new_fasta = {}\n",
    "for idx in tqdm(range(0,len(fasta),2)):\n",
    "    new_fasta[\">\"+fasta[idx].split(\"|\")[0].split(\", \")[1]+\"\\n\"] = fasta[idx+1]+\"\\n\""
   ]
  },
  {
   "cell_type": "code",
   "execution_count": null,
   "id": "36777fce-e825-46a2-a898-35761099a60b",
   "metadata": {},
   "outputs": [],
   "source": [
    "# natural\n",
    "new_fasta = {}\n",
    "for idx in tqdm(range(0,len(fasta),2)):\n",
    "    new_fasta[fasta[idx]] = fasta[idx+1]"
   ]
  },
  {
   "cell_type": "code",
   "execution_count": 5,
   "id": "0c4026ff-5488-4ff1-b5ab-b6c9efcb468f",
   "metadata": {},
   "outputs": [],
   "source": [
    "splits = 128\n",
    "splited_fasta = split([k+v for k,v in list(new_fasta.items())], 128)"
   ]
  },
  {
   "cell_type": "code",
   "execution_count": 6,
   "id": "1d558d28-e4c9-4f14-aa84-18f8c23647f8",
   "metadata": {},
   "outputs": [],
   "source": [
    "splited_fasta = [i for i in splited_fasta]"
   ]
  },
  {
   "cell_type": "code",
   "execution_count": 10,
   "id": "2a029f04-6ef8-4c25-a056-a74d722c84be",
   "metadata": {},
   "outputs": [],
   "source": [
    "rest = [i for i in splited_fasta if \"4.2.1.1_450_3\" in i[0]]"
   ]
  },
  {
   "cell_type": "code",
   "execution_count": 16,
   "id": "77371d15-608f-481e-91e7-d4fe680e64bf",
   "metadata": {
    "tags": []
   },
   "outputs": [],
   "source": [
    "# if rest\n",
    "rest = [i for item in splited_fasta for i in item if not i.startswith(tuple(sel),2)]\n",
    "splited_fasta = split(rest, 12)\n",
    "splited_fasta = [i for i in splited_fasta]"
   ]
  },
  {
   "cell_type": "code",
   "execution_count": 7,
   "id": "31cc3fa3-b46e-4685-9fad-0ece3e52ccc4",
   "metadata": {
    "collapsed": true,
    "jupyter": {
     "outputs_hidden": true
    },
    "tags": []
   },
   "outputs": [
    {
     "name": "stderr",
     "output_type": "stream",
     "text": [
      " 23%|█████████▊                                | 30/128 [10:00<32:42, 20.03s/it]"
     ]
    },
    {
     "name": "stdout",
     "output_type": "stream",
     "text": [
      "Finished Blast and Download\n"
     ]
    },
    {
     "name": "stderr",
     "output_type": "stream",
     "text": [
      " 25%|██████████▌                               | 32/128 [10:40<32:02, 20.03s/it]"
     ]
    },
    {
     "name": "stdout",
     "output_type": "stream",
     "text": [
      "Finished Blast and Download\n",
      "Finished Blast and Download\n"
     ]
    },
    {
     "name": "stderr",
     "output_type": "stream",
     "text": [
      " 26%|██████████▊                               | 33/128 [11:00<31:42, 20.03s/it]"
     ]
    },
    {
     "name": "stdout",
     "output_type": "stream",
     "text": [
      "Finished Blast and Download\n"
     ]
    },
    {
     "name": "stderr",
     "output_type": "stream",
     "text": [
      " 27%|███████████▏                              | 34/128 [11:20<31:24, 20.04s/it]"
     ]
    },
    {
     "name": "stdout",
     "output_type": "stream",
     "text": [
      "Finished Blast and Download\n"
     ]
    },
    {
     "name": "stderr",
     "output_type": "stream",
     "text": [
      " 27%|███████████▍                              | 35/128 [11:40<31:03, 20.04s/it]"
     ]
    },
    {
     "name": "stdout",
     "output_type": "stream",
     "text": [
      "Finished Blast and Download\n"
     ]
    },
    {
     "name": "stderr",
     "output_type": "stream",
     "text": [
      " 28%|███████████▊                              | 36/128 [12:01<30:43, 20.04s/it]"
     ]
    },
    {
     "name": "stdout",
     "output_type": "stream",
     "text": [
      "Finished Blast and Download\n",
      "Finished Blast and Download\n"
     ]
    },
    {
     "name": "stderr",
     "output_type": "stream",
     "text": [
      " 30%|████████████▍                             | 38/128 [12:41<30:02, 20.03s/it]"
     ]
    },
    {
     "name": "stdout",
     "output_type": "stream",
     "text": [
      "Finished Blast and Download\n"
     ]
    },
    {
     "name": "stderr",
     "output_type": "stream",
     "text": [
      " 30%|████████████▊                             | 39/128 [13:01<29:42, 20.03s/it]"
     ]
    },
    {
     "name": "stdout",
     "output_type": "stream",
     "text": [
      "Finished Blast and Download\n"
     ]
    },
    {
     "name": "stderr",
     "output_type": "stream",
     "text": [
      " 31%|█████████████▏                            | 40/128 [13:21<29:22, 20.03s/it]"
     ]
    },
    {
     "name": "stdout",
     "output_type": "stream",
     "text": [
      "Finished Blast and Download\n"
     ]
    },
    {
     "name": "stderr",
     "output_type": "stream",
     "text": [
      " 32%|█████████████▍                            | 41/128 [13:41<29:02, 20.03s/it]"
     ]
    },
    {
     "name": "stdout",
     "output_type": "stream",
     "text": [
      "Finished Blast and Download\n"
     ]
    },
    {
     "name": "stderr",
     "output_type": "stream",
     "text": [
      " 34%|██████████████                            | 43/128 [14:21<28:22, 20.03s/it]"
     ]
    },
    {
     "name": "stdout",
     "output_type": "stream",
     "text": [
      "Finished Blast and Download\n"
     ]
    },
    {
     "name": "stderr",
     "output_type": "stream",
     "text": [
      " 34%|██████████████▍                           | 44/128 [14:41<28:02, 20.03s/it]"
     ]
    },
    {
     "name": "stdout",
     "output_type": "stream",
     "text": [
      "Finished Blast and Download\n",
      "Finished Blast and Download\n"
     ]
    },
    {
     "name": "stderr",
     "output_type": "stream",
     "text": [
      " 35%|██████████████▊                           | 45/128 [15:01<27:42, 20.03s/it]"
     ]
    },
    {
     "name": "stdout",
     "output_type": "stream",
     "text": [
      "Finished Blast and Download\n"
     ]
    },
    {
     "name": "stderr",
     "output_type": "stream",
     "text": [
      " 37%|███████████████▍                          | 47/128 [15:41<27:02, 20.03s/it]"
     ]
    },
    {
     "name": "stdout",
     "output_type": "stream",
     "text": [
      "Finished Blast and Download\n"
     ]
    },
    {
     "name": "stderr",
     "output_type": "stream",
     "text": [
      " 38%|███████████████▊                          | 48/128 [16:01<26:42, 20.03s/it]"
     ]
    },
    {
     "name": "stdout",
     "output_type": "stream",
     "text": [
      "Finished Blast and Download\n",
      "Finished Blast and Download\n"
     ]
    },
    {
     "name": "stderr",
     "output_type": "stream",
     "text": [
      " 38%|████████████████                          | 49/128 [16:21<26:22, 20.03s/it]"
     ]
    },
    {
     "name": "stdout",
     "output_type": "stream",
     "text": [
      "Finished Blast and Download\n"
     ]
    },
    {
     "name": "stderr",
     "output_type": "stream",
     "text": [
      " 41%|█████████████████                         | 52/128 [17:21<25:22, 20.03s/it]"
     ]
    },
    {
     "name": "stdout",
     "output_type": "stream",
     "text": [
      "Finished Blast and Download\n"
     ]
    },
    {
     "name": "stderr",
     "output_type": "stream",
     "text": [
      " 41%|█████████████████▍                        | 53/128 [17:41<25:02, 20.03s/it]"
     ]
    },
    {
     "name": "stdout",
     "output_type": "stream",
     "text": [
      "Finished Blast and Download\n",
      "Finished Blast and Download\n"
     ]
    },
    {
     "name": "stderr",
     "output_type": "stream",
     "text": [
      " 42%|█████████████████▋                        | 54/128 [18:01<24:42, 20.03s/it]"
     ]
    },
    {
     "name": "stdout",
     "output_type": "stream",
     "text": [
      "Finished Blast and Download\n"
     ]
    },
    {
     "name": "stderr",
     "output_type": "stream",
     "text": [
      " 43%|██████████████████                        | 55/128 [18:21<24:22, 20.03s/it]"
     ]
    },
    {
     "name": "stdout",
     "output_type": "stream",
     "text": [
      "Finished Blast and Download\n"
     ]
    },
    {
     "name": "stderr",
     "output_type": "stream",
     "text": [
      " 44%|██████████████████▍                       | 56/128 [18:41<24:02, 20.03s/it]"
     ]
    },
    {
     "name": "stdout",
     "output_type": "stream",
     "text": [
      "Finished Blast and Download\n"
     ]
    },
    {
     "name": "stderr",
     "output_type": "stream",
     "text": [
      " 45%|██████████████████▋                       | 57/128 [19:01<23:41, 20.03s/it]"
     ]
    },
    {
     "name": "stdout",
     "output_type": "stream",
     "text": [
      "Finished Blast and Download\n",
      "Finished Blast and Download\n"
     ]
    },
    {
     "name": "stderr",
     "output_type": "stream",
     "text": [
      " 45%|███████████████████                       | 58/128 [19:21<23:21, 20.03s/it]"
     ]
    },
    {
     "name": "stdout",
     "output_type": "stream",
     "text": [
      "Finished Blast and Download\n"
     ]
    },
    {
     "name": "stderr",
     "output_type": "stream",
     "text": [
      " 46%|███████████████████▎                      | 59/128 [19:41<23:01, 20.03s/it]"
     ]
    },
    {
     "name": "stdout",
     "output_type": "stream",
     "text": [
      "Finished Blast and Download\n"
     ]
    },
    {
     "name": "stderr",
     "output_type": "stream",
     "text": [
      " 47%|███████████████████▋                      | 60/128 [20:01<22:41, 20.03s/it]"
     ]
    },
    {
     "name": "stdout",
     "output_type": "stream",
     "text": [
      "Finished Blast and Download\n"
     ]
    },
    {
     "name": "stderr",
     "output_type": "stream",
     "text": [
      " 48%|████████████████████                      | 61/128 [20:21<22:21, 20.03s/it]"
     ]
    },
    {
     "name": "stdout",
     "output_type": "stream",
     "text": [
      "Finished Blast and Download\n"
     ]
    },
    {
     "name": "stderr",
     "output_type": "stream",
     "text": [
      " 48%|████████████████████▎                     | 62/128 [20:41<22:01, 20.03s/it]"
     ]
    },
    {
     "name": "stdout",
     "output_type": "stream",
     "text": [
      "Finished Blast and Download\n"
     ]
    },
    {
     "name": "stderr",
     "output_type": "stream",
     "text": [
      " 49%|████████████████████▋                     | 63/128 [21:01<21:41, 20.03s/it]"
     ]
    },
    {
     "name": "stdout",
     "output_type": "stream",
     "text": [
      "Finished Blast and Download\n"
     ]
    },
    {
     "name": "stderr",
     "output_type": "stream",
     "text": [
      " 50%|█████████████████████                     | 64/128 [21:21<21:21, 20.03s/it]"
     ]
    },
    {
     "name": "stdout",
     "output_type": "stream",
     "text": [
      "Finished Blast and Download\n"
     ]
    },
    {
     "name": "stderr",
     "output_type": "stream",
     "text": [
      " 51%|█████████████████████▎                    | 65/128 [21:41<21:01, 20.03s/it]"
     ]
    },
    {
     "name": "stdout",
     "output_type": "stream",
     "text": [
      "Finished Blast and Download\n"
     ]
    },
    {
     "name": "stderr",
     "output_type": "stream",
     "text": [
      " 52%|█████████████████████▋                    | 66/128 [22:01<20:41, 20.03s/it]"
     ]
    },
    {
     "name": "stdout",
     "output_type": "stream",
     "text": [
      "Finished Blast and Download\n"
     ]
    },
    {
     "name": "stderr",
     "output_type": "stream",
     "text": [
      " 52%|█████████████████████▉                    | 67/128 [22:21<20:21, 20.03s/it]"
     ]
    },
    {
     "name": "stdout",
     "output_type": "stream",
     "text": [
      "Finished Blast and Download\n"
     ]
    },
    {
     "name": "stderr",
     "output_type": "stream",
     "text": [
      " 53%|██████████████████████▎                   | 68/128 [22:41<20:01, 20.03s/it]"
     ]
    },
    {
     "name": "stdout",
     "output_type": "stream",
     "text": [
      "Finished Blast and Download\n"
     ]
    },
    {
     "name": "stderr",
     "output_type": "stream",
     "text": [
      " 54%|██████████████████████▋                   | 69/128 [23:01<19:41, 20.03s/it]"
     ]
    },
    {
     "name": "stdout",
     "output_type": "stream",
     "text": [
      "Finished Blast and Download\n"
     ]
    },
    {
     "name": "stderr",
     "output_type": "stream",
     "text": [
      " 55%|██████████████████████▉                   | 70/128 [23:21<19:21, 20.03s/it]"
     ]
    },
    {
     "name": "stdout",
     "output_type": "stream",
     "text": [
      "Finished Blast and Download\n"
     ]
    },
    {
     "name": "stderr",
     "output_type": "stream",
     "text": [
      " 56%|███████████████████████▋                  | 72/128 [24:02<18:41, 20.03s/it]"
     ]
    },
    {
     "name": "stdout",
     "output_type": "stream",
     "text": [
      "Finished Blast and Download\n"
     ]
    },
    {
     "name": "stderr",
     "output_type": "stream",
     "text": [
      " 57%|███████████████████████▉                  | 73/128 [24:22<18:21, 20.03s/it]"
     ]
    },
    {
     "name": "stdout",
     "output_type": "stream",
     "text": [
      "Finished Blast and Download\n",
      "Finished Blast and Download\n"
     ]
    },
    {
     "name": "stderr",
     "output_type": "stream",
     "text": [
      " 59%|████████████████████████▌                 | 75/128 [25:02<17:41, 20.03s/it]"
     ]
    },
    {
     "name": "stdout",
     "output_type": "stream",
     "text": [
      "Finished Blast and Download\n"
     ]
    },
    {
     "name": "stderr",
     "output_type": "stream",
     "text": [
      " 59%|████████████████████████▉                 | 76/128 [25:22<17:21, 20.03s/it]"
     ]
    },
    {
     "name": "stdout",
     "output_type": "stream",
     "text": [
      "Finished Blast and Download\n",
      "Finished Blast and Download\n"
     ]
    },
    {
     "name": "stderr",
     "output_type": "stream",
     "text": [
      " 60%|█████████████████████████▎                | 77/128 [25:42<17:01, 20.03s/it]"
     ]
    },
    {
     "name": "stdout",
     "output_type": "stream",
     "text": [
      "Finished Blast and Download\n",
      "Finished Blast and Download\n"
     ]
    },
    {
     "name": "stderr",
     "output_type": "stream",
     "text": [
      " 61%|█████████████████████████▌                | 78/128 [26:02<16:41, 20.03s/it]Process Process-75:\n",
      "Traceback (most recent call last):\n",
      "  File \"/home/user/anaconda3/lib/python3.8/multiprocessing/process.py\", line 315, in _bootstrap\n",
      "    self.run()\n",
      "  File \"/home/user/anaconda3/lib/python3.8/multiprocessing/process.py\", line 108, in run\n",
      "    self._target(*self._args, **self._kwargs)\n",
      "  File \"/home/user/Projects/zymCTRL/blast.py\", line 34, in blast\n",
      "    driver.find_element(\"link text\", \"Text\").click()\n",
      "  File \"/home/user/anaconda3/lib/python3.8/site-packages/selenium/webdriver/remote/webdriver.py\", line 855, in find_element\n",
      "    return self.execute(Command.FIND_ELEMENT, {\n",
      "  File \"/home/user/anaconda3/lib/python3.8/site-packages/selenium/webdriver/remote/webdriver.py\", line 428, in execute\n",
      "    self.error_handler.check_response(response)\n",
      "  File \"/home/user/anaconda3/lib/python3.8/site-packages/selenium/webdriver/remote/errorhandler.py\", line 243, in check_response\n",
      "    raise exception_class(message, screen, stacktrace)\n",
      "selenium.common.exceptions.NoSuchElementException: Message: Unable to locate element: Text\n",
      "Stacktrace:\n",
      "RemoteError@chrome://remote/content/shared/RemoteError.sys.mjs:8:8\n",
      "WebDriverError@chrome://remote/content/shared/webdriver/Errors.sys.mjs:182:5\n",
      "NoSuchElementError@chrome://remote/content/shared/webdriver/Errors.sys.mjs:394:5\n",
      "element.find/</<@chrome://remote/content/marionette/element.sys.mjs:280:16\n",
      "\n",
      " 62%|█████████████████████████▉                | 79/128 [26:22<16:21, 20.03s/it]"
     ]
    },
    {
     "name": "stdout",
     "output_type": "stream",
     "text": [
      "Finished Blast and Download\n"
     ]
    },
    {
     "name": "stderr",
     "output_type": "stream",
     "text": [
      " 62%|██████████████████████████▎               | 80/128 [26:42<16:01, 20.03s/it]"
     ]
    },
    {
     "name": "stdout",
     "output_type": "stream",
     "text": [
      "Finished Blast and Download\n",
      "Finished Blast and Download\n"
     ]
    },
    {
     "name": "stderr",
     "output_type": "stream",
     "text": [
      " 63%|██████████████████████████▌               | 81/128 [27:02<15:41, 20.03s/it]Process Process-77:\n",
      "Traceback (most recent call last):\n",
      "  File \"/home/user/anaconda3/lib/python3.8/multiprocessing/process.py\", line 315, in _bootstrap\n",
      "    self.run()\n",
      "  File \"/home/user/anaconda3/lib/python3.8/multiprocessing/process.py\", line 108, in run\n",
      "    self._target(*self._args, **self._kwargs)\n",
      "  File \"/home/user/Projects/zymCTRL/blast.py\", line 34, in blast\n",
      "    driver.find_element(\"link text\", \"Text\").click()\n",
      "  File \"/home/user/anaconda3/lib/python3.8/site-packages/selenium/webdriver/remote/webdriver.py\", line 855, in find_element\n",
      "    return self.execute(Command.FIND_ELEMENT, {\n",
      "  File \"/home/user/anaconda3/lib/python3.8/site-packages/selenium/webdriver/remote/webdriver.py\", line 428, in execute\n",
      "    self.error_handler.check_response(response)\n",
      "  File \"/home/user/anaconda3/lib/python3.8/site-packages/selenium/webdriver/remote/errorhandler.py\", line 243, in check_response\n",
      "    raise exception_class(message, screen, stacktrace)\n",
      "selenium.common.exceptions.NoSuchElementException: Message: Unable to locate element: Text\n",
      "Stacktrace:\n",
      "RemoteError@chrome://remote/content/shared/RemoteError.sys.mjs:8:8\n",
      "WebDriverError@chrome://remote/content/shared/webdriver/Errors.sys.mjs:182:5\n",
      "NoSuchElementError@chrome://remote/content/shared/webdriver/Errors.sys.mjs:394:5\n",
      "element.find/</<@chrome://remote/content/marionette/element.sys.mjs:280:16\n",
      "\n"
     ]
    },
    {
     "name": "stdout",
     "output_type": "stream",
     "text": [
      "Finished Blast and Download\n"
     ]
    },
    {
     "name": "stderr",
     "output_type": "stream",
     "text": [
      " 65%|███████████████████████████▏              | 83/128 [27:42<15:01, 20.03s/it]"
     ]
    },
    {
     "name": "stdout",
     "output_type": "stream",
     "text": [
      "Finished Blast and Download\n"
     ]
    },
    {
     "name": "stderr",
     "output_type": "stream",
     "text": [
      " 66%|███████████████████████████▌              | 84/128 [28:02<14:41, 20.03s/it]"
     ]
    },
    {
     "name": "stdout",
     "output_type": "stream",
     "text": [
      "Finished Blast and Download\n"
     ]
    },
    {
     "name": "stderr",
     "output_type": "stream",
     "text": [
      " 66%|███████████████████████████▉              | 85/128 [28:22<14:21, 20.03s/it]"
     ]
    },
    {
     "name": "stdout",
     "output_type": "stream",
     "text": [
      "Finished Blast and Download\n"
     ]
    },
    {
     "name": "stderr",
     "output_type": "stream",
     "text": [
      " 67%|████████████████████████████▏             | 86/128 [28:42<14:01, 20.03s/it]"
     ]
    },
    {
     "name": "stdout",
     "output_type": "stream",
     "text": [
      "Finished Blast and Download\n",
      "Finished Blast and Download\n"
     ]
    },
    {
     "name": "stderr",
     "output_type": "stream",
     "text": [
      " 70%|█████████████████████████████▏            | 89/128 [29:42<13:01, 20.03s/it]"
     ]
    },
    {
     "name": "stdout",
     "output_type": "stream",
     "text": [
      "Finished Blast and Download\n"
     ]
    },
    {
     "name": "stderr",
     "output_type": "stream",
     "text": [
      " 70%|█████████████████████████████▌            | 90/128 [30:02<12:41, 20.03s/it]"
     ]
    },
    {
     "name": "stdout",
     "output_type": "stream",
     "text": [
      "Finished Blast and Download\n",
      "Finished Blast and Download\n"
     ]
    },
    {
     "name": "stderr",
     "output_type": "stream",
     "text": [
      " 71%|█████████████████████████████▊            | 91/128 [30:22<12:21, 20.03s/it]"
     ]
    },
    {
     "name": "stdout",
     "output_type": "stream",
     "text": [
      "Finished Blast and Download\n"
     ]
    },
    {
     "name": "stderr",
     "output_type": "stream",
     "text": [
      " 72%|██████████████████████████████▏           | 92/128 [30:42<12:01, 20.03s/it]"
     ]
    },
    {
     "name": "stdout",
     "output_type": "stream",
     "text": [
      "Finished Blast and Download\n"
     ]
    },
    {
     "name": "stderr",
     "output_type": "stream",
     "text": [
      " 73%|██████████████████████████████▌           | 93/128 [31:02<11:40, 20.03s/it]"
     ]
    },
    {
     "name": "stdout",
     "output_type": "stream",
     "text": [
      "Finished Blast and Download\n"
     ]
    },
    {
     "name": "stderr",
     "output_type": "stream",
     "text": [
      " 73%|██████████████████████████████▊           | 94/128 [31:22<11:20, 20.03s/it]"
     ]
    },
    {
     "name": "stdout",
     "output_type": "stream",
     "text": [
      "Finished Blast and Download\n",
      "Finished Blast and Download\n"
     ]
    },
    {
     "name": "stderr",
     "output_type": "stream",
     "text": [
      " 74%|███████████████████████████████▏          | 95/128 [31:42<11:00, 20.03s/it]"
     ]
    },
    {
     "name": "stdout",
     "output_type": "stream",
     "text": [
      "Finished Blast and Download\n"
     ]
    },
    {
     "name": "stderr",
     "output_type": "stream",
     "text": [
      " 76%|███████████████████████████████▊          | 97/128 [32:22<10:20, 20.03s/it]"
     ]
    },
    {
     "name": "stdout",
     "output_type": "stream",
     "text": [
      "Finished Blast and Download\n"
     ]
    },
    {
     "name": "stderr",
     "output_type": "stream",
     "text": [
      " 77%|████████████████████████████████▏         | 98/128 [32:42<10:01, 20.04s/it]"
     ]
    },
    {
     "name": "stdout",
     "output_type": "stream",
     "text": [
      "Finished Blast and Download\n"
     ]
    },
    {
     "name": "stderr",
     "output_type": "stream",
     "text": [
      " 79%|████████████████████████████████▎        | 101/128 [33:42<09:00, 20.03s/it]"
     ]
    },
    {
     "name": "stdout",
     "output_type": "stream",
     "text": [
      "Finished Blast and Download\n"
     ]
    },
    {
     "name": "stderr",
     "output_type": "stream",
     "text": [
      " 80%|████████████████████████████████▋        | 102/128 [34:02<08:40, 20.03s/it]"
     ]
    },
    {
     "name": "stdout",
     "output_type": "stream",
     "text": [
      "Finished Blast and Download\n"
     ]
    },
    {
     "name": "stderr",
     "output_type": "stream",
     "text": [
      " 80%|████████████████████████████████▉        | 103/128 [34:22<08:20, 20.03s/it]"
     ]
    },
    {
     "name": "stdout",
     "output_type": "stream",
     "text": [
      "Finished Blast and Download\n"
     ]
    },
    {
     "name": "stderr",
     "output_type": "stream",
     "text": [
      " 82%|█████████████████████████████████▋       | 105/128 [35:02<07:40, 20.03s/it]"
     ]
    },
    {
     "name": "stdout",
     "output_type": "stream",
     "text": [
      "Finished Blast and Download\n"
     ]
    },
    {
     "name": "stderr",
     "output_type": "stream",
     "text": [
      " 83%|█████████████████████████████████▉       | 106/128 [35:23<07:20, 20.03s/it]"
     ]
    },
    {
     "name": "stdout",
     "output_type": "stream",
     "text": [
      "Finished Blast and Download\n"
     ]
    },
    {
     "name": "stderr",
     "output_type": "stream",
     "text": [
      " 84%|██████████████████████████████████▎      | 107/128 [35:43<07:00, 20.03s/it]"
     ]
    },
    {
     "name": "stdout",
     "output_type": "stream",
     "text": [
      "Finished Blast and Download\n"
     ]
    },
    {
     "name": "stderr",
     "output_type": "stream",
     "text": [
      " 85%|██████████████████████████████████▉      | 109/128 [36:23<06:20, 20.03s/it]"
     ]
    },
    {
     "name": "stdout",
     "output_type": "stream",
     "text": [
      "Finished Blast and Download\n"
     ]
    },
    {
     "name": "stderr",
     "output_type": "stream",
     "text": [
      " 86%|███████████████████████████████████▏     | 110/128 [36:43<06:00, 20.03s/it]"
     ]
    },
    {
     "name": "stdout",
     "output_type": "stream",
     "text": [
      "Finished Blast and Download\n"
     ]
    },
    {
     "name": "stderr",
     "output_type": "stream",
     "text": [
      " 87%|███████████████████████████████████▌     | 111/128 [37:03<05:40, 20.03s/it]"
     ]
    },
    {
     "name": "stdout",
     "output_type": "stream",
     "text": [
      "Finished Blast and Download\n",
      "Finished Blast and Download\n"
     ]
    },
    {
     "name": "stderr",
     "output_type": "stream",
     "text": [
      " 88%|███████████████████████████████████▉     | 112/128 [37:23<05:20, 20.03s/it]"
     ]
    },
    {
     "name": "stdout",
     "output_type": "stream",
     "text": [
      "Finished Blast and Download\n",
      "Finished Blast and Download\n"
     ]
    },
    {
     "name": "stderr",
     "output_type": "stream",
     "text": [
      " 88%|████████████████████████████████████▏    | 113/128 [37:43<05:00, 20.03s/it]"
     ]
    },
    {
     "name": "stdout",
     "output_type": "stream",
     "text": [
      "Finished Blast and Download\n"
     ]
    },
    {
     "name": "stderr",
     "output_type": "stream",
     "text": [
      " 90%|████████████████████████████████████▊    | 115/128 [38:23<04:20, 20.03s/it]"
     ]
    },
    {
     "name": "stdout",
     "output_type": "stream",
     "text": [
      "Finished Blast and Download\n"
     ]
    },
    {
     "name": "stderr",
     "output_type": "stream",
     "text": [
      " 91%|█████████████████████████████████████▍   | 117/128 [39:03<03:40, 20.03s/it]"
     ]
    },
    {
     "name": "stdout",
     "output_type": "stream",
     "text": [
      "Finished Blast and Download\n"
     ]
    },
    {
     "name": "stderr",
     "output_type": "stream",
     "text": [
      " 93%|██████████████████████████████████████   | 119/128 [39:43<03:00, 20.03s/it]"
     ]
    },
    {
     "name": "stdout",
     "output_type": "stream",
     "text": [
      "Finished Blast and Download\n",
      "Finished Blast and Download\n"
     ]
    },
    {
     "name": "stderr",
     "output_type": "stream",
     "text": [
      " 94%|██████████████████████████████████████▍  | 120/128 [40:03<02:40, 20.03s/it]"
     ]
    },
    {
     "name": "stdout",
     "output_type": "stream",
     "text": [
      "Finished Blast and Download\n",
      "Finished Blast and Download\n"
     ]
    },
    {
     "name": "stderr",
     "output_type": "stream",
     "text": [
      " 95%|██████████████████████████████████████▊  | 121/128 [40:23<02:20, 20.03s/it]"
     ]
    },
    {
     "name": "stdout",
     "output_type": "stream",
     "text": [
      "Finished Blast and Download\n"
     ]
    },
    {
     "name": "stderr",
     "output_type": "stream",
     "text": [
      " 95%|███████████████████████████████████████  | 122/128 [40:43<02:00, 20.03s/it]"
     ]
    },
    {
     "name": "stdout",
     "output_type": "stream",
     "text": [
      "Finished Blast and Download\n"
     ]
    },
    {
     "name": "stderr",
     "output_type": "stream",
     "text": [
      " 96%|███████████████████████████████████████▍ | 123/128 [41:03<01:40, 20.03s/it]"
     ]
    },
    {
     "name": "stdout",
     "output_type": "stream",
     "text": [
      "Finished Blast and Download\n"
     ]
    },
    {
     "name": "stderr",
     "output_type": "stream",
     "text": [
      " 97%|███████████████████████████████████████▋ | 124/128 [41:23<01:20, 20.03s/it]"
     ]
    },
    {
     "name": "stdout",
     "output_type": "stream",
     "text": [
      "Finished Blast and Download\n",
      "Finished Blast and Download\n"
     ]
    },
    {
     "name": "stderr",
     "output_type": "stream",
     "text": [
      " 98%|████████████████████████████████████████▎| 126/128 [42:03<00:40, 20.03s/it]"
     ]
    },
    {
     "name": "stdout",
     "output_type": "stream",
     "text": [
      "Finished Blast and Download\n"
     ]
    },
    {
     "name": "stderr",
     "output_type": "stream",
     "text": [
      " 99%|████████████████████████████████████████▋| 127/128 [42:23<00:20, 20.03s/it]Process Process-122:\n",
      "Traceback (most recent call last):\n",
      "  File \"/home/user/anaconda3/lib/python3.8/multiprocessing/process.py\", line 315, in _bootstrap\n",
      "    self.run()\n",
      "  File \"/home/user/anaconda3/lib/python3.8/multiprocessing/process.py\", line 108, in run\n",
      "    self._target(*self._args, **self._kwargs)\n",
      "  File \"/home/user/Projects/zymCTRL/blast.py\", line 34, in blast\n",
      "    driver.find_element(\"link text\", \"Text\").click()\n",
      "  File \"/home/user/anaconda3/lib/python3.8/site-packages/selenium/webdriver/remote/webdriver.py\", line 855, in find_element\n",
      "    return self.execute(Command.FIND_ELEMENT, {\n",
      "  File \"/home/user/anaconda3/lib/python3.8/site-packages/selenium/webdriver/remote/webdriver.py\", line 428, in execute\n",
      "    self.error_handler.check_response(response)\n",
      "  File \"/home/user/anaconda3/lib/python3.8/site-packages/selenium/webdriver/remote/errorhandler.py\", line 243, in check_response\n",
      "    raise exception_class(message, screen, stacktrace)\n",
      "selenium.common.exceptions.NoSuchElementException: Message: Unable to locate element: Text\n",
      "Stacktrace:\n",
      "RemoteError@chrome://remote/content/shared/RemoteError.sys.mjs:8:8\n",
      "WebDriverError@chrome://remote/content/shared/webdriver/Errors.sys.mjs:182:5\n",
      "NoSuchElementError@chrome://remote/content/shared/webdriver/Errors.sys.mjs:394:5\n",
      "element.find/</<@chrome://remote/content/marionette/element.sys.mjs:280:16\n",
      "\n"
     ]
    },
    {
     "name": "stdout",
     "output_type": "stream",
     "text": [
      "Finished Blast and Download\n"
     ]
    },
    {
     "name": "stderr",
     "output_type": "stream",
     "text": [
      "100%|█████████████████████████████████████████| 128/128 [42:43<00:00, 20.03s/it]\n"
     ]
    },
    {
     "name": "stdout",
     "output_type": "stream",
     "text": [
      "Finished Blast and Download\n",
      "Finished Blast and Download\n",
      "Finished Blast and Download\n",
      "Finished Blast and Download\n",
      "Finished Blast and Download\n",
      "Finished Blast and Download\n"
     ]
    },
    {
     "name": "stderr",
     "output_type": "stream",
     "text": [
      "Process Process-123:\n",
      "Traceback (most recent call last):\n",
      "  File \"/home/user/anaconda3/lib/python3.8/multiprocessing/process.py\", line 315, in _bootstrap\n",
      "    self.run()\n",
      "  File \"/home/user/anaconda3/lib/python3.8/multiprocessing/process.py\", line 108, in run\n",
      "    self._target(*self._args, **self._kwargs)\n",
      "  File \"/home/user/Projects/zymCTRL/blast.py\", line 34, in blast\n",
      "    driver.find_element(\"link text\", \"Text\").click()\n",
      "  File \"/home/user/anaconda3/lib/python3.8/site-packages/selenium/webdriver/remote/webdriver.py\", line 855, in find_element\n",
      "    return self.execute(Command.FIND_ELEMENT, {\n",
      "  File \"/home/user/anaconda3/lib/python3.8/site-packages/selenium/webdriver/remote/webdriver.py\", line 428, in execute\n",
      "    self.error_handler.check_response(response)\n",
      "  File \"/home/user/anaconda3/lib/python3.8/site-packages/selenium/webdriver/remote/errorhandler.py\", line 243, in check_response\n",
      "    raise exception_class(message, screen, stacktrace)\n",
      "selenium.common.exceptions.NoSuchElementException: Message: Unable to locate element: Text\n",
      "Stacktrace:\n",
      "RemoteError@chrome://remote/content/shared/RemoteError.sys.mjs:8:8\n",
      "WebDriverError@chrome://remote/content/shared/webdriver/Errors.sys.mjs:182:5\n",
      "NoSuchElementError@chrome://remote/content/shared/webdriver/Errors.sys.mjs:394:5\n",
      "element.find/</<@chrome://remote/content/marionette/element.sys.mjs:280:16\n",
      "\n"
     ]
    },
    {
     "name": "stdout",
     "output_type": "stream",
     "text": [
      "Finished Blast and Download\n",
      "Finished Blast and Download\n",
      "Finished Blast and Download\n",
      "Finished Blast and Download\n",
      "Finished Blast and Download\n",
      "Finished Blast and Download\n",
      "Finished Blast and Download\n",
      "Finished Blast and Download\n",
      "Finished Blast and Download\n",
      "Finished Blast and Download\n",
      "Finished Blast and Download\n",
      "Finished Blast and Download\n",
      "Finished Blast and Download\n",
      "Finished Blast and Download\n",
      "Finished Blast and Download\n",
      "Finished Blast and Download\n",
      "Finished Blast and Download\n",
      "Finished Blast and Download\n",
      "Finished Blast and Download\n",
      "Finished Blast and Download\n",
      "Finished Blast and Download\n",
      "Finished Blast and Download\n"
     ]
    },
    {
     "name": "stderr",
     "output_type": "stream",
     "text": [
      "Process Process-80:\n",
      "Traceback (most recent call last):\n",
      "  File \"/home/user/anaconda3/lib/python3.8/multiprocessing/process.py\", line 315, in _bootstrap\n",
      "    self.run()\n",
      "  File \"/home/user/anaconda3/lib/python3.8/multiprocessing/process.py\", line 108, in run\n",
      "    self._target(*self._args, **self._kwargs)\n",
      "  File \"/home/user/Projects/zymCTRL/blast.py\", line 32, in blast\n",
      "    item = WebDriverWait(driver, 10000, 30).until(EC.presence_of_element_located((By.ID, 'ulDnldAl'))).click()\n",
      "  File \"/home/user/anaconda3/lib/python3.8/site-packages/selenium/webdriver/support/wait.py\", line 81, in until\n",
      "    value = method(self._driver)\n",
      "  File \"/home/user/anaconda3/lib/python3.8/site-packages/selenium/webdriver/support/expected_conditions.py\", line 64, in _predicate\n",
      "    return driver.find_element(*locator)\n",
      "  File \"/home/user/anaconda3/lib/python3.8/site-packages/selenium/webdriver/remote/webdriver.py\", line 855, in find_element\n",
      "    return self.execute(Command.FIND_ELEMENT, {\n",
      "  File \"/home/user/anaconda3/lib/python3.8/site-packages/selenium/webdriver/remote/webdriver.py\", line 428, in execute\n",
      "    self.error_handler.check_response(response)\n",
      "  File \"/home/user/anaconda3/lib/python3.8/site-packages/selenium/webdriver/remote/errorhandler.py\", line 243, in check_response\n",
      "    raise exception_class(message, screen, stacktrace)\n",
      "selenium.common.exceptions.WebDriverException: Message: Failed to decode response from marionette\n",
      "\n"
     ]
    }
   ],
   "source": [
    "processes = {}\n",
    "for i in tqdm(range(splits)):\n",
    "    time.sleep(20)\n",
    "    processes[f'process{i}'] = multiprocessing.Process(target=blast.blast, args=(splited_fasta[i],))\n",
    "    processes[f'process{i}'].start()"
   ]
  },
  {
   "cell_type": "code",
   "execution_count": null,
   "id": "96ece141-bcb5-4a21-be1c-c6c7ad8d6930",
   "metadata": {},
   "outputs": [],
   "source": [
    "# 4.2.1.1_450_3 missing"
   ]
  },
  {
   "cell_type": "code",
   "execution_count": 13,
   "id": "e098be15-42cf-406d-84ce-7559179fcf18",
   "metadata": {
    "collapsed": true,
    "jupyter": {
     "outputs_hidden": true
    },
    "tags": []
   },
   "outputs": [
    {
     "ename": "KeyboardInterrupt",
     "evalue": "",
     "output_type": "error",
     "traceback": [
      "\u001b[0;31m---------------------------------------------------------------------------\u001b[0m",
      "\u001b[0;31mKeyboardInterrupt\u001b[0m                         Traceback (most recent call last)",
      "Input \u001b[0;32mIn [13]\u001b[0m, in \u001b[0;36m<cell line: 1>\u001b[0;34m()\u001b[0m\n\u001b[0;32m----> 1\u001b[0m \u001b[43mblast\u001b[49m\u001b[38;5;241;43m.\u001b[39;49m\u001b[43mblast\u001b[49m\u001b[43m(\u001b[49m\u001b[43mrest\u001b[49m\u001b[43m[\u001b[49m\u001b[38;5;241;43m0\u001b[39;49m\u001b[43m]\u001b[49m\u001b[43m)\u001b[49m\n",
      "File \u001b[0;32m~/Projects/zymCTRL/blast.py:35\u001b[0m, in \u001b[0;36mblast\u001b[0;34m(seqs)\u001b[0m\n\u001b[1;32m     33\u001b[0m time\u001b[38;5;241m.\u001b[39msleep(\u001b[38;5;241m5\u001b[39m)\n\u001b[1;32m     34\u001b[0m driver\u001b[38;5;241m.\u001b[39mfind_element(\u001b[38;5;124m\"\u001b[39m\u001b[38;5;124mlink text\u001b[39m\u001b[38;5;124m\"\u001b[39m, \u001b[38;5;124m\"\u001b[39m\u001b[38;5;124mText\u001b[39m\u001b[38;5;124m\"\u001b[39m)\u001b[38;5;241m.\u001b[39mclick()\n\u001b[0;32m---> 35\u001b[0m \u001b[43mtime\u001b[49m\u001b[38;5;241;43m.\u001b[39;49m\u001b[43msleep\u001b[49m\u001b[43m(\u001b[49m\u001b[38;5;241;43m480\u001b[39;49m\u001b[43m)\u001b[49m\n\u001b[1;32m     36\u001b[0m \u001b[38;5;28mprint\u001b[39m(\u001b[38;5;124m'\u001b[39m\u001b[38;5;124mFinished Blast and Download\u001b[39m\u001b[38;5;124m'\u001b[39m)\n\u001b[1;32m     37\u001b[0m driver\u001b[38;5;241m.\u001b[39mquit()\n",
      "\u001b[0;31mKeyboardInterrupt\u001b[0m: "
     ]
    }
   ],
   "source": [
    "blast.blast(rest[0])\n",
    "#blast.blast([i for i in splited_fasta if i[0].startswith(\">7.5.2.12\")][0])\n",
    "#1.2897179598730912, 3.1.1.4"
   ]
  },
  {
   "cell_type": "code",
   "execution_count": 65,
   "id": "d3f09ccc-f42a-47dd-9a9f-708ceeff920e",
   "metadata": {},
   "outputs": [
    {
     "data": {
      "text/plain": [
       "[]"
      ]
     },
     "execution_count": 65,
     "metadata": {},
     "output_type": "execute_result"
    }
   ],
   "source": [
    "[i for i in splited_fasta if i[0].startswith(\">1.2897179598730912\")]"
   ]
  },
  {
   "cell_type": "code",
   "execution_count": null,
   "id": "5e8a85c4-8378-49a5-8240-0881e02c033e",
   "metadata": {},
   "outputs": [],
   "source": [
    "print(f\"Progress: {round((len(open('0_out_generated.fasta','r').readlines())/len(splitted_ls[0]))/2,2)*100}%\")"
   ]
  },
  {
   "cell_type": "code",
   "execution_count": 14,
   "id": "57a9b4e6-a6d3-4d5d-b911-4e9f07187be9",
   "metadata": {},
   "outputs": [],
   "source": [
    "#files = [file for file in glob.glob(\"/home/user/Downloads/natural/*-Alignment.txt\")] #generated\n",
    "files = [file for file in glob.glob(\"/home/user/Downloads/carboanhydrases_selection/*-Alignment.txt\")] #natural"
   ]
  },
  {
   "cell_type": "code",
   "execution_count": 15,
   "id": "b0fbcb77-7a1d-4697-9dfc-5ae2fd2eb268",
   "metadata": {},
   "outputs": [],
   "source": [
    "header = [\"Description\", \t\"Name\", \t\"Name\", \t\"Taxid\", \t\"Score\", \t\"Score\", \t\"cover\", \t\"Value\", \t\"Ident\", \t\"Len\", \t\"Accession\"]\n",
    "blast_res = pd.DataFrame(columns=header)"
   ]
  },
  {
   "cell_type": "code",
   "execution_count": 25,
   "id": "2b847561-189d-48e0-a899-a2dd2e77ce47",
   "metadata": {},
   "outputs": [],
   "source": [
    "done = []\n",
    "for file in files:\n",
    "    data = open(file,'r').readlines()\n",
    "    for i in data:\n",
    "        if i.startswith('Query #'):\n",
    "            done.append(i)"
   ]
  },
  {
   "cell_type": "code",
   "execution_count": 26,
   "id": "faa8bd6a-09fa-4ee3-916f-9830b2151fa2",
   "metadata": {
    "collapsed": true,
    "jupyter": {
     "outputs_hidden": true
    },
    "tags": []
   },
   "outputs": [
    {
     "ename": "IndexError",
     "evalue": "list index out of range",
     "output_type": "error",
     "traceback": [
      "\u001b[0;31m---------------------------------------------------------------------------\u001b[0m",
      "\u001b[0;31mIndexError\u001b[0m                                Traceback (most recent call last)",
      "Input \u001b[0;32mIn [26]\u001b[0m, in \u001b[0;36m<cell line: 4>\u001b[0;34m()\u001b[0m\n\u001b[1;32m      3\u001b[0m sel \u001b[38;5;241m=\u001b[39m []\n\u001b[1;32m      4\u001b[0m \u001b[38;5;28;01mfor\u001b[39;00m i \u001b[38;5;129;01min\u001b[39;00m done:\n\u001b[0;32m----> 5\u001b[0m     _ \u001b[38;5;241m=\u001b[39m \u001b[43mi\u001b[49m\u001b[38;5;241;43m.\u001b[39;49m\u001b[43msplit\u001b[49m\u001b[43m(\u001b[49m\u001b[38;5;124;43m'\u001b[39;49m\u001b[38;5;124;43m(\u001b[39;49m\u001b[38;5;124;43m'\u001b[39;49m\u001b[43m)\u001b[49m\u001b[43m[\u001b[49m\u001b[38;5;241;43m1\u001b[39;49m\u001b[43m]\u001b[49m\u001b[38;5;241m.\u001b[39msplit(\u001b[38;5;124m'\u001b[39m\u001b[38;5;124mQuery\u001b[39m\u001b[38;5;124m'\u001b[39m)[\u001b[38;5;241m0\u001b[39m]\u001b[38;5;66;03m#\u001b[39;00m\n\u001b[1;32m      6\u001b[0m     sel\u001b[38;5;241m.\u001b[39mappend(_[:\u001b[38;5;241m-\u001b[39m\u001b[38;5;241m1\u001b[39m])\n\u001b[1;32m      7\u001b[0m     _ \u001b[38;5;241m=\u001b[39m _\u001b[38;5;241m.\u001b[39msplit(\u001b[38;5;124m'\u001b[39m\u001b[38;5;124m, \u001b[39m\u001b[38;5;124m'\u001b[39m)\n",
      "\u001b[0;31mIndexError\u001b[0m: list index out of range"
     ]
    }
   ],
   "source": [
    "ppl = []\n",
    "EC = []\n",
    "sel = []\n",
    "for i in done:\n",
    "    _ = i.split('(')[1].split('Query')[0]#\n",
    "    sel.append(_[:-1])\n",
    "    _ = _.split(', ')\n",
    "    ppl.append(_[0])\n",
    "    EC.append(_[1].replace(' ',''))"
   ]
  },
  {
   "cell_type": "code",
   "execution_count": 16,
   "id": "100a3166-5e94-42e3-97d3-8b71f9c6d8ed",
   "metadata": {
    "collapsed": true,
    "jupyter": {
     "outputs_hidden": true
    },
    "tags": []
   },
   "outputs": [
    {
     "ename": "AttributeError",
     "evalue": "'list' object has no attribute 'split'",
     "output_type": "error",
     "traceback": [
      "\u001b[0;31m---------------------------------------------------------------------------\u001b[0m",
      "\u001b[0;31mAttributeError\u001b[0m                            Traceback (most recent call last)",
      "Input \u001b[0;32mIn [16]\u001b[0m, in \u001b[0;36m<cell line: 2>\u001b[0;34m()\u001b[0m\n\u001b[1;32m      1\u001b[0m EC \u001b[38;5;241m=\u001b[39m []\n\u001b[1;32m      2\u001b[0m \u001b[38;5;28;01mfor\u001b[39;00m i \u001b[38;5;129;01min\u001b[39;00m rest:\n\u001b[0;32m----> 3\u001b[0m     EC\u001b[38;5;241m.\u001b[39mappend(\u001b[43mi\u001b[49m\u001b[38;5;241;43m.\u001b[39;49m\u001b[43msplit\u001b[49m(\u001b[38;5;124m'\u001b[39m\u001b[38;5;130;01m\\n\u001b[39;00m\u001b[38;5;124m'\u001b[39m)[\u001b[38;5;241m0\u001b[39m])\n",
      "\u001b[0;31mAttributeError\u001b[0m: 'list' object has no attribute 'split'"
     ]
    }
   ],
   "source": [
    "EC = []\n",
    "for i in rest:\n",
    "    EC.append(i.split('\\n')[0])"
   ]
  },
  {
   "cell_type": "code",
   "execution_count": 17,
   "id": "a26d6ef1-d5b1-4889-ac58-0fd3c0bdfafd",
   "metadata": {},
   "outputs": [],
   "source": [
    "for file in files:\n",
    "    with open(f'{file}','r') as fn:\n",
    "        data = fn.readlines()\n",
    "        res = [idx  for idx,i in enumerate(data) if i.startswith('Sequences producing significant alignments:')]\n",
    "        res = [data[i+3].rsplit(None,10) for i in res]\n",
    "        nothing = [idx  for idx,i in enumerate(data) if i.startswith('No significant similarity found')]\n",
    "    for i in res:\n",
    "        blast_res.loc[len(blast_res)] = i\n",
    "    for i in nothing:\n",
    "        if nothing:\n",
    "            blast_res.loc[len(blast_res)] = list([data[i-2]]+['0.0' for i in range(len(list(blast_res.columns))-1)])"
   ]
  },
  {
   "cell_type": "code",
   "execution_count": 18,
   "id": "548a75f9-15f0-423b-93b3-39546db6be3c",
   "metadata": {},
   "outputs": [],
   "source": [
    "for i in EC:\n",
    "        blast_res.loc[len(blast_res)] = list([i[2:]]+['0.0' for i in range(len(list(blast_res.columns))-1)])"
   ]
  },
  {
   "cell_type": "code",
   "execution_count": 37,
   "id": "cfb899b4-b93d-4fc2-b2bc-92cea6734998",
   "metadata": {
    "tags": []
   },
   "outputs": [],
   "source": [
    "blast_res[\"Name\"] = [i.replace('\\n','').replace('>','') for i in list(new_fasta.keys())]"
   ]
  },
  {
   "cell_type": "code",
   "execution_count": 38,
   "id": "c74d29f1-38a3-44e9-afe6-71eb573c6e63",
   "metadata": {},
   "outputs": [
    {
     "data": {
      "text/html": [
       "<div>\n",
       "<style scoped>\n",
       "    .dataframe tbody tr th:only-of-type {\n",
       "        vertical-align: middle;\n",
       "    }\n",
       "\n",
       "    .dataframe tbody tr th {\n",
       "        vertical-align: top;\n",
       "    }\n",
       "\n",
       "    .dataframe thead th {\n",
       "        text-align: right;\n",
       "    }\n",
       "</style>\n",
       "<table border=\"1\" class=\"dataframe\">\n",
       "  <thead>\n",
       "    <tr style=\"text-align: right;\">\n",
       "      <th></th>\n",
       "      <th>Description</th>\n",
       "      <th>Name</th>\n",
       "      <th>Name</th>\n",
       "      <th>Taxid</th>\n",
       "      <th>Score</th>\n",
       "      <th>Score</th>\n",
       "      <th>cover</th>\n",
       "      <th>Value</th>\n",
       "      <th>Ident</th>\n",
       "      <th>Len</th>\n",
       "      <th>Accession</th>\n",
       "      <th>EC</th>\n",
       "    </tr>\n",
       "  </thead>\n",
       "  <tbody>\n",
       "    <tr>\n",
       "      <th>0</th>\n",
       "      <td>CAH5B anhydrase [Aegithalos caudatus]         ...</td>\n",
       "      <td>4.2.1.1_0_67</td>\n",
       "      <td>4.2.1.1_0_67</td>\n",
       "      <td>73327</td>\n",
       "      <td>329</td>\n",
       "      <td>329</td>\n",
       "      <td>100%</td>\n",
       "      <td>9e-114</td>\n",
       "      <td>98.12</td>\n",
       "      <td>160</td>\n",
       "      <td>NWH86254.1</td>\n",
       "      <td>4.2.1.1_0_67</td>\n",
       "    </tr>\n",
       "    <tr>\n",
       "      <th>1</th>\n",
       "      <td>carbonic anhydrase [Mesorhizobium amorphae]</td>\n",
       "      <td>4.2.1.1_100_29</td>\n",
       "      <td>4.2.1.1_100_29</td>\n",
       "      <td>71433</td>\n",
       "      <td>434</td>\n",
       "      <td>434</td>\n",
       "      <td>100%</td>\n",
       "      <td>3e-153</td>\n",
       "      <td>96.73</td>\n",
       "      <td>214</td>\n",
       "      <td>WP_006201195.1</td>\n",
       "      <td>4.2.1.1_100_29</td>\n",
       "    </tr>\n",
       "    <tr>\n",
       "      <th>2</th>\n",
       "      <td>PREDICTED: carbonic anhydrase 13 [Gavia stella...</td>\n",
       "      <td>4.2.1.1_100_38</td>\n",
       "      <td>4.2.1.1_100_38</td>\n",
       "      <td>37040</td>\n",
       "      <td>514</td>\n",
       "      <td>514</td>\n",
       "      <td>100%</td>\n",
       "      <td>0.0</td>\n",
       "      <td>98.79</td>\n",
       "      <td>317</td>\n",
       "      <td>XP_009819373.1</td>\n",
       "      <td>4.2.1.1_100_38</td>\n",
       "    </tr>\n",
       "    <tr>\n",
       "      <th>3</th>\n",
       "      <td>carbonic anhydrase [Fusarium oxysporum f. sp. ...</td>\n",
       "      <td>4.2.1.1_100_40</td>\n",
       "      <td>4.2.1.1_100_40</td>\n",
       "      <td>1089458</td>\n",
       "      <td>468</td>\n",
       "      <td>468</td>\n",
       "      <td>100%</td>\n",
       "      <td>2e-165</td>\n",
       "      <td>98.65</td>\n",
       "      <td>287</td>\n",
       "      <td>EXK85418.1</td>\n",
       "      <td>4.2.1.1_100_40</td>\n",
       "    </tr>\n",
       "    <tr>\n",
       "      <th>4</th>\n",
       "      <td>carbonate dehydratase [Salmonella enterica sub...</td>\n",
       "      <td>4.2.1.1_100_50</td>\n",
       "      <td>4.2.1.1_100_50</td>\n",
       "      <td>48409</td>\n",
       "      <td>446</td>\n",
       "      <td>446</td>\n",
       "      <td>100%</td>\n",
       "      <td>8e-158</td>\n",
       "      <td>97.73</td>\n",
       "      <td>220</td>\n",
       "      <td>ECD5778030.1</td>\n",
       "      <td>4.2.1.1_100_50</td>\n",
       "    </tr>\n",
       "    <tr>\n",
       "      <th>...</th>\n",
       "      <td>...</td>\n",
       "      <td>...</td>\n",
       "      <td>...</td>\n",
       "      <td>...</td>\n",
       "      <td>...</td>\n",
       "      <td>...</td>\n",
       "      <td>...</td>\n",
       "      <td>...</td>\n",
       "      <td>...</td>\n",
       "      <td>...</td>\n",
       "      <td>...</td>\n",
       "      <td>...</td>\n",
       "    </tr>\n",
       "    <tr>\n",
       "      <th>2995</th>\n",
       "      <td>carbonate dehydratase [Bacteria]</td>\n",
       "      <td>4.2.1.1_9_28</td>\n",
       "      <td>4.2.1.1_9_28</td>\n",
       "      <td>2</td>\n",
       "      <td>456</td>\n",
       "      <td>456</td>\n",
       "      <td>100%</td>\n",
       "      <td>1e-161</td>\n",
       "      <td>99.09</td>\n",
       "      <td>220</td>\n",
       "      <td>WP_000651599.1</td>\n",
       "      <td>4.2.1.1_9_28</td>\n",
       "    </tr>\n",
       "    <tr>\n",
       "      <th>2996</th>\n",
       "      <td>CAH3 anhydrase [Callaeas wilsoni]             ...</td>\n",
       "      <td>4.2.1.1_9_36</td>\n",
       "      <td>4.2.1.1_9_36</td>\n",
       "      <td>1347786</td>\n",
       "      <td>539</td>\n",
       "      <td>539</td>\n",
       "      <td>100%</td>\n",
       "      <td>0.0</td>\n",
       "      <td>98.09</td>\n",
       "      <td>262</td>\n",
       "      <td>NXY61808.1</td>\n",
       "      <td>4.2.1.1_9_36</td>\n",
       "    </tr>\n",
       "    <tr>\n",
       "      <th>2997</th>\n",
       "      <td>Carbonic anhydrase [Pseudomonas amygdali pv. a...</td>\n",
       "      <td>4.2.1.1_9_40</td>\n",
       "      <td>4.2.1.1_9_40</td>\n",
       "      <td>251722</td>\n",
       "      <td>437</td>\n",
       "      <td>437</td>\n",
       "      <td>100%</td>\n",
       "      <td>4e-154</td>\n",
       "      <td>97.64</td>\n",
       "      <td>240</td>\n",
       "      <td>KPW07646.1</td>\n",
       "      <td>4.2.1.1_9_40</td>\n",
       "    </tr>\n",
       "    <tr>\n",
       "      <th>2998</th>\n",
       "      <td>1.54A Resolution Crystal Structure of a Beta-C...</td>\n",
       "      <td>4.2.1.1_9_66</td>\n",
       "      <td>4.2.1.1_9_66</td>\n",
       "      <td>99287</td>\n",
       "      <td>451</td>\n",
       "      <td>451</td>\n",
       "      <td>100%</td>\n",
       "      <td>4e-160</td>\n",
       "      <td>99.09</td>\n",
       "      <td>223</td>\n",
       "      <td>3QY1_A</td>\n",
       "      <td>4.2.1.1_9_66</td>\n",
       "    </tr>\n",
       "    <tr>\n",
       "      <th>2999</th>\n",
       "      <td>carbonic anhydrase [Mesorhizobium sp. B3-1-7]</td>\n",
       "      <td>4.2.1.1_9_70</td>\n",
       "      <td>4.2.1.1_9_70</td>\n",
       "      <td>2589894</td>\n",
       "      <td>431</td>\n",
       "      <td>431</td>\n",
       "      <td>99%</td>\n",
       "      <td>3e-152</td>\n",
       "      <td>97.18</td>\n",
       "      <td>213</td>\n",
       "      <td>WP_140785471.1</td>\n",
       "      <td>4.2.1.1_9_70</td>\n",
       "    </tr>\n",
       "  </tbody>\n",
       "</table>\n",
       "<p>3000 rows × 12 columns</p>\n",
       "</div>"
      ],
      "text/plain": [
       "                                            Description            Name  \\\n",
       "0     CAH5B anhydrase [Aegithalos caudatus]         ...    4.2.1.1_0_67   \n",
       "1           carbonic anhydrase [Mesorhizobium amorphae]  4.2.1.1_100_29   \n",
       "2     PREDICTED: carbonic anhydrase 13 [Gavia stella...  4.2.1.1_100_38   \n",
       "3     carbonic anhydrase [Fusarium oxysporum f. sp. ...  4.2.1.1_100_40   \n",
       "4     carbonate dehydratase [Salmonella enterica sub...  4.2.1.1_100_50   \n",
       "...                                                 ...             ...   \n",
       "2995                   carbonate dehydratase [Bacteria]    4.2.1.1_9_28   \n",
       "2996  CAH3 anhydrase [Callaeas wilsoni]             ...    4.2.1.1_9_36   \n",
       "2997  Carbonic anhydrase [Pseudomonas amygdali pv. a...    4.2.1.1_9_40   \n",
       "2998  1.54A Resolution Crystal Structure of a Beta-C...    4.2.1.1_9_66   \n",
       "2999      carbonic anhydrase [Mesorhizobium sp. B3-1-7]    4.2.1.1_9_70   \n",
       "\n",
       "                Name    Taxid Score Score cover   Value  Ident  Len  \\\n",
       "0       4.2.1.1_0_67    73327   329   329  100%  9e-114  98.12  160   \n",
       "1     4.2.1.1_100_29    71433   434   434  100%  3e-153  96.73  214   \n",
       "2     4.2.1.1_100_38    37040   514   514  100%     0.0  98.79  317   \n",
       "3     4.2.1.1_100_40  1089458   468   468  100%  2e-165  98.65  287   \n",
       "4     4.2.1.1_100_50    48409   446   446  100%  8e-158  97.73  220   \n",
       "...              ...      ...   ...   ...   ...     ...    ...  ...   \n",
       "2995    4.2.1.1_9_28        2   456   456  100%  1e-161  99.09  220   \n",
       "2996    4.2.1.1_9_36  1347786   539   539  100%     0.0  98.09  262   \n",
       "2997    4.2.1.1_9_40   251722   437   437  100%  4e-154  97.64  240   \n",
       "2998    4.2.1.1_9_66    99287   451   451  100%  4e-160  99.09  223   \n",
       "2999    4.2.1.1_9_70  2589894   431   431   99%  3e-152  97.18  213   \n",
       "\n",
       "           Accession              EC  \n",
       "0         NWH86254.1    4.2.1.1_0_67  \n",
       "1     WP_006201195.1  4.2.1.1_100_29  \n",
       "2     XP_009819373.1  4.2.1.1_100_38  \n",
       "3         EXK85418.1  4.2.1.1_100_40  \n",
       "4       ECD5778030.1  4.2.1.1_100_50  \n",
       "...              ...             ...  \n",
       "2995  WP_000651599.1    4.2.1.1_9_28  \n",
       "2996      NXY61808.1    4.2.1.1_9_36  \n",
       "2997      KPW07646.1    4.2.1.1_9_40  \n",
       "2998          3QY1_A    4.2.1.1_9_66  \n",
       "2999  WP_140785471.1    4.2.1.1_9_70  \n",
       "\n",
       "[3000 rows x 12 columns]"
      ]
     },
     "execution_count": 38,
     "metadata": {},
     "output_type": "execute_result"
    }
   ],
   "source": [
    "blast_res"
   ]
  },
  {
   "cell_type": "code",
   "execution_count": 31,
   "id": "a74dee12-d2c9-4455-a1ad-86bf7982d1d2",
   "metadata": {
    "collapsed": true,
    "jupyter": {
     "outputs_hidden": true
    },
    "tags": []
   },
   "outputs": [
    {
     "data": {
      "text/plain": [
       "[90.45,\n",
       " 91.4,\n",
       " 91.55,\n",
       " 92.0,\n",
       " 92.16,\n",
       " 92.16,\n",
       " 92.21,\n",
       " 92.27,\n",
       " 92.65,\n",
       " 92.69,\n",
       " 92.76,\n",
       " 92.96,\n",
       " 92.96,\n",
       " 93.0,\n",
       " 93.33,\n",
       " 93.36,\n",
       " 93.43,\n",
       " 93.43,\n",
       " 93.61,\n",
       " 93.63,\n",
       " 93.63,\n",
       " 93.77,\n",
       " 93.83,\n",
       " 93.84,\n",
       " 93.84,\n",
       " 93.84,\n",
       " 93.84,\n",
       " 93.84,\n",
       " 93.9,\n",
       " 93.9,\n",
       " 94.09,\n",
       " 94.24,\n",
       " 94.24,\n",
       " 94.31,\n",
       " 94.31,\n",
       " 94.31,\n",
       " 94.31,\n",
       " 94.31,\n",
       " 94.31,\n",
       " 94.31,\n",
       " 94.31,\n",
       " 94.31,\n",
       " 94.31,\n",
       " 94.34,\n",
       " 94.34,\n",
       " 94.37,\n",
       " 94.37,\n",
       " 94.38,\n",
       " 94.38,\n",
       " 94.39,\n",
       " 94.55,\n",
       " 94.65,\n",
       " 94.65,\n",
       " 94.65,\n",
       " 94.65,\n",
       " 94.65,\n",
       " 94.74,\n",
       " 94.79,\n",
       " 94.79,\n",
       " 94.79,\n",
       " 94.79,\n",
       " 94.79,\n",
       " 94.79,\n",
       " 94.81,\n",
       " 94.81,\n",
       " 94.81,\n",
       " 94.81,\n",
       " 94.81,\n",
       " 94.81,\n",
       " 94.86,\n",
       " 94.86,\n",
       " 94.86,\n",
       " 94.86,\n",
       " 94.86,\n",
       " 94.91,\n",
       " 94.91,\n",
       " 94.98,\n",
       " 94.98,\n",
       " 95.0,\n",
       " 95.0,\n",
       " 95.0,\n",
       " 95.06,\n",
       " 95.06,\n",
       " 95.06,\n",
       " 95.06,\n",
       " 95.1,\n",
       " 95.12,\n",
       " 95.13,\n",
       " 95.26,\n",
       " 95.26,\n",
       " 95.26,\n",
       " 95.26,\n",
       " 95.26,\n",
       " 95.26,\n",
       " 95.28,\n",
       " 95.28,\n",
       " 95.29,\n",
       " 95.31,\n",
       " 95.31,\n",
       " 95.31,\n",
       " 95.31,\n",
       " 95.31,\n",
       " 95.33,\n",
       " 95.33,\n",
       " 95.33,\n",
       " 95.33,\n",
       " 95.33,\n",
       " 95.33,\n",
       " 95.33,\n",
       " 95.33,\n",
       " 95.33,\n",
       " 95.33,\n",
       " 95.33,\n",
       " 95.33,\n",
       " 95.41,\n",
       " 95.43,\n",
       " 95.45,\n",
       " 95.45,\n",
       " 95.45,\n",
       " 95.45,\n",
       " 95.45,\n",
       " 95.45,\n",
       " 95.47,\n",
       " 95.47,\n",
       " 95.47,\n",
       " 95.47,\n",
       " 95.5,\n",
       " 95.61,\n",
       " 95.73,\n",
       " 95.73,\n",
       " 95.73,\n",
       " 95.73,\n",
       " 95.73,\n",
       " 95.73,\n",
       " 95.73,\n",
       " 95.75,\n",
       " 95.75,\n",
       " 95.75,\n",
       " 95.75,\n",
       " 95.75,\n",
       " 95.75,\n",
       " 95.75,\n",
       " 95.75,\n",
       " 95.75,\n",
       " 95.77,\n",
       " 95.77,\n",
       " 95.77,\n",
       " 95.77,\n",
       " 95.77,\n",
       " 95.77,\n",
       " 95.77,\n",
       " 95.77,\n",
       " 95.77,\n",
       " 95.77,\n",
       " 95.77,\n",
       " 95.77,\n",
       " 95.77,\n",
       " 95.77,\n",
       " 95.77,\n",
       " 95.79,\n",
       " 95.79,\n",
       " 95.79,\n",
       " 95.79,\n",
       " 95.79,\n",
       " 95.79,\n",
       " 95.79,\n",
       " 95.79,\n",
       " 95.79,\n",
       " 95.79,\n",
       " 95.79,\n",
       " 95.79,\n",
       " 95.79,\n",
       " 95.79,\n",
       " 95.79,\n",
       " 95.79,\n",
       " 95.88,\n",
       " 95.88,\n",
       " 95.88,\n",
       " 95.88,\n",
       " 95.89,\n",
       " 95.91,\n",
       " 95.91,\n",
       " 95.96,\n",
       " 95.97,\n",
       " 96.0,\n",
       " 96.0,\n",
       " 96.0,\n",
       " 96.02,\n",
       " 96.08,\n",
       " 96.08,\n",
       " 96.1,\n",
       " 96.1,\n",
       " 96.1,\n",
       " 96.1,\n",
       " 96.1,\n",
       " 96.1,\n",
       " 96.1,\n",
       " 96.1,\n",
       " 96.1,\n",
       " 96.1,\n",
       " 96.1,\n",
       " 96.1,\n",
       " 96.17,\n",
       " 96.18,\n",
       " 96.18,\n",
       " 96.18,\n",
       " 96.19,\n",
       " 96.21,\n",
       " 96.21,\n",
       " 96.21,\n",
       " 96.21,\n",
       " 96.21,\n",
       " 96.21,\n",
       " 96.21,\n",
       " 96.21,\n",
       " 96.21,\n",
       " 96.21,\n",
       " 96.21,\n",
       " 96.23,\n",
       " 96.23,\n",
       " 96.23,\n",
       " 96.23,\n",
       " 96.23,\n",
       " 96.23,\n",
       " 96.23,\n",
       " 96.23,\n",
       " 96.23,\n",
       " 96.23,\n",
       " 96.23,\n",
       " 96.23,\n",
       " 96.23,\n",
       " 96.23,\n",
       " 96.23,\n",
       " 96.23,\n",
       " 96.23,\n",
       " 96.23,\n",
       " 96.23,\n",
       " 96.23,\n",
       " 96.23,\n",
       " 96.24,\n",
       " 96.24,\n",
       " 96.24,\n",
       " 96.24,\n",
       " 96.24,\n",
       " 96.24,\n",
       " 96.24,\n",
       " 96.24,\n",
       " 96.24,\n",
       " 96.24,\n",
       " 96.24,\n",
       " 96.24,\n",
       " 96.24,\n",
       " 96.24,\n",
       " 96.25,\n",
       " 96.26,\n",
       " 96.26,\n",
       " 96.26,\n",
       " 96.26,\n",
       " 96.26,\n",
       " 96.26,\n",
       " 96.26,\n",
       " 96.26,\n",
       " 96.26,\n",
       " 96.26,\n",
       " 96.26,\n",
       " 96.26,\n",
       " 96.26,\n",
       " 96.26,\n",
       " 96.26,\n",
       " 96.26,\n",
       " 96.26,\n",
       " 96.26,\n",
       " 96.26,\n",
       " 96.26,\n",
       " 96.26,\n",
       " 96.26,\n",
       " 96.26,\n",
       " 96.26,\n",
       " 96.26,\n",
       " 96.26,\n",
       " 96.26,\n",
       " 96.26,\n",
       " 96.26,\n",
       " 96.26,\n",
       " 96.26,\n",
       " 96.26,\n",
       " 96.26,\n",
       " 96.26,\n",
       " 96.26,\n",
       " 96.26,\n",
       " 96.26,\n",
       " 96.26,\n",
       " 96.3,\n",
       " 96.3,\n",
       " 96.3,\n",
       " 96.33,\n",
       " 96.35,\n",
       " 96.35,\n",
       " 96.36,\n",
       " 96.36,\n",
       " 96.36,\n",
       " 96.36,\n",
       " 96.36,\n",
       " 96.36,\n",
       " 96.36,\n",
       " 96.38,\n",
       " 96.38,\n",
       " 96.39,\n",
       " 96.4,\n",
       " 96.41,\n",
       " 96.43,\n",
       " 96.43,\n",
       " 96.45,\n",
       " 96.46,\n",
       " 96.46,\n",
       " 96.47,\n",
       " 96.49,\n",
       " 96.49,\n",
       " 96.49,\n",
       " 96.49,\n",
       " 96.49,\n",
       " 96.49,\n",
       " 96.51,\n",
       " 96.54,\n",
       " 96.55,\n",
       " 96.56,\n",
       " 96.56,\n",
       " 96.56,\n",
       " 96.57,\n",
       " 96.59,\n",
       " 96.65,\n",
       " 96.67,\n",
       " 96.67,\n",
       " 96.67,\n",
       " 96.67,\n",
       " 96.68,\n",
       " 96.68,\n",
       " 96.68,\n",
       " 96.68,\n",
       " 96.68,\n",
       " 96.68,\n",
       " 96.68,\n",
       " 96.68,\n",
       " 96.68,\n",
       " 96.68,\n",
       " 96.7,\n",
       " 96.7,\n",
       " 96.7,\n",
       " 96.7,\n",
       " 96.7,\n",
       " 96.7,\n",
       " 96.7,\n",
       " 96.7,\n",
       " 96.7,\n",
       " 96.7,\n",
       " 96.7,\n",
       " 96.7,\n",
       " 96.7,\n",
       " 96.7,\n",
       " 96.7,\n",
       " 96.7,\n",
       " 96.7,\n",
       " 96.7,\n",
       " 96.7,\n",
       " 96.7,\n",
       " 96.7,\n",
       " 96.7,\n",
       " 96.7,\n",
       " 96.7,\n",
       " 96.7,\n",
       " 96.7,\n",
       " 96.7,\n",
       " 96.7,\n",
       " 96.7,\n",
       " 96.7,\n",
       " 96.7,\n",
       " 96.71,\n",
       " 96.71,\n",
       " 96.71,\n",
       " 96.71,\n",
       " 96.71,\n",
       " 96.71,\n",
       " 96.71,\n",
       " 96.71,\n",
       " 96.71,\n",
       " 96.71,\n",
       " 96.71,\n",
       " 96.71,\n",
       " 96.71,\n",
       " 96.71,\n",
       " 96.71,\n",
       " 96.71,\n",
       " 96.71,\n",
       " 96.71,\n",
       " 96.71,\n",
       " 96.71,\n",
       " 96.71,\n",
       " 96.71,\n",
       " 96.71,\n",
       " 96.71,\n",
       " 96.71,\n",
       " 96.71,\n",
       " 96.71,\n",
       " 96.71,\n",
       " 96.71,\n",
       " 96.71,\n",
       " 96.71,\n",
       " 96.71,\n",
       " 96.71,\n",
       " 96.71,\n",
       " 96.71,\n",
       " 96.71,\n",
       " 96.71,\n",
       " 96.71,\n",
       " 96.71,\n",
       " 96.71,\n",
       " 96.73,\n",
       " 96.73,\n",
       " 96.73,\n",
       " 96.73,\n",
       " 96.73,\n",
       " 96.73,\n",
       " 96.73,\n",
       " 96.73,\n",
       " 96.73,\n",
       " 96.73,\n",
       " 96.73,\n",
       " 96.73,\n",
       " 96.73,\n",
       " 96.73,\n",
       " 96.73,\n",
       " 96.73,\n",
       " 96.73,\n",
       " 96.73,\n",
       " 96.73,\n",
       " 96.73,\n",
       " 96.73,\n",
       " 96.73,\n",
       " 96.73,\n",
       " 96.73,\n",
       " 96.73,\n",
       " 96.73,\n",
       " 96.73,\n",
       " 96.73,\n",
       " 96.73,\n",
       " 96.73,\n",
       " 96.73,\n",
       " 96.73,\n",
       " 96.73,\n",
       " 96.73,\n",
       " 96.73,\n",
       " 96.73,\n",
       " 96.73,\n",
       " 96.73,\n",
       " 96.73,\n",
       " 96.73,\n",
       " 96.73,\n",
       " 96.73,\n",
       " 96.73,\n",
       " 96.76,\n",
       " 96.77,\n",
       " 96.77,\n",
       " 96.8,\n",
       " 96.8,\n",
       " 96.81,\n",
       " 96.82,\n",
       " 96.82,\n",
       " 96.82,\n",
       " 96.82,\n",
       " 96.82,\n",
       " 96.82,\n",
       " 96.82,\n",
       " 96.82,\n",
       " 96.82,\n",
       " 96.82,\n",
       " 96.82,\n",
       " 96.82,\n",
       " 96.82,\n",
       " 96.82,\n",
       " 96.82,\n",
       " 96.82,\n",
       " 96.83,\n",
       " 96.83,\n",
       " 96.83,\n",
       " 96.83,\n",
       " 96.83,\n",
       " 96.83,\n",
       " 96.83,\n",
       " 96.83,\n",
       " 96.83,\n",
       " 96.83,\n",
       " 96.85,\n",
       " 96.85,\n",
       " 96.85,\n",
       " 96.85,\n",
       " 96.85,\n",
       " 96.85,\n",
       " 96.86,\n",
       " 96.86,\n",
       " 96.88,\n",
       " 96.88,\n",
       " 96.88,\n",
       " 96.88,\n",
       " 96.88,\n",
       " 96.88,\n",
       " 96.88,\n",
       " 96.88,\n",
       " 96.88,\n",
       " 96.9,\n",
       " 96.92,\n",
       " 96.92,\n",
       " 96.95,\n",
       " 96.95,\n",
       " 96.95,\n",
       " 96.95,\n",
       " 96.95,\n",
       " 96.95,\n",
       " 96.97,\n",
       " 97.06,\n",
       " 97.06,\n",
       " 97.06,\n",
       " 97.09,\n",
       " 97.14,\n",
       " 97.14,\n",
       " 97.14,\n",
       " 97.16,\n",
       " 97.16,\n",
       " 97.16,\n",
       " 97.16,\n",
       " 97.16,\n",
       " 97.16,\n",
       " 97.16,\n",
       " 97.16,\n",
       " 97.16,\n",
       " 97.16,\n",
       " 97.16,\n",
       " 97.16,\n",
       " 97.17,\n",
       " 97.17,\n",
       " 97.17,\n",
       " 97.17,\n",
       " 97.17,\n",
       " 97.17,\n",
       " 97.17,\n",
       " 97.17,\n",
       " 97.17,\n",
       " 97.17,\n",
       " 97.17,\n",
       " 97.17,\n",
       " 97.17,\n",
       " 97.17,\n",
       " 97.17,\n",
       " 97.17,\n",
       " 97.17,\n",
       " 97.17,\n",
       " 97.17,\n",
       " 97.17,\n",
       " 97.17,\n",
       " 97.17,\n",
       " 97.17,\n",
       " 97.17,\n",
       " 97.17,\n",
       " 97.17,\n",
       " 97.17,\n",
       " 97.17,\n",
       " 97.17,\n",
       " 97.17,\n",
       " 97.17,\n",
       " 97.17,\n",
       " 97.17,\n",
       " 97.17,\n",
       " 97.17,\n",
       " 97.18,\n",
       " 97.18,\n",
       " 97.18,\n",
       " 97.18,\n",
       " 97.18,\n",
       " 97.18,\n",
       " 97.18,\n",
       " 97.18,\n",
       " 97.18,\n",
       " 97.18,\n",
       " 97.18,\n",
       " 97.18,\n",
       " 97.18,\n",
       " 97.18,\n",
       " 97.18,\n",
       " 97.18,\n",
       " 97.18,\n",
       " 97.18,\n",
       " 97.18,\n",
       " 97.18,\n",
       " 97.18,\n",
       " 97.18,\n",
       " 97.18,\n",
       " 97.18,\n",
       " 97.18,\n",
       " 97.18,\n",
       " 97.18,\n",
       " 97.18,\n",
       " 97.18,\n",
       " 97.18,\n",
       " 97.18,\n",
       " 97.18,\n",
       " 97.18,\n",
       " 97.18,\n",
       " 97.18,\n",
       " 97.18,\n",
       " 97.18,\n",
       " 97.18,\n",
       " 97.18,\n",
       " 97.18,\n",
       " 97.18,\n",
       " 97.18,\n",
       " 97.18,\n",
       " 97.18,\n",
       " 97.18,\n",
       " 97.18,\n",
       " 97.18,\n",
       " 97.18,\n",
       " 97.18,\n",
       " 97.18,\n",
       " 97.18,\n",
       " 97.18,\n",
       " 97.18,\n",
       " 97.18,\n",
       " 97.18,\n",
       " 97.18,\n",
       " 97.18,\n",
       " 97.18,\n",
       " 97.18,\n",
       " 97.18,\n",
       " 97.18,\n",
       " 97.18,\n",
       " 97.18,\n",
       " 97.18,\n",
       " 97.18,\n",
       " 97.18,\n",
       " 97.2,\n",
       " 97.2,\n",
       " 97.2,\n",
       " 97.2,\n",
       " 97.2,\n",
       " 97.2,\n",
       " 97.2,\n",
       " 97.2,\n",
       " 97.2,\n",
       " 97.2,\n",
       " 97.2,\n",
       " 97.2,\n",
       " 97.2,\n",
       " 97.2,\n",
       " 97.2,\n",
       " 97.2,\n",
       " 97.2,\n",
       " 97.2,\n",
       " 97.2,\n",
       " 97.2,\n",
       " 97.2,\n",
       " 97.2,\n",
       " 97.2,\n",
       " 97.2,\n",
       " 97.2,\n",
       " 97.2,\n",
       " 97.2,\n",
       " 97.2,\n",
       " 97.2,\n",
       " 97.2,\n",
       " 97.2,\n",
       " 97.2,\n",
       " 97.2,\n",
       " 97.2,\n",
       " 97.2,\n",
       " 97.2,\n",
       " 97.2,\n",
       " 97.2,\n",
       " 97.2,\n",
       " 97.2,\n",
       " 97.2,\n",
       " 97.2,\n",
       " 97.2,\n",
       " 97.21,\n",
       " 97.22,\n",
       " 97.22,\n",
       " 97.26,\n",
       " 97.26,\n",
       " 97.26,\n",
       " 97.26,\n",
       " 97.26,\n",
       " 97.27,\n",
       " 97.27,\n",
       " 97.27,\n",
       " 97.27,\n",
       " 97.27,\n",
       " 97.27,\n",
       " 97.27,\n",
       " 97.27,\n",
       " 97.27,\n",
       " 97.27,\n",
       " 97.27,\n",
       " 97.27,\n",
       " 97.27,\n",
       " 97.27,\n",
       " 97.27,\n",
       " 97.27,\n",
       " 97.27,\n",
       " 97.29,\n",
       " 97.29,\n",
       " 97.29,\n",
       " 97.29,\n",
       " 97.29,\n",
       " 97.29,\n",
       " 97.29,\n",
       " 97.29,\n",
       " 97.29,\n",
       " 97.29,\n",
       " 97.29,\n",
       " 97.29,\n",
       " 97.29,\n",
       " 97.29,\n",
       " 97.29,\n",
       " 97.29,\n",
       " 97.29,\n",
       " 97.29,\n",
       " 97.29,\n",
       " 97.3,\n",
       " 97.3,\n",
       " 97.3,\n",
       " 97.3,\n",
       " 97.3,\n",
       " 97.3,\n",
       " 97.31,\n",
       " 97.32,\n",
       " 97.32,\n",
       " 97.32,\n",
       " 97.32,\n",
       " 97.32,\n",
       " 97.33,\n",
       " 97.33,\n",
       " 97.33,\n",
       " 97.33,\n",
       " 97.33,\n",
       " 97.33,\n",
       " 97.33,\n",
       " 97.33,\n",
       " 97.33,\n",
       " 97.33,\n",
       " 97.33,\n",
       " 97.33,\n",
       " 97.33,\n",
       " 97.33,\n",
       " 97.33,\n",
       " 97.33,\n",
       " 97.33,\n",
       " 97.33,\n",
       " 97.33,\n",
       " 97.33,\n",
       " 97.33,\n",
       " 97.33,\n",
       " 97.33,\n",
       " 97.33,\n",
       " 97.33,\n",
       " 97.33,\n",
       " 97.34,\n",
       " 97.34,\n",
       " 97.35,\n",
       " 97.35,\n",
       " 97.35,\n",
       " 97.36,\n",
       " 97.37,\n",
       " 97.4,\n",
       " 97.4,\n",
       " 97.4,\n",
       " 97.4,\n",
       " 97.4,\n",
       " 97.4,\n",
       " 97.4,\n",
       " 97.4,\n",
       " 97.4,\n",
       " 97.4,\n",
       " 97.4,\n",
       " 97.4,\n",
       " 97.4,\n",
       " 97.4,\n",
       " 97.4,\n",
       " 97.4,\n",
       " 97.4,\n",
       " 97.4,\n",
       " 97.4,\n",
       " 97.4,\n",
       " 97.4,\n",
       " 97.4,\n",
       " 97.44,\n",
       " 97.48,\n",
       " 97.48,\n",
       " 97.48,\n",
       " 97.5,\n",
       " 97.5,\n",
       " 97.5,\n",
       " 97.5,\n",
       " 97.5,\n",
       " 97.52,\n",
       " 97.52,\n",
       " 97.53,\n",
       " 97.53,\n",
       " 97.55,\n",
       " 97.55,\n",
       " 97.55,\n",
       " 97.55,\n",
       " 97.56,\n",
       " 97.56,\n",
       " 97.56,\n",
       " 97.58,\n",
       " 97.58,\n",
       " 97.58,\n",
       " 97.58,\n",
       " 97.58,\n",
       " 97.59,\n",
       " 97.59,\n",
       " 97.61,\n",
       " 97.61,\n",
       " 97.62,\n",
       " 97.62,\n",
       " 97.62,\n",
       " 97.62,\n",
       " 97.62,\n",
       " 97.62,\n",
       " 97.62,\n",
       " 97.62,\n",
       " 97.62,\n",
       " 97.62,\n",
       " 97.62,\n",
       " 97.62,\n",
       " 97.63,\n",
       " 97.63,\n",
       " 97.63,\n",
       " 97.63,\n",
       " 97.63,\n",
       " 97.64,\n",
       " 97.64,\n",
       " 97.64,\n",
       " 97.64,\n",
       " 97.64,\n",
       " 97.64,\n",
       " 97.64,\n",
       " 97.64,\n",
       " 97.64,\n",
       " 97.64,\n",
       " 97.64,\n",
       " 97.64,\n",
       " 97.64,\n",
       " 97.64,\n",
       " 97.64,\n",
       " 97.64,\n",
       " 97.64,\n",
       " 97.64,\n",
       " 97.64,\n",
       " 97.64,\n",
       " 97.64,\n",
       " 97.64,\n",
       " 97.64,\n",
       " 97.64,\n",
       " 97.65,\n",
       " 97.65,\n",
       " 97.65,\n",
       " 97.65,\n",
       " 97.65,\n",
       " 97.65,\n",
       " 97.65,\n",
       " 97.65,\n",
       " 97.65,\n",
       " 97.65,\n",
       " 97.65,\n",
       " 97.65,\n",
       " 97.65,\n",
       " 97.65,\n",
       " 97.65,\n",
       " 97.65,\n",
       " 97.65,\n",
       " 97.65,\n",
       " 97.65,\n",
       " 97.65,\n",
       " 97.65,\n",
       " 97.65,\n",
       " 97.65,\n",
       " 97.65,\n",
       " 97.65,\n",
       " 97.65,\n",
       " 97.65,\n",
       " 97.65,\n",
       " 97.65,\n",
       " 97.65,\n",
       " 97.65,\n",
       " 97.65,\n",
       " 97.65,\n",
       " 97.65,\n",
       " 97.65,\n",
       " 97.65,\n",
       " 97.65,\n",
       " 97.65,\n",
       " 97.65,\n",
       " 97.65,\n",
       " 97.65,\n",
       " 97.65,\n",
       " 97.65,\n",
       " 97.65,\n",
       " 97.65,\n",
       " 97.65,\n",
       " 97.65,\n",
       " 97.65,\n",
       " 97.65,\n",
       " 97.66,\n",
       " 97.66,\n",
       " 97.66,\n",
       " 97.66,\n",
       " 97.66,\n",
       " 97.66,\n",
       " 97.66,\n",
       " 97.66,\n",
       " 97.66,\n",
       " 97.66,\n",
       " 97.66,\n",
       " 97.66,\n",
       " 97.66,\n",
       " 97.66,\n",
       " 97.66,\n",
       " 97.66,\n",
       " 97.66,\n",
       " 97.66,\n",
       " 97.66,\n",
       " 97.66,\n",
       " 97.66,\n",
       " 97.66,\n",
       " 97.66,\n",
       " 97.66,\n",
       " 97.66,\n",
       " 97.66,\n",
       " 97.66,\n",
       " 97.66,\n",
       " 97.66,\n",
       " 97.66,\n",
       " 97.66,\n",
       " 97.66,\n",
       " 97.66,\n",
       " 97.67,\n",
       " 97.7,\n",
       " 97.7,\n",
       " 97.7,\n",
       " 97.7,\n",
       " 97.7,\n",
       " 97.7,\n",
       " 97.7,\n",
       " 97.7,\n",
       " 97.7,\n",
       " 97.71,\n",
       " 97.71,\n",
       " 97.71,\n",
       " 97.71,\n",
       " 97.71,\n",
       " 97.71,\n",
       " 97.71,\n",
       " 97.71,\n",
       " 97.71,\n",
       " 97.71,\n",
       " 97.71,\n",
       " 97.71,\n",
       " 97.71,\n",
       " 97.71,\n",
       " 97.71,\n",
       " 97.71,\n",
       " 97.71,\n",
       " 97.71,\n",
       " 97.71,\n",
       " 97.71,\n",
       " 97.71,\n",
       " 97.71,\n",
       " 97.71,\n",
       " 97.71,\n",
       " 97.71,\n",
       " 97.71,\n",
       " 97.71,\n",
       " 97.71,\n",
       " 97.71,\n",
       " 97.71,\n",
       " 97.71,\n",
       " 97.71,\n",
       " 97.71,\n",
       " 97.71,\n",
       " 97.71,\n",
       " 97.71,\n",
       " 97.72,\n",
       " 97.72,\n",
       " 97.72,\n",
       " 97.72,\n",
       " 97.72,\n",
       " 97.73,\n",
       " 97.73,\n",
       " 97.73,\n",
       " 97.73,\n",
       " 97.73,\n",
       " ...]"
      ]
     },
     "execution_count": 31,
     "metadata": {},
     "output_type": "execute_result"
    }
   ],
   "source": [
    "sorted(map(float,list(blast_res.Ident)))"
   ]
  },
  {
   "cell_type": "code",
   "execution_count": 39,
   "id": "8ee0a64d-1f44-44f2-b285-2a145a73d0e3",
   "metadata": {},
   "outputs": [],
   "source": [
    "blast_res.to_csv('/home/user/Desktop/carboanhydrases_best_hit.csv')"
   ]
  },
  {
   "cell_type": "code",
   "execution_count": 181,
   "id": "aa72d75c-c6b8-4af9-816c-518df9cef088",
   "metadata": {},
   "outputs": [
    {
     "name": "stdout",
     "output_type": "stream",
     "text": [
      "Average identity: 35.65%\n"
     ]
    }
   ],
   "source": [
    "print(f\"Average identity: {round(sum(list(map(float,list(blast_res.Ident))))/len(list(blast_res.Ident)),2)}%\")"
   ]
  },
  {
   "cell_type": "code",
   "execution_count": 182,
   "id": "fb27e408-a788-49b7-8b23-4036cedf2ad0",
   "metadata": {},
   "outputs": [
    {
     "name": "stdout",
     "output_type": "stream",
     "text": [
      "Average coverage: 52.8%\n"
     ]
    }
   ],
   "source": [
    "print(f\"Average coverage: {round(sum(list(blast_res.cover.str.rstrip('%').astype('float').dropna()))/len(list(blast_res.cover)),2)}%\")"
   ]
  },
  {
   "cell_type": "code",
   "execution_count": 183,
   "id": "2884c8e5-78f3-420e-8e52-4237be064e29",
   "metadata": {},
   "outputs": [
    {
     "name": "stdout",
     "output_type": "stream",
     "text": [
      "Median identity: 35.48%\n"
     ]
    }
   ],
   "source": [
    "print(f\"Median identity: {round(statistics.median(list(map(float,list(blast_res.Ident)))),2)}%\")"
   ]
  },
  {
   "cell_type": "code",
   "execution_count": 184,
   "id": "1c0c2412-2634-4974-b320-ce2e0447b2f6",
   "metadata": {},
   "outputs": [
    {
     "name": "stdout",
     "output_type": "stream",
     "text": [
      "Median coverage: 66.0%\n"
     ]
    }
   ],
   "source": [
    "print(f\"Median coverage: {round(statistics.median(list(blast_res.cover.str.rstrip('%').astype('float').dropna())),2)}%\")"
   ]
  },
  {
   "cell_type": "code",
   "execution_count": 52,
   "id": "b48cd7b0-25c5-4b1c-80ee-1ff6d61dc811",
   "metadata": {},
   "outputs": [],
   "source": [
    "# median\n",
    "# first level and last level EC-number \n",
    "blast_res.to_csv(\"./generated_wrong_coverage_blast_res.csv\")"
   ]
  },
  {
   "cell_type": "code",
   "execution_count": 20,
   "id": "641b27c2-63d1-4079-9ce0-6f74fcf7823a",
   "metadata": {},
   "outputs": [],
   "source": [
    "fn = open('joined_generated_2_short.fasta','r').readlines()\n",
    "for idx, i in enumerate(fn):\n",
    "    if not i.startswith('>'):\n",
    "        fn[idx] = i.split(' ')[1]"
   ]
  },
  {
   "cell_type": "code",
   "execution_count": 23,
   "id": "3c83d71b-2b5d-4854-ab5e-265ccb4a16ef",
   "metadata": {},
   "outputs": [],
   "source": [
    "new_fn = open('joined_generated_2_short_new.fasta','w')\n",
    "for i in fn:\n",
    "    new_fn.write(i)"
   ]
  }
 ],
 "metadata": {
  "kernelspec": {
   "display_name": "Python 3 (ipykernel)",
   "language": "python",
   "name": "python3"
  },
  "language_info": {
   "codemirror_mode": {
    "name": "ipython",
    "version": 3
   },
   "file_extension": ".py",
   "mimetype": "text/x-python",
   "name": "python",
   "nbconvert_exporter": "python",
   "pygments_lexer": "ipython3",
   "version": "3.7.12"
  }
 },
 "nbformat": 4,
 "nbformat_minor": 5
}
