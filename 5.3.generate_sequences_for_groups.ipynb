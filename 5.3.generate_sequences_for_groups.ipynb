{
 "cells": [
  {
   "cell_type": "markdown",
   "metadata": {},
   "source": [
    "# 1. Pick 10 random labels from training set"
   ]
  },
  {
   "cell_type": "code",
   "execution_count": 23,
   "metadata": {},
   "outputs": [],
   "source": [
    "import torch\n",
    "from transformers import GPT2LMHeadModel, AutoTokenizer\n",
    "import pickle\n",
    "import random\n",
    "import math\n",
    "import numpy as np"
   ]
  },
  {
   "cell_type": "code",
   "execution_count": 2,
   "metadata": {},
   "outputs": [],
   "source": [
    "import pickle\n",
    "with open('/agh/projects/noelia/NLP/zymCTRL/dataset_preparation/ec_classes_freq-train.pkl', 'rb') as file:\n",
    "    # A new file will be created\n",
    "    ec_classes_freq_train = pickle.load(file)"
   ]
  },
  {
   "cell_type": "code",
   "execution_count": null,
   "metadata": {},
   "outputs": [],
   "source": []
  },
  {
   "cell_type": "code",
   "execution_count": 3,
   "metadata": {},
   "outputs": [],
   "source": [
    "import random\n",
    "random_training_labels = random.choices(list(ec_classes_freq_train.keys()),k=10)"
   ]
  },
  {
   "cell_type": "code",
   "execution_count": 4,
   "metadata": {},
   "outputs": [
    {
     "data": {
      "text/plain": [
       "['1.1.1.29',\n",
       " '1.14.12.22',\n",
       " '1.4.2.-',\n",
       " '2.4.1.7',\n",
       " '2.7.7.2',\n",
       " '4.1.3.27',\n",
       " '2.1.1.219',\n",
       " '2.7.1.108',\n",
       " '1.8.1.20',\n",
       " '1.14.13.2']"
      ]
     },
     "execution_count": 4,
     "metadata": {},
     "output_type": "execute_result"
    }
   ],
   "source": [
    "random_training_labels"
   ]
  },
  {
   "cell_type": "markdown",
   "metadata": {},
   "source": [
    "###  Load model and tokenizer"
   ]
  },
  {
   "cell_type": "code",
   "execution_count": 9,
   "metadata": {
    "scrolled": true
   },
   "outputs": [],
   "source": [
    "device = torch.device(\"cuda\")    \n",
    "tokenizer = AutoTokenizer.from_pretrained('/agh/projects/noelia/NLP/zymCTRL/dataset_preparation/tokenizer')\n",
    "model = GPT2LMHeadModel.from_pretrained('/agh/projects/noelia/NLP/zymCTRL/model').to(device)\n",
    "                                        \n",
    "                                       "
   ]
  },
  {
   "cell_type": "code",
   "execution_count": 16,
   "metadata": {},
   "outputs": [],
   "source": [
    "def calculatePerplexity(input_ids,model,tokenizer):\n",
    "    with torch.no_grad():\n",
    "        outputs = model(input_ids, labels=input_ids)\n",
    "    loss, logits = outputs[:2]\n",
    "    return math.exp(loss)\n"
   ]
  },
  {
   "cell_type": "code",
   "execution_count": 22,
   "metadata": {},
   "outputs": [],
   "source": [
    "ppls={}\n",
    "for label in random_training_labels:\n",
    "    input_ids = tokenizer.encode(label,return_tensors='pt').to(device)\n",
    "    \n",
    "    outputs = model.generate(\n",
    "        input_ids,\n",
    "        top_k=9,\n",
    "        repetition_penalty=1.2,\n",
    "        max_length=1024,\n",
    "        eos_token_id=1,\n",
    "        pad_token_id=0,\n",
    "        do_sample=True,\n",
    "        num_return_sequences=20)\n",
    "    \n",
    "    ppls[label] = [calculatePerplexity(output, model, tokenizer) for output in outputs ]\n",
    "  \n"
   ]
  },
  {
   "cell_type": "code",
   "execution_count": 25,
   "metadata": {},
   "outputs": [
    {
     "name": "stdout",
     "output_type": "stream",
     "text": [
      "1.1.1.29\n",
      "3.6004226817688965\n",
      "1.14.12.22\n",
      "2.7306436020064\n",
      "1.4.2.-\n",
      "6.520056013567979\n",
      "2.4.1.7\n",
      "3.436233128206016\n",
      "2.7.7.2\n",
      "1.8069302782952466\n",
      "4.1.3.27\n",
      "1.9432983414756877\n",
      "2.1.1.219\n",
      "3.446483115689408\n",
      "2.7.1.108\n",
      "4.389680475286834\n",
      "1.8.1.20\n",
      "3.207328023816448\n",
      "1.14.13.2\n",
      "2.505419333032168\n"
     ]
    }
   ],
   "source": [
    "for label,ppl_values in ppls.items():\n",
    "    print(label)\n",
    "    print(np.mean(ppl_values))"
   ]
  },
  {
   "cell_type": "code",
   "execution_count": null,
   "metadata": {},
   "outputs": [],
   "source": []
  }
 ],
 "metadata": {
  "kernelspec": {
   "display_name": "Python 3 (ipykernel)",
   "language": "python",
   "name": "python3"
  },
  "language_info": {
   "codemirror_mode": {
    "name": "ipython",
    "version": 3
   },
   "file_extension": ".py",
   "mimetype": "text/x-python",
   "name": "python",
   "nbconvert_exporter": "python",
   "pygments_lexer": "ipython3",
   "version": "3.7.12"
  }
 },
 "nbformat": 4,
 "nbformat_minor": 2
}
