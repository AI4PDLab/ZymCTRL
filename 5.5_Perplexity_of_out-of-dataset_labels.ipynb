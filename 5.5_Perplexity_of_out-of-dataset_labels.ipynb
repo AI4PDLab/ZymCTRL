{
 "cells": [
  {
   "cell_type": "code",
   "execution_count": 1,
   "metadata": {},
   "outputs": [
    {
     "name": "stderr",
     "output_type": "stream",
     "text": [
      "/home/phil/anaconda3/envs/omegafold/lib/python3.8/site-packages/tqdm/auto.py:22: TqdmWarning: IProgress not found. Please update jupyter and ipywidgets. See https://ipywidgets.readthedocs.io/en/stable/user_install.html\n",
      "  from .autonotebook import tqdm as notebook_tqdm\n"
     ]
    }
   ],
   "source": [
    "from transformers import GPT2LMHeadModel, AutoTokenizer\n",
    "import torch\n",
    "from transformers import pipeline\n",
    "device = torch.device(\"cuda\")\n",
    "import pandas as pd\n",
    "import math\n",
    "import plotly.express as px\n",
    "tokenizer = AutoTokenizer.from_pretrained('/home/phil/Geraldene/transformers/examples/pytorch/language-modeling/ZymCTRL')\n",
    "model = GPT2LMHeadModel.from_pretrained('/home/phil/Geraldene/transformers/examples/pytorch/language-modeling/ZymCTRL').to(device)"
   ]
  },
  {
   "cell_type": "code",
   "execution_count": 2,
   "metadata": {},
   "outputs": [],
   "source": [
    "def calculatePerplexity(input_ids,model,tokenizer):\n",
    "    with torch.no_grad():\n",
    "        outputs = model(input_ids, labels=input_ids)\n",
    "    loss, logits = outputs[:2]\n",
    "    return math.exp(loss)"
   ]
  },
  {
   "cell_type": "code",
   "execution_count": 3,
   "metadata": {},
   "outputs": [],
   "source": [
    "#load pickle file \n",
    "df = pd.read_pickle('unique_labels_eval_set.pkl')"
   ]
  },
  {
   "cell_type": "code",
   "execution_count": 6,
   "metadata": {},
   "outputs": [],
   "source": [
    "import random\n",
    "random_validation_labels = random.choices(list(df), k=10)"
   ]
  },
  {
   "cell_type": "code",
   "execution_count": 7,
   "metadata": {},
   "outputs": [
    {
     "data": {
      "text/plain": [
       "['2.1.1.n11',\n",
       " '1.6.99.2',\n",
       " '2.1.1.300',\n",
       " '2.6.1.110',\n",
       " '3.4.21.38',\n",
       " '1.3.98.4',\n",
       " '1.14.14.15',\n",
       " '5.4.99.50',\n",
       " '1.14.20.8',\n",
       " '5.3.1.n1']"
      ]
     },
     "execution_count": 7,
     "metadata": {},
     "output_type": "execute_result"
    }
   ],
   "source": [
    "random_validation_labels"
   ]
  },
  {
   "cell_type": "code",
   "execution_count": 8,
   "metadata": {},
   "outputs": [],
   "source": [
    "# 1. Run directly from the HuggingFace pipeline\n",
    "ppls = {}\n",
    "#model = pipeline('text-generation', model=\"nferruz/ZymCTRL\")\n",
    "for i in random_validation_labels:\n",
    "    sequences = tokenizer.encode(i, return_tensors='pt').to(device)\n",
    "    outputs = model.generate(\n",
    "        sequences,\n",
    "        top_k=9,\n",
    "        repetition_penalty=1.2,\n",
    "        max_length=1024,\n",
    "        eos_token_id=1,\n",
    "        pad_token_id=0,\n",
    "        do_sample=True,\n",
    "        num_return_sequences=20)\n",
    "    ppls[i] = [calculatePerplexity(output, model, tokenizer) for output in outputs ]"
   ]
  },
  {
   "cell_type": "code",
   "execution_count": 12,
   "metadata": {},
   "outputs": [
    {
     "name": "stdout",
     "output_type": "stream",
     "text": [
      "2.1.1.n11\n",
      "5.967945800314948\n",
      "1.6.99.2\n",
      "7.534536075026456\n",
      "2.1.1.300\n",
      "4.080559569391931\n",
      "2.6.1.110\n",
      "3.2126121771036447\n",
      "3.4.21.38\n",
      "7.553030041108123\n",
      "1.3.98.4\n",
      "4.388164780701416\n",
      "1.14.14.15\n",
      "2.689296617615733\n",
      "5.4.99.50\n",
      "3.728291451907218\n",
      "1.14.20.8\n",
      "3.140201889914207\n",
      "5.3.1.n1\n",
      "2.5311253483490637\n"
     ]
    }
   ],
   "source": [
    "import numpy as np\n",
    "for label, ppl_value in ppls.items():\n",
    "    print(label)\n",
    "    print(np.mean(ppl_value))"
   ]
  }
 ],
 "metadata": {
  "interpreter": {
   "hash": "53707db9488d548cddd6f6504cb484ebd08f6a67c6f2f8340d8e91917c4a667a"
  },
  "kernelspec": {
   "display_name": "Python 3",
   "language": "python",
   "name": "python3"
  },
  "language_info": {
   "codemirror_mode": {
    "name": "ipython",
    "version": 3
   },
   "file_extension": ".py",
   "mimetype": "text/x-python",
   "name": "python",
   "nbconvert_exporter": "python",
   "pygments_lexer": "ipython3",
   "version": "3.6.7"
  }
 },
 "nbformat": 4,
 "nbformat_minor": 2
}
