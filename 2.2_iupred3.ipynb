{
 "cells": [
  {
   "cell_type": "markdown",
   "id": "f69dc36c",
   "metadata": {},
   "source": [
    "This script was run externally, using the command:`for i in *.fasta; do echo \" sequence $i\"; /agh/projects/noelia/NLP/zymCTRL/iupred3/iupred3.py $i glob > ${i}.out;done`"
   ]
  },
  {
   "cell_type": "markdown",
   "id": "c4897f10",
   "metadata": {},
   "source": [
    "I then looked at how many where globular by doing: `grep \"Number of globular domains: 0\" *.out |wc\n",
    "`. This gave a 4% (taking into account all of them). Let's now get identical lists, by removing the extra _1.fasta files in the generated_2 folder (not all the natural classes have more than one sequence)"
   ]
  },
  {
   "cell_type": "markdown",
   "id": "470fc368",
   "metadata": {},
   "source": [
    "# Results"
   ]
  },
  {
   "cell_type": "markdown",
   "id": "56e40479",
   "metadata": {},
   "source": [
    " - Number of non-globular domains in the generated dataset (generated_2): 531/11555 (95.4%)\n",
    " - Number of non-globular domains in the natural dataset (natural_2): 70/11439 (99.3%)"
   ]
  },
  {
   "cell_type": "code",
   "execution_count": 14,
   "id": "7c6269d1",
   "metadata": {},
   "outputs": [
    {
     "data": {
      "text/plain": [
       "99.388058396713"
      ]
     },
     "execution_count": 14,
     "metadata": {},
     "output_type": "execute_result"
    }
   ],
   "source": [
    "100 - 70/11439*100"
   ]
  },
  {
   "cell_type": "code",
   "execution_count": 2,
   "id": "69680c76",
   "metadata": {},
   "outputs": [
    {
     "data": {
      "text/plain": [
       "97.727074044934"
      ]
     },
     "execution_count": 2,
     "metadata": {},
     "output_type": "execute_result"
    }
   ],
   "source": [
    "100 - 260/11439*100"
   ]
  },
  {
   "cell_type": "code",
   "execution_count": null,
   "id": "a30017e7",
   "metadata": {},
   "outputs": [],
   "source": []
  }
 ],
 "metadata": {
  "kernelspec": {
   "display_name": "Python 3 (ipykernel)",
   "language": "python",
   "name": "python3"
  },
  "language_info": {
   "codemirror_mode": {
    "name": "ipython",
    "version": 3
   },
   "file_extension": ".py",
   "mimetype": "text/x-python",
   "name": "python",
   "nbconvert_exporter": "python",
   "pygments_lexer": "ipython3",
   "version": "3.7.12"
  }
 },
 "nbformat": 4,
 "nbformat_minor": 5
}
