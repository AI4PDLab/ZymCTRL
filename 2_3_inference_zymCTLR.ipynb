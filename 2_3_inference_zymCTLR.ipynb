{
 "cells": [
  {
   "cell_type": "code",
   "execution_count": 1,
   "id": "c996b311",
   "metadata": {
    "scrolled": true
   },
   "outputs": [
    {
     "name": "stderr",
     "output_type": "stream",
     "text": [
      "/agh/projects/noelia/sebastian/miniconda3.7/lib/python3.7/site-packages/tqdm/auto.py:22: TqdmWarning: IProgress not found. Please update jupyter and ipywidgets. See https://ipywidgets.readthedocs.io/en/stable/user_install.html\n",
      "  from .autonotebook import tqdm as notebook_tqdm\n"
     ]
    }
   ],
   "source": [
    "import torch\n",
    "from transformers import GPT2LMHeadModel, GPT2Tokenizer, AutoTokenizer\n",
    "import random\n",
    "from selenium import webdriver\n",
    "from selenium.webdriver.common.by import By\n",
    "import os\n",
    "import time\n",
    "from tqdm import tqdm\n",
    "from selenium.webdriver.firefox.options import Options\n",
    "import math\n",
    "from Bio.Blast.Applications import NcbiblastpCommandline\n",
    "import subprocess\n",
    "from collections import Counter\n",
    "import numpy as np\n",
    "import pandas as pd\n",
    "import matplotlib.pyplot as plt\n",
    "import py3Dmol\n",
    "import glob\n",
    "from sklearn.manifold import TSNE\n",
    "import seaborn as sns\n",
    "from evaluate import load\n",
    "from torch.nn import CrossEntropyLoss\n",
    "from evaluate import logging"
   ]
  },
  {
   "cell_type": "markdown",
   "id": "1f07a1ef",
   "metadata": {
    "jp-MarkdownHeadingCollapsed": true,
    "tags": []
   },
   "source": [
    "## Create DS __(2/3)__"
   ]
  },
  {
   "cell_type": "code",
   "execution_count": null,
   "id": "778d8320",
   "metadata": {},
   "outputs": [],
   "source": [
    "device = torch.device(\"cuda:1\")"
   ]
  },
  {
   "cell_type": "code",
   "execution_count": 3,
   "id": "f85b3ff5",
   "metadata": {
    "tags": []
   },
   "outputs": [],
   "source": [
    "tokenizer = AutoTokenizer.from_pretrained('/agh/projects/noelia/NLP/zymCTRL/dataset_preparation/tokenizer')"
   ]
  },
  {
   "cell_type": "code",
   "execution_count": 4,
   "id": "0b5621e8",
   "metadata": {
    "tags": []
   },
   "outputs": [],
   "source": [
    "model = GPT2LMHeadModel.from_pretrained('..').to(device)"
   ]
  },
  {
   "cell_type": "code",
   "execution_count": 5,
   "id": "f8ec719f",
   "metadata": {},
   "outputs": [],
   "source": [
    "input_ids = tokenizer.encode('1.1.1.1',return_tensors='pt').to(device)"
   ]
  },
  {
   "cell_type": "code",
   "execution_count": 96,
   "id": "31f8e0ae",
   "metadata": {
    "tags": []
   },
   "outputs": [],
   "source": [
    "output = model.generate(\n",
    "    input_ids, \n",
    "    top_k=950,\n",
    "    repetition_penalty=1.2,\n",
    "    max_length=2000,\n",
    "    eos_token_id=1,\n",
    "    pad_token_id=0,\n",
    "    do_sample=True,\n",
    "    num_return_sequences=10,\n",
    ")"
   ]
  },
  {
   "cell_type": "code",
   "execution_count": 97,
   "id": "d5cbe424",
   "metadata": {
    "collapsed": true,
    "jupyter": {
     "outputs_hidden": true
    },
    "scrolled": true,
    "tags": []
   },
   "outputs": [
    {
     "name": "stdout",
     "output_type": "stream",
     "text": [
      "Output:\n",
      "----------------------------------------------------------------------------------------------------\n",
      "1. 1. 1. 1 <sep> <start> M K G A V L H E F G H P W Q I K E T D Q P I P G P G Q A L V R I V A S G I C H S D T H V V R G D D A E V C Q T A G R Q G P P V A L M P A V L G H E I V G E V V P T G P H T V R R K V P A C G K C H P C S T D N E H Q T L C R A F A P D T L D G T Y R R K P H T P L P F A L G G D A A L A E Y C L L N P A T T F E V P P K L R P D L V P P G C R A D V A G L L A T P Y I G V Y G P E A V R L G V R Y E N A L A V I G L G G I G Q C A I K I V Q M A G G R V V V I D R N P E N L A L A A E T L P K A E V L T L N G S R G N G N N P R Y R E L M G G L K A P R I M V Q T A T H A A P L H F Y N A L G D L T I S V T A S V S Q P W G S A P A D L N M I L P M L C E R R V Q G S L I G A Y E P L P L I K G F I A Q H R I G P L E K Y G L D R V V S C A E M N A A N E A F G K L A S G H A T R I R I L D <end> <|endoftext|> <pad> <pad> <pad> <pad> <pad> <pad> <pad> <pad> <pad> <pad> <pad> <pad> <pad> <pad> <pad> <pad> <pad> <pad> <pad> <pad> <pad> <pad> <pad> <pad> <pad> <pad> <pad> <pad> <pad> <pad> <pad> <pad> <pad> <pad> <pad> <pad> <pad> <pad> <pad> <pad> <pad> <pad> <pad> <pad> <pad> <pad> <pad> <pad> <pad> <pad> <pad> <pad> <pad> <pad> <pad> <pad> <pad> <pad> <pad> <pad> <pad> <pad> <pad> <pad> <pad> <pad> <pad> <pad> <pad> <pad> <pad> <pad> <pad> <pad> <pad> <pad> <pad> <pad> <pad> <pad> <pad> <pad> <pad> <pad> <pad> <pad> <pad> <pad> <pad> <pad> <pad> <pad> <pad> <pad> <pad> <pad> <pad> <pad> <pad> <pad> <pad> <pad> <pad> <pad> <pad> <pad> <pad> <pad> <pad> <pad> <pad> <pad> <pad> <pad> <pad> <pad> <pad> <pad> <pad> <pad> <pad> <pad> <pad> <pad> <pad> <pad> <pad> <pad> <pad> <pad> <pad> <pad> <pad> <pad> <pad> <pad> <pad> <pad> <pad> <pad> <pad> <pad> <pad> <pad>\n",
      "1. 1. 1. 1 <sep> <start> M K T R G A V I R E P L D G G V R R P V M E E Q D V V V R V K R C G V C H S D I H I E T Q Y A G H S I A S P F R P G G F P G R E A G E I V E I G A D S I N L G I K D F F K T K E I V D G T G A C P Q C G E C S Y C K T N I E I S N D K I A W H G G G E L L V D G D L A P T S C S Y L V Q L P K A I R F N D A A P F L I G A N C V W H S L P V K G G H L A I L G M G G A V A H L L A M W F G A E T V I T D V M K E R L Q L A K E K G V S T Y N V V E K V S D V I N E Q Y K N A T T R P D G I D V A F T Y D L T D D N V T Q V G A T N S T T I C G T R E K V V Q F N L S S A G E G A S R P V V E T Q Y V V G N E K T F H R I D D A L S R K G F N P V E Y G C N W N A F P V V F S I L E K E T G V F P D G F I S H F H P Y R E V E C Y Y Q L Q T K E N P G W K K Q I D R T V L A V <end> <|endoftext|> <pad> <pad> <pad> <pad> <pad> <pad> <pad> <pad> <pad> <pad> <pad> <pad> <pad> <pad> <pad> <pad> <pad> <pad> <pad> <pad> <pad> <pad> <pad> <pad> <pad> <pad> <pad> <pad> <pad> <pad> <pad> <pad> <pad> <pad> <pad> <pad> <pad> <pad> <pad> <pad> <pad> <pad> <pad> <pad> <pad> <pad> <pad> <pad> <pad> <pad> <pad> <pad> <pad> <pad> <pad> <pad> <pad> <pad> <pad> <pad> <pad> <pad> <pad> <pad> <pad> <pad> <pad> <pad> <pad> <pad> <pad> <pad> <pad> <pad> <pad> <pad> <pad> <pad> <pad> <pad> <pad> <pad> <pad> <pad> <pad> <pad> <pad> <pad> <pad> <pad> <pad> <pad> <pad> <pad> <pad> <pad> <pad> <pad> <pad> <pad> <pad> <pad> <pad> <pad> <pad> <pad> <pad> <pad> <pad> <pad> <pad> <pad> <pad> <pad> <pad> <pad> <pad> <pad> <pad> <pad> <pad> <pad> <pad> <pad> <pad> <pad> <pad> <pad> <pad> <pad> <pad> <pad> <pad> <pad> <pad> <pad> <pad> <pad> <pad> <pad> <pad> <pad> <pad> <pad> <pad> <pad> <pad> <pad> <pad> <pad> <pad> <pad>\n",
      "1. 1. 1. 1 <sep> <start> M N F P S A R I Y L E F G R R C T V E L D Q P R P A P G A M Q V E V L H G S H Q S R A S C V T E F A P P T V P W P S D H Y P V V P G H E V A G Q V V G H G P D V R L G H R V V G S G C G D C A G G Q D R P D G P E G W H C S A G T I A I H G G G Y A D Y V A T P Q A A I V P I P A S L P S A T G A A A S S C F P L T L A G Y A D G S H G A C A K E R M A Y V G V N A V T T R P A A P P G G V V L V G L G G I G Q L A V Q V V K S Q A P A H V F G I T R D T L A Q S T L A T P L A I G F A A Y E D N H D G P R K P H A S Q D A L A G V Q T A T G W A A V C G D A A W E G P T P Q G W V T R Q L A G L V T I I G F D T Q S G S T K Q P V L Q Q L C A H Q K V V P I S G Q P G F S A E A K W V Y R R S Q E L Y S Q L T A A D L S L D Q A P F T R T V V G E T P W Q G R K L Q Q A M V G G <end> <|endoftext|> <pad> <pad> <pad> <pad> <pad> <pad> <pad> <pad> <pad> <pad> <pad> <pad> <pad> <pad> <pad> <pad> <pad> <pad> <pad> <pad> <pad> <pad> <pad> <pad> <pad> <pad> <pad> <pad> <pad> <pad> <pad> <pad> <pad> <pad> <pad> <pad> <pad> <pad> <pad> <pad> <pad> <pad> <pad> <pad> <pad> <pad> <pad> <pad> <pad> <pad> <pad> <pad> <pad> <pad> <pad> <pad> <pad> <pad> <pad> <pad> <pad> <pad> <pad> <pad> <pad> <pad> <pad> <pad> <pad> <pad> <pad> <pad> <pad> <pad> <pad> <pad> <pad> <pad> <pad> <pad> <pad> <pad> <pad> <pad> <pad> <pad> <pad> <pad> <pad> <pad> <pad> <pad> <pad> <pad> <pad> <pad> <pad> <pad> <pad> <pad> <pad> <pad> <pad> <pad> <pad> <pad> <pad> <pad> <pad> <pad> <pad> <pad> <pad> <pad> <pad> <pad> <pad> <pad> <pad> <pad> <pad> <pad> <pad> <pad> <pad> <pad> <pad> <pad> <pad> <pad> <pad> <pad> <pad> <pad> <pad> <pad> <pad> <pad> <pad> <pad> <pad> <pad> <pad> <pad> <pad> <pad> <pad> <pad> <pad>\n",
      "1. 1. 1. 1 <sep> <start> M P D P S N S V P F S L P A Q V L F G R G R L Q E L D R I D S P T G R K L L I V S D R S L S Q L E L P A R L E Q Q L A Q L D S E W V K P R F E G D A H P S D A V V A E C A A F K A H G C Q G V I A F G G G S S L D V A K L I G I C V T H E G D V R E F E K A R G A V P Q Q Q R P Y G A V V P I V A V N T T A G T G S E V T R F C V I T D Q E R N V K M I I F D P H L I A G L P A T V A D P E L M T A I K P I V A A T G L D A L V H A I E A Y I G R R R P M S D P L V F E A P R Q L L E C L V I A E E N I R A A V A A G P P H S L D A G E G M A V E A M S A G A L T A A H G M E H P V C G A L Y G P V G G V H G G Y P W A V H V E M L Y H S V A P H N S F H H T A F L P A S A L C A I G R L A D A A V A K G Q P Q W E I I E R M W S C V G V Q R G E W K A R Y C P E D A L L E G I D K L K T Q G P A N C R G L S I A D L A A F F G A V K <end> <|endoftext|> <pad> <pad> <pad> <pad> <pad> <pad> <pad> <pad> <pad> <pad> <pad> <pad> <pad> <pad> <pad> <pad> <pad> <pad> <pad> <pad> <pad> <pad> <pad> <pad> <pad> <pad> <pad> <pad> <pad> <pad> <pad> <pad> <pad> <pad> <pad> <pad> <pad> <pad> <pad> <pad> <pad> <pad> <pad> <pad> <pad> <pad> <pad> <pad> <pad> <pad> <pad> <pad> <pad> <pad> <pad> <pad> <pad> <pad> <pad> <pad> <pad> <pad> <pad> <pad> <pad> <pad> <pad> <pad> <pad> <pad> <pad> <pad> <pad> <pad> <pad> <pad> <pad> <pad> <pad> <pad> <pad> <pad> <pad> <pad> <pad> <pad> <pad> <pad> <pad> <pad> <pad> <pad> <pad> <pad> <pad> <pad> <pad> <pad> <pad> <pad> <pad> <pad> <pad> <pad> <pad> <pad> <pad> <pad> <pad> <pad> <pad> <pad> <pad> <pad> <pad> <pad> <pad> <pad> <pad> <pad> <pad> <pad> <pad>\n",
      "1. 1. 1. 1 <sep> <start> M T N N W K F Q S I S M Q A G C E A I A R L A A I N D L Q L F E I T E I V I D P P L S V N E E A A R I M D S L A T Q L P L I I N S D S S T T E C Y V D Q L V L K V M G N V V S V H D N V K F S S Q R V K D V F V L T G L S H H H C D R V S A S Y A E I E Q L K E A G I V G E H C T V S L R G T T H W K T E T V A R H C D A K T L T A V D A L G T E D L T A N A F G A A L N W Q T K D E H E Q L A Y Q W V D N V W E K P M T G K S Q T H D C V D C I F K V R A S D Y R Q R F C E T L S N L L D T V D V C T K L P N L G R P H L F P V D A R T L N N L S H P D L L T Q P K F L D R C L S E I F L R H N R A F R H Y K G F K G I L L A F D R N T E R V N A R F Y L S T P S P G D F S I F T C V <end> <|endoftext|> <pad> <pad> <pad> <pad> <pad> <pad> <pad> <pad> <pad> <pad> <pad> <pad> <pad> <pad> <pad> <pad> <pad> <pad> <pad> <pad> <pad> <pad> <pad> <pad> <pad> <pad> <pad> <pad> <pad> <pad> <pad> <pad> <pad> <pad> <pad> <pad> <pad> <pad> <pad> <pad> <pad> <pad> <pad> <pad> <pad> <pad> <pad> <pad> <pad> <pad> <pad> <pad> <pad> <pad> <pad> <pad> <pad> <pad> <pad> <pad> <pad> <pad> <pad> <pad> <pad> <pad> <pad> <pad> <pad> <pad> <pad> <pad> <pad> <pad> <pad> <pad> <pad> <pad> <pad> <pad> <pad> <pad> <pad> <pad> <pad> <pad> <pad> <pad> <pad> <pad> <pad> <pad> <pad> <pad> <pad> <pad> <pad> <pad> <pad> <pad> <pad> <pad> <pad> <pad> <pad> <pad> <pad> <pad> <pad> <pad> <pad> <pad> <pad> <pad> <pad> <pad> <pad> <pad> <pad> <pad> <pad> <pad> <pad> <pad> <pad> <pad> <pad> <pad> <pad> <pad> <pad> <pad> <pad> <pad> <pad> <pad> <pad> <pad> <pad> <pad> <pad> <pad> <pad> <pad> <pad> <pad> <pad> <pad> <pad> <pad> <pad> <pad> <pad> <pad> <pad> <pad> <pad> <pad> <pad> <pad> <pad> <pad> <pad> <pad> <pad> <pad> <pad> <pad> <pad> <pad> <pad> <pad> <pad> <pad> <pad> <pad> <pad> <pad> <pad> <pad> <pad> <pad> <pad> <pad> <pad> <pad> <pad> <pad> <pad> <pad> <pad> <pad> <pad> <pad>\n",
      "1. 1. 1. 1 <sep> <start> M K A M S L V G F G E P R R L L T G D G A K A A R Q I K D D L F L C V V T D S I V Y G C E K G I I N A V H E A L N V K I I Q Y V P E L A P T R S T V E E A L E G V D F C K P Q K Q D L M L A V S L F G G G S A I D A A K A M L I F A Q G G S I K A M L N T V L R Q D R L H L L E V T G L R L A D C L P L V A V P T T A G T G S E L T A W S T V I T D H S R Q A A C S L V L M R Y F V K S A D K I S T H N E G L L Y G T A T W E R A K R A M A E A G V R V W A A S S T L G L R L S A Y C R H N A A E M S A E H H G F G V A H S L G K S F A S Y P H G L S E I I V L L A P S F T K H H E S V M L S Q V K Q T G L S P T I Q T T T Q V G V R N L E S E V R D L A I S L N I V C D R L G E H Y Y W S Q V Q E R I N E L E T A P T I E Q R C S C L G N R A F P L N P E D V A I L F Q A S L <end> <|endoftext|> <pad> <pad> <pad> <pad> <pad> <pad> <pad> <pad> <pad> <pad> <pad> <pad> <pad> <pad> <pad> <pad> <pad> <pad> <pad> <pad> <pad> <pad> <pad> <pad> <pad> <pad> <pad> <pad> <pad> <pad> <pad> <pad> <pad> <pad> <pad> <pad> <pad> <pad> <pad> <pad> <pad> <pad> <pad> <pad> <pad> <pad> <pad> <pad> <pad> <pad> <pad> <pad> <pad> <pad> <pad> <pad> <pad> <pad> <pad> <pad> <pad> <pad> <pad> <pad> <pad> <pad> <pad> <pad> <pad> <pad> <pad> <pad> <pad> <pad> <pad> <pad> <pad> <pad> <pad> <pad> <pad> <pad> <pad> <pad> <pad> <pad> <pad> <pad> <pad> <pad> <pad> <pad> <pad> <pad> <pad> <pad> <pad> <pad> <pad> <pad> <pad> <pad> <pad> <pad> <pad> <pad> <pad> <pad> <pad> <pad> <pad> <pad> <pad> <pad> <pad> <pad> <pad> <pad> <pad> <pad> <pad> <pad> <pad> <pad> <pad> <pad> <pad> <pad> <pad> <pad> <pad> <pad> <pad> <pad> <pad> <pad> <pad> <pad> <pad> <pad> <pad> <pad> <pad> <pad> <pad> <pad> <pad> <pad> <pad> <pad>\n",
      "1. 1. 1. 1 <sep> <start> M S G F K L A Y C Q E I N D H D W E T T E R A E V V T G E P L A G E V K I R M A Y A G V D S F L F L L N H P Q L K D G Y A Q Y R E I S I S D P Q S K L A A I V N S F K P F M F T F V D L L P T G Q A Y V N V T A P A D D C P P K F V Q V G V G A Q P Y W L Q S K L V Q I N I F R K E K D F I E E I M G A R P H T K H I A D F K V T N K G E Y V P W G I I V D N G S H S G M L I E E A A G F A G I K M V E I P T S V T L Y F S N K V T F V G V G P V A W D K G L E L P T Y G S T V I I I G Q S C A R M Q K M I E Q G R L L A D R P R L K L A Q I A N D I I L T C N C T S C G N C E A T F D L S S N D P G C E Y H K R Y N G I F T A E E L E V G K G P R I A L I G I G G I G M E C A H H A A S K G H G T M I V A C V G A A H E Q L T Q Y A K I Y W A D G P D T E H I D W S R H I D I T N P R E F I E H L D K L N R G P D C V I A T A G Q A S V M A E L I D N V G K R G H T S S L N A A R E L D E E R L F D L G I A G G F I G H R S V P I P P T F R T R G L T I K K R Y I F D D I D V C A R V L A Q H G C F P V P F S E A I D S G R A L I D H P Q T Q A Q L L H P F L V R H W K A E N L M N S P V <end> <|endoftext|>\n",
      "1. 1. 1. 1 <sep> <start> M Y T F N S Y A P I E I Q A L E G L P G K V L V D R F P V I M R R G F A S I K I T L G S D S V K P G N N M L I K F G G L K V V F G H E Y I G A E L K S I F T C E R I V A F S H D P K G D K K V D K D D N P L F K I D A R T E C G W L V N G A G G A V I N A I L P Y I G I Y A Q M H K G S I M Y A P W L S D M V T T L G M A I M M P M S R I T V V P R T G R T I D L R Y A D F F K I R K H S L K R F I F I W S A V V R Q T P V V A Y P E R N D L T C F L E S M N G A G K I A V K Q Y M K C D P E D T E A K G S I M Y Y D N L H T G M A P R F F V I V R D N M K G N W F P R G K I T K E E I M N S M P E P C T G P A E K L C E L F S A V K P A K R V R G L K C R D H G M N L P F P K Q L D W Y K D A <end> <|endoftext|> <pad> <pad> <pad> <pad> <pad> <pad> <pad> <pad> <pad> <pad> <pad> <pad> <pad> <pad> <pad> <pad> <pad> <pad> <pad> <pad> <pad> <pad> <pad> <pad> <pad> <pad> <pad> <pad> <pad> <pad> <pad> <pad> <pad> <pad> <pad> <pad> <pad> <pad> <pad> <pad> <pad> <pad> <pad> <pad> <pad> <pad> <pad> <pad> <pad> <pad> <pad> <pad> <pad> <pad> <pad> <pad> <pad> <pad> <pad> <pad> <pad> <pad> <pad> <pad> <pad> <pad> <pad> <pad> <pad> <pad> <pad> <pad> <pad> <pad> <pad> <pad> <pad> <pad> <pad> <pad> <pad> <pad> <pad> <pad> <pad> <pad> <pad> <pad> <pad> <pad> <pad> <pad> <pad> <pad> <pad> <pad> <pad> <pad> <pad> <pad> <pad> <pad> <pad> <pad> <pad> <pad> <pad> <pad> <pad> <pad> <pad> <pad> <pad> <pad> <pad> <pad> <pad> <pad> <pad> <pad> <pad> <pad> <pad> <pad> <pad> <pad> <pad> <pad> <pad> <pad> <pad> <pad> <pad> <pad> <pad> <pad> <pad> <pad> <pad> <pad> <pad> <pad> <pad> <pad> <pad> <pad> <pad> <pad> <pad> <pad> <pad> <pad> <pad> <pad> <pad> <pad> <pad> <pad> <pad> <pad> <pad> <pad> <pad> <pad> <pad> <pad> <pad> <pad> <pad> <pad> <pad> <pad> <pad> <pad> <pad> <pad> <pad> <pad> <pad> <pad> <pad> <pad> <pad> <pad> <pad> <pad> <pad> <pad> <pad> <pad>\n",
      "1. 1. 1. 1 <sep> <start> M P E H G K R N L V M R W A V A R G I C I H V N D T G S H D A W R M E F P D P R P N E V L I E T R A A G L C H S D W H A W S G D I T M P Q N A A A F S Q G C R F G N A P G H T F P N P G R I L G H E T S G E I S I L E P D F K E L S L G D V S V P Y L S C G F C T N C L R G D C E I Q R F E S H P G D C T E F G Q R F Q G Y S R K I V V R P Y Y R L P T D V S T A E A T C L V G C Q I I T A W S P W D H I A L D A Q T V I I M G N G T A S M G G V G A A Q V L L N S A H A S L T I T D L G D K A Q A M A E G Y G A T E G L H P L G Y D M L F S L F S N L K I I S W G T T T G K L P G R Y A K L G M K L L I D G S W L D N A P V D I L N K V L D F I C N S S S G R V C G T V T A L G T Y P V V I D R I L D K Q A K L S F I G M L D L T I R G S T V K L K P L L A S G Q R F S F E A L K Q I Y Q N D K V R P I I D A W Q E T <end> <|endoftext|> <pad> <pad> <pad> <pad> <pad> <pad> <pad> <pad> <pad> <pad> <pad> <pad> <pad> <pad> <pad> <pad> <pad> <pad> <pad> <pad> <pad> <pad> <pad> <pad> <pad> <pad> <pad> <pad> <pad> <pad> <pad> <pad> <pad> <pad> <pad> <pad> <pad> <pad> <pad> <pad> <pad> <pad> <pad> <pad> <pad> <pad> <pad> <pad> <pad> <pad> <pad> <pad> <pad> <pad> <pad> <pad> <pad> <pad> <pad> <pad> <pad> <pad> <pad> <pad> <pad> <pad> <pad> <pad> <pad> <pad> <pad> <pad> <pad> <pad> <pad> <pad> <pad> <pad> <pad> <pad> <pad> <pad> <pad> <pad> <pad> <pad> <pad> <pad> <pad> <pad> <pad> <pad> <pad> <pad> <pad> <pad> <pad> <pad> <pad> <pad> <pad> <pad> <pad> <pad> <pad> <pad> <pad> <pad> <pad> <pad> <pad> <pad> <pad> <pad> <pad> <pad> <pad> <pad> <pad> <pad> <pad> <pad> <pad> <pad> <pad> <pad> <pad> <pad> <pad> <pad>\n",
      "1. 1. 1. 1 <sep> <start> M S T L Y Y I P S V N L M G A G C L E Q A K E A I K A C G V R R P L I V T D K V L L G K I E Q A A L E A Q V H L E K S W I I F D K V Q P D P P L K T V Q A G F D A F K K G A C D V L V C A L G S P E C F N H V L G L L A M R N Y C K G Y Y N G E S G L I C G S K K I R R E Y A P L P S F Q D K S V L V L P R T D M A S L D Q S G A L C G V T N D Y L V P V R H M K E G A Y Q R W Q E S G P K V E D D P I W S V H Y R F A P Y A E E V S L L A M L N P M K Q D C L A A D L K A Q Y V T T R I V A W Q F Q R E I N V E K V W H A M A R G D H Q R L Q Q K G L K P T V R E F N R S Q G N T S I S M W A Y M L G R S H K C S K T Y R F C E V D C E V L C I E D A A D R L V E V A P A L D G E L A C D R S A R S M A A A L G K A F E P E Q V V R K R E E L L A R A <end> <|endoftext|> <pad> <pad> <pad> <pad> <pad> <pad> <pad> <pad> <pad> <pad> <pad> <pad> <pad> <pad> <pad> <pad> <pad> <pad> <pad> <pad> <pad> <pad> <pad> <pad> <pad> <pad> <pad> <pad> <pad> <pad> <pad> <pad> <pad> <pad> <pad> <pad> <pad> <pad> <pad> <pad> <pad> <pad> <pad> <pad> <pad> <pad> <pad> <pad> <pad> <pad> <pad> <pad> <pad> <pad> <pad> <pad> <pad> <pad> <pad> <pad> <pad> <pad> <pad> <pad> <pad> <pad> <pad> <pad> <pad> <pad> <pad> <pad> <pad> <pad> <pad> <pad> <pad> <pad> <pad> <pad> <pad> <pad> <pad> <pad> <pad> <pad> <pad> <pad> <pad> <pad> <pad> <pad> <pad> <pad> <pad> <pad> <pad> <pad> <pad> <pad> <pad> <pad> <pad> <pad> <pad> <pad> <pad> <pad> <pad> <pad> <pad> <pad> <pad> <pad> <pad> <pad> <pad> <pad> <pad> <pad> <pad> <pad> <pad> <pad> <pad> <pad> <pad> <pad> <pad> <pad> <pad> <pad> <pad> <pad> <pad> <pad> <pad> <pad> <pad> <pad> <pad> <pad> <pad> <pad> <pad> <pad> <pad> <pad> <pad> <pad> <pad> <pad> <pad> <pad> <pad> <pad> <pad> <pad> <pad> <pad> <pad> <pad>\n"
     ]
    }
   ],
   "source": [
    "print(\"Output:\\n\" + 100 * '-')\n",
    "for i in range(len(output)):\n",
    "    print(tokenizer.decode(output[i]));"
   ]
  },
  {
   "cell_type": "code",
   "execution_count": 98,
   "id": "9684d00a",
   "metadata": {},
   "outputs": [],
   "source": [
    "predictions = [tokenizer.decode(output[i]).replace(' ','') for i in range(10)]\n",
    "del output"
   ]
  },
  {
   "cell_type": "code",
   "execution_count": 99,
   "id": "39ce6666",
   "metadata": {},
   "outputs": [
    {
     "name": "stderr",
     "output_type": "stream",
     "text": [
      "100%|███████████████████████████████████████████████████████████████████████████████████████████████████████████████████████████████████████████████████████████████████████████████████████████████████████████████████████████████████████████| 1/1 [00:01<00:00,  1.19s/it]\n"
     ]
    }
   ],
   "source": [
    "max_tokenized_len = model.config.max_length\n",
    "ppls = []\n",
    "loss_fct = CrossEntropyLoss(reduction=\"none\")\n",
    "batch_size=10\n",
    "encoded_texts = encodings[\"input_ids\"]\n",
    "attn_masks = encodings[\"attention_mask\"]\n",
    "add_start_token = False\n",
    "\n",
    "if tokenizer.pad_token is None and batch_size > 1:\n",
    "    existing_special_tokens = list(tokenizer.special_tokens_map_extended.values())\n",
    "    # check that the model already has at least one special token defined\n",
    "    assert (\n",
    "        len(existing_special_tokens) > 0\n",
    "    ), \"If batch_size > 1, model must have at least one special token to use for padding. Please use a different model or set batch_size=1.\"\n",
    "    # assign one of the special tokens to also be the pad token\n",
    "    tokenizer.add_special_tokens({\"pad_token\": existing_special_tokens[0]})\n",
    "\n",
    "if add_start_token:\n",
    "    # leave room for <BOS> token to be added:\n",
    "    assert (\n",
    "        tokenizer.bos_token is not None\n",
    "    ), \"Input model must already have a BOS token if using add_start_token=True. Please use a different model, or set add_start_token=False\"\n",
    "    max_tokenized_len = model.config.max_length - 1\n",
    "else:\n",
    "    max_tokenized_len = model.config.max_length\n",
    "\n",
    "encodings = tokenizer(\n",
    "    predictions,\n",
    "    add_special_tokens=False,\n",
    "    padding=True,\n",
    "    truncation=True,\n",
    "    max_length=2000,\n",
    "    return_tensors=\"pt\",\n",
    "    return_attention_mask=True).to(device)\n",
    "        \n",
    "for start_index in logging.tqdm(range(0, len(encoded_texts), batch_size)):\n",
    "        end_index = min(start_index + batch_size, len(encoded_texts))\n",
    "        encoded_batch = encoded_texts[start_index:end_index]\n",
    "        attn_mask = attn_masks[start_index:end_index]\n",
    "\n",
    "        if add_start_token:\n",
    "            bos_tokens_tensor = torch.tensor([[tokenizer.bos_token_id]] * encoded_batch.size(dim=0)).to(device)\n",
    "            encoded_batch = torch.cat([bos_tokens_tensor, encoded_batch], dim=1)\n",
    "            attn_mask = torch.cat(\n",
    "                [torch.ones(bos_tokens_tensor.size(), dtype=torch.int64).to(device), attn_mask], dim=1\n",
    "            )\n",
    "\n",
    "        labels = encoded_batch\n",
    "\n",
    "        with torch.no_grad():\n",
    "            out_logits = model(encoded_batch, attention_mask=attn_mask).logits\n",
    "\n",
    "        shift_logits = out_logits[..., :-1, :].contiguous()\n",
    "        shift_labels = labels[..., 1:].contiguous()\n",
    "        shift_attention_mask_batch = attn_mask[..., 1:].contiguous()\n",
    "\n",
    "        perplexity_batch = torch.exp(\n",
    "            (loss_fct(shift_logits.transpose(1, 2), shift_labels) * shift_attention_mask_batch).sum(1)\n",
    "            / shift_attention_mask_batch.sum(1)\n",
    "        )\n",
    "\n",
    "        ppls += perplexity_batch.tolist()\n",
    "        del out_logits\n",
    "\n",
    "ppl = {\"perplexities\": ppls, \"mean_perplexity\": np.mean(ppls)}"
   ]
  },
  {
   "cell_type": "code",
   "execution_count": 105,
   "id": "5e992494",
   "metadata": {},
   "outputs": [],
   "source": [
    "special_tokens = ['<start>', '<end>', '<|endoftext|>','<pad>',' ', '<sep>']"
   ]
  },
  {
   "cell_type": "code",
   "execution_count": 102,
   "id": "fb03ff6a",
   "metadata": {},
   "outputs": [],
   "source": [
    "def remove_characters(str, chars_list):\n",
    "    for char in chars_list:\n",
    "        if char == '<sep>':\n",
    "            str = str.replace(char, ' ')\n",
    "        else:\n",
    "            str = str.replace(char, '')\n",
    "    return str"
   ]
  },
  {
   "cell_type": "markdown",
   "id": "f1f8eb58",
   "metadata": {
    "jp-MarkdownHeadingCollapsed": true,
    "tags": []
   },
   "source": [
    "## Generation à la carte? ProteInfer __(3.1)__ and save DS(2)"
   ]
  },
  {
   "cell_type": "code",
   "execution_count": 103,
   "id": "ab38e216",
   "metadata": {},
   "outputs": [],
   "source": [
    "# don't forget to install geckodriver\n",
    "def proteinfer(seq):\n",
    "    \n",
    "    options = Options()\n",
    "    options.add_argument('--disable-blink-features=AutomationControlled')\n",
    "    url = 'https://google-research.github.io/proteinfer/'\n",
    "    os.environ['MOZ_HEADLESS'] = '1'\n",
    "    driver = webdriver.Firefox()\n",
    "    driver.get(url)\n",
    "    item = driver.find_element('id','yourseq')\n",
    "    item.click()\n",
    "    time.sleep(5)\n",
    "    item = driver.find_element('id','input_seq')\n",
    "    item.send_keys(seq)\n",
    "    time.sleep(20)\n",
    "    item = driver.find_elements(By.CLASS_NAME,'top-figure-link')\n",
    "    out = list(filter(None, [i.text for i in item]))\n",
    "    driver.quit()\n",
    "    \n",
    "    return out"
   ]
  },
  {
   "cell_type": "code",
   "execution_count": null,
   "id": "cda2cdf7",
   "metadata": {
    "scrolled": true
   },
   "outputs": [],
   "source": [
    "# use the one with best perplexity\n",
    "os.environ[\"TOKENIZERS_PARALLELISM\"] = \"false\"\n",
    "inf_res = {}\n",
    "_ = remove_characters(tokenizer.decode(encodings[\"input_ids\"][ppl['perplexities'].index(min(ppl['perplexities']))]),special_tokens).split()\n",
    "seq = _[1]\n",
    "cond_tok = _[0]\n",
    "proteinfer_an = proteinfer(seq)\n",
    "inf_res[seq] = (cond_tok, [x for x in proteinfer_an if x.startswith('EC')],\n",
    "                [x for x in proteinfer_an if x.startswith('GO')])"
   ]
  },
  {
   "cell_type": "code",
   "execution_count": 41,
   "id": "f7e4ccf9",
   "metadata": {
    "tags": []
   },
   "outputs": [
    {
     "name": "stderr",
     "output_type": "stream",
     "text": [
      "100%|██████████████████████████████████████████████████████████████████████████████████████████████████████████████████████████████████████████████████████████████████████████████████████████████████████████████████████████████████████████████████████████████████████████████████████| 10/10 [07:27<00:00, 44.78s/it]\n"
     ]
    }
   ],
   "source": [
    "# just for all\n",
    "os.environ[\"TOKENIZERS_PARALLELISM\"] = \"false\"\n",
    "inf_res = {}\n",
    "for i in tqdm(range(len(output))):\n",
    "    _ = remove_characters(tokenizer.decode(output[i]),special_tokens).split()\n",
    "    seq = _[1]\n",
    "    cond_tok = _[0]\n",
    "    proteinfer_an = proteinfer(seq)\n",
    "    inf_res[seq] = (cond_tok, [x for x in proteinfer_an if x.startswith('EC')],\n",
    "                    [x for x in proteinfer_an if x.startswith('GO')])"
   ]
  },
  {
   "cell_type": "code",
   "execution_count": 44,
   "id": "df0942d7",
   "metadata": {},
   "outputs": [],
   "source": [
    "outdir = '/Users/sebastianlindner/Documents/Projects/Noelia_zymCTRL/'"
   ]
  },
  {
   "cell_type": "code",
   "execution_count": 45,
   "id": "1ac5b776",
   "metadata": {
    "tags": []
   },
   "outputs": [],
   "source": [
    "with open(os.path.join(outdir,'out.fasta'), 'w') as fn:\n",
    "    for i in inf_res.items():\n",
    "        fn.write(f'>{*i[1][0],}|{*i[1][1],}|{*i[1][2],}\\n{i[0]}\\n')"
   ]
  },
  {
   "cell_type": "markdown",
   "id": "23b25867",
   "metadata": {
    "jp-MarkdownHeadingCollapsed": true,
    "tags": []
   },
   "source": [
    "## General quality assesment Structure Prediction __(2.3)__"
   ]
  },
  {
   "cell_type": "code",
   "execution_count": null,
   "id": "66f878fa",
   "metadata": {},
   "outputs": [],
   "source": [
    "#colabfold_batch <directory_with_fasta_files> <result_dir> \n",
    "def omega_fold(outdir):\n",
    "    stream = subprocess.Popen(['omegafold', os.path.join(outdir,'out.fasta'), outdir,'--subbatch_size','27'], stdout=subprocess.PIPE, stderr=subprocess.STDOUT)\n",
    "    while(True):\n",
    "            retcode = stream.poll() \n",
    "            line = stream.stdout.readline()\n",
    "            yield line\n",
    "            if retcode is not None:\n",
    "                return stream.stderr\n",
    "            \n",
    "for line in omega_fold(outdir):\n",
    "                    print(line)"
   ]
  },
  {
   "cell_type": "code",
   "execution_count": 71,
   "id": "d676ab5c",
   "metadata": {},
   "outputs": [],
   "source": [
    "pymol_color_list = [\"#33ff33\",\"#00ffff\",\"#ff33cc\",\"#ffff00\",\"#ff9999\",\"#e5e5e5\",\"#7f7fff\",\"#ff7f00\",\n",
    "                    \"#7fff7f\",\"#199999\",\"#ff007f\",\"#ffdd5e\",\"#8c3f99\",\"#b2b2b2\",\"#007fff\",\"#c4b200\",\n",
    "                    \"#8cb266\",\"#00bfbf\",\"#b27f7f\",\"#fcd1a5\",\"#ff7f7f\",\"#ffbfdd\",\"#7fffff\",\"#ffff7f\",\n",
    "                    \"#00ff7f\",\"#337fcc\",\"#d8337f\",\"#bfff3f\",\"#ff7fff\",\"#d8d8ff\",\"#3fffbf\",\"#b78c4c\",\n",
    "                    \"#339933\",\"#66b2b2\",\"#ba8c84\",\"#84bf00\",\"#b24c66\",\"#7f7f7f\",\"#3f3fa5\",\"#a5512b\"]\n",
    "\n",
    "def show_pdb(pdb_str, show_sidechains=False, show_mainchains=False,\n",
    "             color=\"pLDDT\", chains=None, vmin=50, vmax=90,\n",
    "             size=(800,480), hbondCutoff=4.0,\n",
    "             Ls=None,\n",
    "             animate=False):\n",
    "  \n",
    "    if chains is None:\n",
    "        chains = 1 if Ls is None else len(Ls)\n",
    "    view = py3Dmol.view(js='https://3dmol.org/build/3Dmol.js', width=size[0], height=size[1])\n",
    "    if animate:\n",
    "        view.addModelsAsFrames(pdb_str,'pdb',{'hbondCutoff':hbondCutoff})\n",
    "    else:\n",
    "        view.addModel(pdb_str,'pdb',{'hbondCutoff':hbondCutoff})\n",
    "    if color == \"pLDDT\":\n",
    "        view.setStyle({'cartoon': {'colorscheme': {'prop':'b','gradient': 'roygb','min':vmin,'max':vmax}}})\n",
    "    elif color == \"rainbow\":\n",
    "        view.setStyle({'cartoon': {'color':'spectrum'}})\n",
    "    elif color == \"chain\":\n",
    "        for n,chain,color in zip(range(chains),alphabet_list,pymol_color_list):\n",
    "            view.setStyle({'chain':chain},{'cartoon': {'color':color}})\n",
    "    if show_sidechains:\n",
    "        BB = ['C','O','N']\n",
    "        HP = [\"ALA\",\"GLY\",\"VAL\",\"ILE\",\"LEU\",\"PHE\",\"MET\",\"PRO\",\"TRP\",\"CYS\",\"TYR\"]\n",
    "        view.addStyle({'and':[{'resn':[\"GLY\",\"PRO\"],'invert':True},{'atom':BB,'invert':True}]},\n",
    "                  {'stick':{'colorscheme':f\"WhiteCarbon\",'radius':0.3}})\n",
    "        view.addStyle({'and':[{'resn':\"GLY\"},{'atom':'CA'}]},\n",
    "                  {'sphere':{'colorscheme':f\"WhiteCarbon\",'radius':0.3}})\n",
    "        view.addStyle({'and':[{'resn':\"PRO\"},{'atom':['C','O'],'invert':True}]},\n",
    "                  {'stick':{'colorscheme':f\"WhiteCarbon\",'radius':0.3}})  \n",
    "    if show_mainchains:\n",
    "        BB = ['C','O','N','CA']\n",
    "        view.addStyle({'atom':BB},{'stick':{'colorscheme':f\"WhiteCarbon\",'radius':0.3}})\n",
    "        view.zoomTo()\n",
    "    if animate: view.animate()\n",
    "    return view"
   ]
  },
  {
   "cell_type": "code",
   "execution_count": null,
   "id": "6be6b4ff",
   "metadata": {},
   "outputs": [],
   "source": [
    "files = [file for file in glob.glob(f\"{outdir}/*.pdb\")]\n",
    "for i in files:\n",
    "    lens = [len(i) for i in inf_res.keys()]\n",
    "    pdb_str = open(os.path.join(os.getcwd(),i),'r').read()\n",
    "    color = \"confidence\"\n",
    "    if color == \"confidence\": color = \"pLDDT\"\n",
    "    show_sidechains = False\n",
    "    show_mainchains = False\n",
    "    show_pdb(pdb_str, color=color, show_sidechains=show_sidechains, show_mainchains=show_mainchains,\n",
    "             Ls=lens).show()"
   ]
  },
  {
   "cell_type": "markdown",
   "id": "d16963a5",
   "metadata": {
    "jp-MarkdownHeadingCollapsed": true,
    "tags": []
   },
   "source": [
    "## General quality assesment Homology __(2.4)__"
   ]
  },
  {
   "cell_type": "code",
   "execution_count": 20,
   "id": "f08f01a9",
   "metadata": {
    "tags": []
   },
   "outputs": [
    {
     "name": "stdout",
     "output_type": "stream",
     "text": [
      "BLASTP: blastp -out /Users/sebastianlindner/results.tab -outfmt \"6 qseqid sseqid pident qcovs qlen slen length bitscore evalue\" -query /Users/sebastianlindner/out.fasta -evalue 3.059023205018258e-07 -max_target_seqs 5 -subject /Users/sebastianlindner/Downloads/brenda_uniprot.faa\n"
     ]
    },
    {
     "name": "stderr",
     "output_type": "stream",
     "text": [
      "\n",
      "KeyboardInterrupt\n",
      "\n"
     ]
    }
   ],
   "source": [
    "seq = os.path.join(outdir,'out.fasta')\n",
    "\n",
    "out = os.path.join(outdir,'results.tab')\n",
    "\n",
    "blastp = NcbiblastpCommandline(query=seq, subject= '/Users/sebastianlindner/Downloads/brenda_uniprot.faa', out=out, max_target_seqs = 5, outfmt=\"6 qseqid sseqid pident qcovs qlen slen length bitscore evalue\",\n",
    "                               evalue=math.exp(-15))\n",
    "\n",
    "print(\"BLASTP: %s\" % blastp)\n",
    "\n",
    "stdout, stderr = blastp()\n",
    "print(\"STDOUT: %s\" % stdout)\n",
    "print(\"STDERR: %s\" % stderr)"
   ]
  },
  {
   "cell_type": "markdown",
   "id": "445b9e07",
   "metadata": {
    "jp-MarkdownHeadingCollapsed": true,
    "tags": []
   },
   "source": [
    "## Generation à la carte? t-SNE __(3.2)__"
   ]
  },
  {
   "cell_type": "code",
   "execution_count": null,
   "id": "10c0eba0",
   "metadata": {},
   "outputs": [],
   "source": [
    "#clustal-omega -i out.fasta --distmat-out=<file> --auto --full"
   ]
  },
  {
   "cell_type": "code",
   "execution_count": 82,
   "id": "e813c882",
   "metadata": {},
   "outputs": [
    {
     "data": {
      "text/plain": [
       "[['3'],\n",
       " ['sp|P69905|HBA_HUMAN', '0.000000', '0.140845', '0.436620'],\n",
       " ['sp|P01942|HBA_MOUSE', '0.140845', '0.000000', '0.436620'],\n",
       " ['sp|P13786|HBAZ_CAPHI', '0.436620', '0.436620', '0.000000']]"
      ]
     },
     "execution_count": 82,
     "metadata": {},
     "output_type": "execute_result"
    }
   ],
   "source": [
    "[i.split() for i in open('dist.out', 'r').readlines()]"
   ]
  },
  {
   "cell_type": "code",
   "execution_count": 136,
   "id": "66a49080",
   "metadata": {},
   "outputs": [],
   "source": [
    "dist_matr = np.array([i.split()[1:] for i in open('dist.out', 'r').readlines() if i.split()[1:]], dtype='float')\n",
    "label = np.array([i.split()[:1][0] for i in open('dist.out', 'r').readlines() if i.split()[1:]])"
   ]
  },
  {
   "cell_type": "code",
   "execution_count": 137,
   "id": "47bbbe91",
   "metadata": {},
   "outputs": [
    {
     "data": {
      "text/plain": [
       "'The distance matrix was used with the scikit-learn t-SNE module 56 with default settings (early exaggeration 12, learning rate 200, maximum number of iterations: 1000) except that the embedding generation perplexity was set to 7. Coordinates given by t-SNE were used for plotting, the size of a given dot was visualized based on the cluster size it represents.'"
      ]
     },
     "execution_count": 137,
     "metadata": {},
     "output_type": "execute_result"
    }
   ],
   "source": [
    "t_sne = TSNE(n_components=2,\n",
    "    learning_rate=\"auto\",\n",
    "    perplexity=2,\n",
    "    n_iter=1000,\n",
    "    init=\"random\",\n",
    "    random_state=42,\n",
    ")\n",
    "tsne_results = t_sne.fit_transform(dist_matr)\n",
    "t_plot = {\"tsne-2d-one\":tsne_results[:,0],\"tsne-2d-two\":tsne_results[:,1], 'y':label}"
   ]
  },
  {
   "cell_type": "code",
   "execution_count": 1,
   "id": "a4130389",
   "metadata": {},
   "outputs": [
    {
     "ename": "NameError",
     "evalue": "name 'plt' is not defined",
     "output_type": "error",
     "traceback": [
      "\u001b[0;31m---------------------------------------------------------------------------\u001b[0m",
      "\u001b[0;31mNameError\u001b[0m                                 Traceback (most recent call last)",
      "\u001b[0;32m/tmp/ipykernel_424945/3264506999.py\u001b[0m in \u001b[0;36m<module>\u001b[0;34m\u001b[0m\n\u001b[0;32m----> 1\u001b[0;31m \u001b[0mplt\u001b[0m\u001b[0;34m.\u001b[0m\u001b[0mfigure\u001b[0m\u001b[0;34m(\u001b[0m\u001b[0mfigsize\u001b[0m\u001b[0;34m=\u001b[0m\u001b[0;34m(\u001b[0m\u001b[0;36m16\u001b[0m\u001b[0;34m,\u001b[0m\u001b[0;36m10\u001b[0m\u001b[0;34m)\u001b[0m\u001b[0;34m)\u001b[0m\u001b[0;34m\u001b[0m\u001b[0;34m\u001b[0m\u001b[0m\n\u001b[0m\u001b[1;32m      2\u001b[0m sns.scatterplot(\n\u001b[1;32m      3\u001b[0m     \u001b[0mx\u001b[0m\u001b[0;34m=\u001b[0m\u001b[0;34m\"tsne-2d-one\"\u001b[0m\u001b[0;34m,\u001b[0m \u001b[0my\u001b[0m\u001b[0;34m=\u001b[0m\u001b[0;34m\"tsne-2d-two\"\u001b[0m\u001b[0;34m,\u001b[0m\u001b[0;34m\u001b[0m\u001b[0;34m\u001b[0m\u001b[0m\n\u001b[1;32m      4\u001b[0m     \u001b[0mhue\u001b[0m\u001b[0;34m=\u001b[0m\u001b[0;34m\"y\"\u001b[0m\u001b[0;34m,\u001b[0m\u001b[0;34m\u001b[0m\u001b[0;34m\u001b[0m\u001b[0m\n\u001b[1;32m      5\u001b[0m     \u001b[0mpalette\u001b[0m\u001b[0;34m=\u001b[0m\u001b[0msns\u001b[0m\u001b[0;34m.\u001b[0m\u001b[0mcolor_palette\u001b[0m\u001b[0;34m(\u001b[0m\u001b[0;34m\"huls\"\u001b[0m\u001b[0;34m,\u001b[0m \u001b[0mlen\u001b[0m\u001b[0;34m(\u001b[0m\u001b[0mlabel\u001b[0m\u001b[0;34m)\u001b[0m\u001b[0;34m)\u001b[0m\u001b[0;34m,\u001b[0m\u001b[0;34m\u001b[0m\u001b[0;34m\u001b[0m\u001b[0m\n",
      "\u001b[0;31mNameError\u001b[0m: name 'plt' is not defined"
     ]
    }
   ],
   "source": [
    "plt.figure(figsize=(16,10))\n",
    "sns.scatterplot(\n",
    "    x=\"tsne-2d-one\", y=\"tsne-2d-two\",\n",
    "    hue=\"y\",\n",
    "    palette=sns.color_palette(\"hls\", len(label)),\n",
    "    data=t_plot,\n",
    "    legend=\"full\",\n",
    "    alpha=0.3\n",
    ")\n",
    "plt.show()"
   ]
  },
  {
   "cell_type": "code",
   "execution_count": null,
   "id": "4a95682e",
   "metadata": {},
   "outputs": [],
   "source": []
  }
 ],
 "metadata": {
  "kernelspec": {
   "display_name": "Python 3 (ipykernel)",
   "language": "python",
   "name": "python3"
  },
  "language_info": {
   "codemirror_mode": {
    "name": "ipython",
    "version": 3
   },
   "file_extension": ".py",
   "mimetype": "text/x-python",
   "name": "python",
   "nbconvert_exporter": "python",
   "pygments_lexer": "ipython3",
   "version": "3.7.12"
  }
 },
 "nbformat": 4,
 "nbformat_minor": 5
}
