{
 "cells": [
  {
   "cell_type": "code",
   "execution_count": null,
   "id": "95fdc53f-7482-4917-b466-503bd768a99b",
   "metadata": {},
   "outputs": [],
   "source": [
    "#double check - especially with the second class EC-number"
   ]
  },
  {
   "cell_type": "code",
   "execution_count": 13,
   "id": "76536900-e156-4feb-8228-91843c2a20be",
   "metadata": {},
   "outputs": [],
   "source": [
    "import pandas as pd\n",
    "from argparse import ArgumentParser\n",
    "from tqdm import tqdm\n",
    "import pickle\n",
    "import torch\n",
    "from transformers import GPT2LMHeadModel, GPT2Tokenizer, AutoTokenizer\n",
    "import random\n",
    "from selenium import webdriver\n",
    "from selenium.webdriver.common.by import By\n",
    "import os\n",
    "import time\n",
    "from tqdm import tqdm\n",
    "from selenium.webdriver.firefox.options import Options\n",
    "from Bio import SeqIO\n",
    "import proteinfer\n",
    "import multiprocessing\n",
    "import glob, os"
   ]
  },
  {
   "cell_type": "code",
   "execution_count": 2,
   "id": "4737d159-6fc6-4e54-b242-327d429e6899",
   "metadata": {},
   "outputs": [],
   "source": [
    "with open(\"joined_generated_2_short.fasta\",'r') as fn:\n",
    "    data = fn.readlines()"
   ]
  },
  {
   "cell_type": "code",
   "execution_count": 3,
   "id": "18604271-048f-44ba-887d-663bd813d0d6",
   "metadata": {},
   "outputs": [],
   "source": [
    "fasta = [i.replace('\\n','').split() for i in data]"
   ]
  },
  {
   "cell_type": "code",
   "execution_count": 4,
   "id": "f8b9ab62-dca8-41ef-ac93-78d72565c155",
   "metadata": {
    "tags": []
   },
   "outputs": [],
   "source": [
    "new_fasta ={}\n",
    "for idx in range(0,len(fasta),2):\n",
    "    new_fasta[fasta[idx][0]+', '+fasta[idx+1][0]]=fasta[idx+1][1]"
   ]
  },
  {
   "cell_type": "code",
   "execution_count": 5,
   "id": "547caaa6-833c-4c4c-80bd-1c73c4bb549a",
   "metadata": {},
   "outputs": [],
   "source": [
    "def split(a, n):\n",
    "    k, m = divmod(len(a), n)\n",
    "    return (a[i*k+min(i, m):(i+1)*k+min(i+1, m)] for i in range(n))"
   ]
  },
  {
   "cell_type": "code",
   "execution_count": 6,
   "id": "12fde59c-5c03-4724-85b2-a8d319c1318a",
   "metadata": {},
   "outputs": [],
   "source": [
    "splitted_ls = [i for i in split(list(new_fasta.items()),multiprocessing.cpu_count())]"
   ]
  },
  {
   "cell_type": "code",
   "execution_count": null,
   "id": "6bba4e74-1edf-4635-ac33-05579a31405a",
   "metadata": {
    "tags": []
   },
   "outputs": [],
   "source": [
    "#use if fasta already exist and you want to proceed the process\n",
    "for idx,i in enumerate(splitted_ls):\n",
    "    data = open(f'{idx}_out_natural.fasta','r').readlines()\n",
    "    EC_ident = [j.split('|')[0][1:] for j in data if j.startswith('>')]\n",
    "    rest = list(set([j[0] for j in i])-set(EC_ident))\n",
    "    print(len(rest))\n",
    "    splitted_ls[idx] = [j for j in i if j[0] in rest]"
   ]
  },
  {
   "cell_type": "code",
   "execution_count": null,
   "id": "31cc3fa3-b46e-4685-9fad-0ece3e52ccc4",
   "metadata": {
    "tags": []
   },
   "outputs": [],
   "source": [
    "outdir = '/Users/sebastianlindner/Desktop'\n",
    "processes = {}\n",
    "for i in range(multiprocessing.cpu_count()):\n",
    "    time.sleep(5)\n",
    "    processes[f'process{i}'] = multiprocessing.Process(target=proteinfer.run, args=(splitted_ls[i],f'{i}_out_natural.fasta',outdir,))\n",
    "    processes[f'process{i}'].start()"
   ]
  },
  {
   "cell_type": "code",
   "execution_count": 155,
   "id": "5e8a85c4-8378-49a5-8240-0881e02c033e",
   "metadata": {
    "scrolled": true,
    "tags": []
   },
   "outputs": [
    {
     "name": "stderr",
     "output_type": "stream",
     "text": [
      " 10%|█         | 17/165 [13:03<1:53:39, 46.08s/it]"
     ]
    },
    {
     "name": "stdout",
     "output_type": "stream",
     "text": [
      "Total progress: 4.93%\n"
     ]
    },
    {
     "name": "stderr",
     "output_type": "stream",
     "text": [
      " 11%|█         | 18/165 [13:47<1:51:50, 45.65s/it]"
     ]
    },
    {
     "name": "stdout",
     "output_type": "stream",
     "text": [
      "Total progress: 5.31%\n"
     ]
    },
    {
     "name": "stderr",
     "output_type": "stream",
     "text": [
      " 12%|█▏        | 20/165 [15:19<1:50:45, 45.83s/it]"
     ]
    },
    {
     "name": "stdout",
     "output_type": "stream",
     "text": [
      "Total progress: 5.92%\n"
     ]
    },
    {
     "name": "stderr",
     "output_type": "stream",
     "text": [
      " 13%|█▎        | 21/165 [16:05<1:49:53, 45.79s/it]"
     ]
    },
    {
     "name": "stdout",
     "output_type": "stream",
     "text": [
      "Total progress: 6.22%\n"
     ]
    },
    {
     "name": "stderr",
     "output_type": "stream",
     "text": [
      " 14%|█▍        | 23/165 [17:37<1:48:27, 45.83s/it]"
     ]
    },
    {
     "name": "stdout",
     "output_type": "stream",
     "text": [
      "Total progress: 6.83%\n"
     ]
    },
    {
     "name": "stderr",
     "output_type": "stream",
     "text": [
      " 15%|█▍        | 24/165 [18:23<1:47:40, 45.82s/it]"
     ]
    },
    {
     "name": "stdout",
     "output_type": "stream",
     "text": [
      "Total progress: 7.13%\n"
     ]
    },
    {
     "name": "stderr",
     "output_type": "stream",
     "text": [
      " 16%|█▌        | 26/165 [19:54<1:45:57, 45.74s/it]"
     ]
    },
    {
     "name": "stdout",
     "output_type": "stream",
     "text": [
      "Total progress: 7.74%\n"
     ]
    },
    {
     "name": "stderr",
     "output_type": "stream",
     "text": [
      " 16%|█▋        | 27/165 [20:40<1:45:17, 45.78s/it]"
     ]
    },
    {
     "name": "stdout",
     "output_type": "stream",
     "text": [
      "Total progress: 8.04%\n"
     ]
    },
    {
     "name": "stderr",
     "output_type": "stream",
     "text": [
      " 18%|█▊        | 29/165 [22:12<1:44:16, 46.00s/it]"
     ]
    },
    {
     "name": "stdout",
     "output_type": "stream",
     "text": [
      "Total progress: 8.65%\n"
     ]
    },
    {
     "name": "stderr",
     "output_type": "stream",
     "text": [
      " 18%|█▊        | 29/164 [23:33<1:43:27, 45.98s/it]"
     ]
    },
    {
     "name": "stdout",
     "output_type": "stream",
     "text": [
      "Total progress: 9.03%\n"
     ]
    },
    {
     "name": "stderr",
     "output_type": "stream",
     "text": [
      " 19%|█▉        | 32/165 [24:31<1:42:07, 46.07s/it]"
     ]
    },
    {
     "name": "stdout",
     "output_type": "stream",
     "text": [
      "Total progress: 9.56%\n"
     ]
    },
    {
     "name": "stderr",
     "output_type": "stream",
     "text": [
      " 20%|█▉        | 32/164 [25:50<1:40:32, 45.70s/it]"
     ]
    },
    {
     "name": "stdout",
     "output_type": "stream",
     "text": [
      "Total progress: 9.94%\n"
     ]
    },
    {
     "name": "stderr",
     "output_type": "stream",
     "text": [
      " 21%|██        | 35/165 [26:52<1:41:45, 46.97s/it]"
     ]
    },
    {
     "name": "stdout",
     "output_type": "stream",
     "text": [
      "Total progress: 10.47%\n"
     ]
    },
    {
     "name": "stderr",
     "output_type": "stream",
     "text": [
      " 21%|██▏       | 35/164 [28:07<1:38:03, 45.61s/it]"
     ]
    },
    {
     "name": "stdout",
     "output_type": "stream",
     "text": [
      "Total progress: 10.85%\n"
     ]
    },
    {
     "name": "stderr",
     "output_type": "stream",
     "text": [
      " 23%|██▎       | 38/165 [29:09<1:37:40, 46.15s/it]"
     ]
    },
    {
     "name": "stdout",
     "output_type": "stream",
     "text": [
      "Total progress: 11.38%\n"
     ]
    },
    {
     "name": "stderr",
     "output_type": "stream",
     "text": [
      " 24%|██▍       | 40/165 [30:42<1:35:14, 45.72s/it]"
     ]
    },
    {
     "name": "stdout",
     "output_type": "stream",
     "text": [
      "Total progress: 11.84%\n"
     ]
    },
    {
     "name": "stderr",
     "output_type": "stream",
     "text": [
      " 25%|██▍       | 41/165 [31:26<1:34:40, 45.81s/it]"
     ]
    },
    {
     "name": "stdout",
     "output_type": "stream",
     "text": [
      "Total progress: 12.29%\n"
     ]
    },
    {
     "name": "stderr",
     "output_type": "stream",
     "text": [
      " 26%|██▌       | 43/165 [32:59<1:32:46, 45.62s/it]"
     ]
    },
    {
     "name": "stdout",
     "output_type": "stream",
     "text": [
      "Total progress: 12.75%\n"
     ]
    },
    {
     "name": "stderr",
     "output_type": "stream",
     "text": [
      " 27%|██▋       | 44/165 [33:43<1:32:02, 45.64s/it]"
     ]
    },
    {
     "name": "stdout",
     "output_type": "stream",
     "text": [
      "Total progress: 13.2%\n"
     ]
    },
    {
     "name": "stderr",
     "output_type": "stream",
     "text": [
      " 28%|██▊       | 46/165 [35:17<1:30:31, 45.64s/it]"
     ]
    },
    {
     "name": "stdout",
     "output_type": "stream",
     "text": [
      "Total progress: 13.73%\n"
     ]
    },
    {
     "name": "stderr",
     "output_type": "stream",
     "text": [
      " 28%|██▊       | 47/165 [36:00<1:29:52, 45.70s/it]"
     ]
    },
    {
     "name": "stdout",
     "output_type": "stream",
     "text": [
      "Total progress: 14.11%\n"
     ]
    },
    {
     "name": "stderr",
     "output_type": "stream",
     "text": [
      " 30%|██▉       | 49/165 [37:34<1:28:13, 45.63s/it]"
     ]
    },
    {
     "name": "stdout",
     "output_type": "stream",
     "text": [
      "Total progress: 14.64%\n"
     ]
    },
    {
     "name": "stderr",
     "output_type": "stream",
     "text": [
      " 30%|███       | 50/165 [38:17<1:27:22, 45.59s/it]"
     ]
    },
    {
     "name": "stdout",
     "output_type": "stream",
     "text": [
      "Total progress: 15.02%\n"
     ]
    },
    {
     "name": "stderr",
     "output_type": "stream",
     "text": [
      " 32%|███▏      | 52/165 [39:55<1:27:54, 46.67s/it]"
     ]
    },
    {
     "name": "stdout",
     "output_type": "stream",
     "text": [
      "Total progress: 15.55%\n"
     ]
    },
    {
     "name": "stderr",
     "output_type": "stream",
     "text": [
      " 32%|███▏      | 53/165 [40:39<1:27:07, 46.67s/it]"
     ]
    },
    {
     "name": "stdout",
     "output_type": "stream",
     "text": [
      "Total progress: 15.93%\n"
     ]
    },
    {
     "name": "stderr",
     "output_type": "stream",
     "text": [
      " 33%|███▎      | 55/165 [42:13<1:24:40, 46.18s/it]"
     ]
    },
    {
     "name": "stdout",
     "output_type": "stream",
     "text": [
      "Total progress: 16.46%\n"
     ]
    },
    {
     "name": "stderr",
     "output_type": "stream",
     "text": [
      " 34%|███▎      | 55/164 [43:25<1:23:43, 46.09s/it]"
     ]
    },
    {
     "name": "stdout",
     "output_type": "stream",
     "text": [
      "Total progress: 16.92%\n"
     ]
    },
    {
     "name": "stderr",
     "output_type": "stream",
     "text": [
      " 35%|███▌      | 58/165 [44:27<1:21:42, 45.82s/it]"
     ]
    },
    {
     "name": "stdout",
     "output_type": "stream",
     "text": [
      "Total progress: 17.45%\n"
     ]
    },
    {
     "name": "stderr",
     "output_type": "stream",
     "text": [
      " 35%|███▌      | 58/164 [45:42<1:20:55, 45.81s/it]"
     ]
    },
    {
     "name": "stdout",
     "output_type": "stream",
     "text": [
      "Total progress: 17.83%\n"
     ]
    },
    {
     "name": "stderr",
     "output_type": "stream",
     "text": [
      " 37%|███▋      | 61/165 [46:45<1:19:32, 45.89s/it]"
     ]
    },
    {
     "name": "stdout",
     "output_type": "stream",
     "text": [
      "Total progress: 18.36%\n"
     ]
    },
    {
     "name": "stderr",
     "output_type": "stream",
     "text": [
      " 37%|███▋      | 61/164 [48:00<1:19:00, 46.02s/it]"
     ]
    },
    {
     "name": "stdout",
     "output_type": "stream",
     "text": [
      "Total progress: 18.74%\n"
     ]
    },
    {
     "name": "stderr",
     "output_type": "stream",
     "text": [
      " 39%|███▉      | 64/165 [49:02<1:16:54, 45.68s/it]"
     ]
    },
    {
     "name": "stdout",
     "output_type": "stream",
     "text": [
      "Total progress: 19.27%\n"
     ]
    },
    {
     "name": "stderr",
     "output_type": "stream",
     "text": [
      " 40%|████      | 66/165 [50:33<1:15:22, 45.68s/it]"
     ]
    },
    {
     "name": "stdout",
     "output_type": "stream",
     "text": [
      "Total progress: 19.73%\n"
     ]
    },
    {
     "name": "stderr",
     "output_type": "stream",
     "text": [
      " 41%|████      | 67/165 [51:19<1:14:39, 45.71s/it]"
     ]
    },
    {
     "name": "stdout",
     "output_type": "stream",
     "text": [
      "Total progress: 20.18%\n"
     ]
    },
    {
     "name": "stderr",
     "output_type": "stream",
     "text": [
      " 42%|████▏     | 69/165 [52:51<1:13:32, 45.96s/it]"
     ]
    },
    {
     "name": "stdout",
     "output_type": "stream",
     "text": [
      "Total progress: 20.64%\n"
     ]
    },
    {
     "name": "stderr",
     "output_type": "stream",
     "text": [
      " 42%|████▏     | 70/165 [53:36<1:12:19, 45.67s/it]"
     ]
    },
    {
     "name": "stdout",
     "output_type": "stream",
     "text": [
      "Total progress: 21.09%\n"
     ]
    },
    {
     "name": "stderr",
     "output_type": "stream",
     "text": [
      " 44%|████▎     | 72/165 [55:09<1:10:43, 45.63s/it]"
     ]
    },
    {
     "name": "stdout",
     "output_type": "stream",
     "text": [
      "Total progress: 21.62%\n"
     ]
    },
    {
     "name": "stderr",
     "output_type": "stream",
     "text": [
      " 44%|████▍     | 73/165 [55:52<1:09:55, 45.60s/it]"
     ]
    },
    {
     "name": "stdout",
     "output_type": "stream",
     "text": [
      "Total progress: 22.0%\n"
     ]
    },
    {
     "name": "stderr",
     "output_type": "stream",
     "text": [
      " 45%|████▌     | 75/165 [57:30<1:10:24, 46.94s/it]"
     ]
    },
    {
     "name": "stdout",
     "output_type": "stream",
     "text": [
      "Total progress: 22.46%\n"
     ]
    },
    {
     "name": "stderr",
     "output_type": "stream",
     "text": [
      " 46%|████▌     | 76/165 [58:20<1:11:25, 48.16s/it]"
     ]
    },
    {
     "name": "stdout",
     "output_type": "stream",
     "text": [
      "Total progress: 22.91%\n"
     ]
    },
    {
     "name": "stderr",
     "output_type": "stream",
     "text": [
      " 47%|████▋     | 78/165 [59:50<1:07:29, 46.55s/it]"
     ]
    },
    {
     "name": "stdout",
     "output_type": "stream",
     "text": [
      "Total progress: 23.37%\n"
     ]
    },
    {
     "name": "stderr",
     "output_type": "stream",
     "text": [
      " 48%|████▊     | 79/165 [1:00:50<1:08:19, 47.67s/it]"
     ]
    },
    {
     "name": "stdout",
     "output_type": "stream",
     "text": [
      "Total progress: 23.82%\n"
     ]
    },
    {
     "name": "stderr",
     "output_type": "stream",
     "text": [
      " 49%|████▉     | 81/165 [1:02:07<1:04:20, 45.96s/it]"
     ]
    },
    {
     "name": "stdout",
     "output_type": "stream",
     "text": [
      "Total progress: 24.28%\n"
     ]
    },
    {
     "name": "stderr",
     "output_type": "stream",
     "text": [
      " 50%|████▉     | 82/165 [1:03:07<1:04:22, 46.54s/it]"
     ]
    },
    {
     "name": "stdout",
     "output_type": "stream",
     "text": [
      "Total progress: 24.73%\n"
     ]
    },
    {
     "name": "stderr",
     "output_type": "stream",
     "text": [
      " 51%|█████     | 84/165 [1:04:24<1:01:41, 45.70s/it]"
     ]
    },
    {
     "name": "stdout",
     "output_type": "stream",
     "text": [
      "Total progress: 25.19%\n"
     ]
    },
    {
     "name": "stderr",
     "output_type": "stream",
     "text": [
      " 52%|█████▏    | 85/165 [1:05:26<1:01:41, 46.27s/it]"
     ]
    },
    {
     "name": "stdout",
     "output_type": "stream",
     "text": [
      "Total progress: 25.64%\n"
     ]
    },
    {
     "name": "stderr",
     "output_type": "stream",
     "text": [
      " 53%|█████▎    | 87/165 [1:06:40<59:13, 45.56s/it]  "
     ]
    },
    {
     "name": "stdout",
     "output_type": "stream",
     "text": [
      "Total progress: 26.1%\n"
     ]
    },
    {
     "name": "stderr",
     "output_type": "stream",
     "text": [
      " 53%|█████▎    | 87/164 [1:07:54<58:48, 45.83s/it]  "
     ]
    },
    {
     "name": "stdout",
     "output_type": "stream",
     "text": [
      "Total progress: 26.63%\n"
     ]
    },
    {
     "name": "stderr",
     "output_type": "stream",
     "text": [
      " 55%|█████▍    | 90/165 [1:08:58<57:05, 45.67s/it]"
     ]
    },
    {
     "name": "stdout",
     "output_type": "stream",
     "text": [
      "Total progress: 27.01%\n"
     ]
    },
    {
     "name": "stderr",
     "output_type": "stream",
     "text": [
      " 55%|█████▍    | 90/164 [1:10:11<56:27, 45.77s/it]"
     ]
    },
    {
     "name": "stdout",
     "output_type": "stream",
     "text": [
      "Total progress: 27.54%\n"
     ]
    },
    {
     "name": "stderr",
     "output_type": "stream",
     "text": [
      " 56%|█████▋    | 93/165 [1:11:14<54:46, 45.65s/it]"
     ]
    },
    {
     "name": "stdout",
     "output_type": "stream",
     "text": [
      "Total progress: 27.92%\n"
     ]
    },
    {
     "name": "stderr",
     "output_type": "stream",
     "text": [
      " 57%|█████▋    | 93/164 [1:12:28<54:05, 45.71s/it]"
     ]
    },
    {
     "name": "stdout",
     "output_type": "stream",
     "text": [
      "Total progress: 28.45%\n"
     ]
    },
    {
     "name": "stderr",
     "output_type": "stream",
     "text": [
      " 58%|█████▊    | 96/165 [1:13:31<52:29, 45.65s/it]"
     ]
    },
    {
     "name": "stdout",
     "output_type": "stream",
     "text": [
      "Total progress: 28.83%\n"
     ]
    },
    {
     "name": "stderr",
     "output_type": "stream",
     "text": [
      " 59%|█████▉    | 98/165 [1:15:05<51:43, 46.32s/it]"
     ]
    },
    {
     "name": "stdout",
     "output_type": "stream",
     "text": [
      "Total progress: 29.44%\n"
     ]
    },
    {
     "name": "stderr",
     "output_type": "stream",
     "text": [
      " 60%|██████    | 99/165 [1:15:54<51:47, 47.08s/it]"
     ]
    },
    {
     "name": "stdout",
     "output_type": "stream",
     "text": [
      "Total progress: 29.74%\n"
     ]
    },
    {
     "name": "stderr",
     "output_type": "stream",
     "text": [
      " 60%|██████    | 99/164 [1:17:10<51:04, 47.15s/it]]"
     ]
    },
    {
     "name": "stdout",
     "output_type": "stream",
     "text": [
      "Total progress: 30.27%\n"
     ]
    },
    {
     "name": "stderr",
     "output_type": "stream",
     "text": [
      " 62%|██████▏   | 102/165 [1:18:13<48:48, 46.48s/it]"
     ]
    },
    {
     "name": "stdout",
     "output_type": "stream",
     "text": [
      "Total progress: 30.65%\n"
     ]
    },
    {
     "name": "stderr",
     "output_type": "stream",
     "text": [
      " 63%|██████▎   | 104/165 [1:19:44<46:49, 46.06s/it]"
     ]
    },
    {
     "name": "stdout",
     "output_type": "stream",
     "text": [
      "Total progress: 31.26%\n"
     ]
    },
    {
     "name": "stderr",
     "output_type": "stream",
     "text": [
      " 64%|██████▎   | 105/165 [1:20:30<45:57, 45.96s/it]"
     ]
    },
    {
     "name": "stdout",
     "output_type": "stream",
     "text": [
      "Total progress: 31.56%\n"
     ]
    },
    {
     "name": "stderr",
     "output_type": "stream",
     "text": [
      " 65%|██████▍   | 107/165 [1:22:02<44:22, 45.90s/it]"
     ]
    },
    {
     "name": "stdout",
     "output_type": "stream",
     "text": [
      "Total progress: 32.17%\n"
     ]
    },
    {
     "name": "stderr",
     "output_type": "stream",
     "text": [
      " 65%|██████▌   | 108/165 [1:23:00<43:42, 46.01s/it]"
     ]
    },
    {
     "name": "stdout",
     "output_type": "stream",
     "text": [
      "Total progress: 32.55%\n"
     ]
    },
    {
     "name": "stderr",
     "output_type": "stream",
     "text": [
      " 67%|██████▋   | 110/165 [1:24:19<42:00, 45.82s/it]"
     ]
    },
    {
     "name": "stdout",
     "output_type": "stream",
     "text": [
      "Total progress: 33.08%\n"
     ]
    },
    {
     "name": "stderr",
     "output_type": "stream",
     "text": [
      " 67%|██████▋   | 111/165 [1:25:17<41:18, 45.90s/it]"
     ]
    },
    {
     "name": "stdout",
     "output_type": "stream",
     "text": [
      "Total progress: 33.46%\n"
     ]
    },
    {
     "name": "stderr",
     "output_type": "stream",
     "text": [
      " 68%|██████▊   | 113/165 [1:26:36<39:41, 45.79s/it]"
     ]
    },
    {
     "name": "stdout",
     "output_type": "stream",
     "text": [
      "Total progress: 33.99%\n"
     ]
    },
    {
     "name": "stderr",
     "output_type": "stream",
     "text": [
      " 69%|██████▉   | 114/165 [1:27:34<38:51, 45.72s/it]"
     ]
    },
    {
     "name": "stdout",
     "output_type": "stream",
     "text": [
      "Total progress: 34.37%\n"
     ]
    },
    {
     "name": "stderr",
     "output_type": "stream",
     "text": [
      " 70%|███████   | 116/165 [1:28:53<37:18, 45.69s/it]"
     ]
    },
    {
     "name": "stdout",
     "output_type": "stream",
     "text": [
      "Total progress: 34.9%\n"
     ]
    },
    {
     "name": "stderr",
     "output_type": "stream",
     "text": [
      " 71%|███████   | 117/165 [1:30:08<36:40, 45.84s/it]"
     ]
    },
    {
     "name": "stdout",
     "output_type": "stream",
     "text": [
      "Total progress: 35.36%\n"
     ]
    },
    {
     "name": "stderr",
     "output_type": "stream",
     "text": [
      " 72%|███████▏  | 119/165 [1:31:11<35:12, 45.92s/it]"
     ]
    },
    {
     "name": "stdout",
     "output_type": "stream",
     "text": [
      "Total progress: 35.81%\n"
     ]
    },
    {
     "name": "stderr",
     "output_type": "stream",
     "text": [
      " 73%|███████▎  | 120/165 [1:32:26<34:21, 45.81s/it]"
     ]
    },
    {
     "name": "stdout",
     "output_type": "stream",
     "text": [
      "Total progress: 36.27%\n"
     ]
    },
    {
     "name": "stderr",
     "output_type": "stream",
     "text": [
      " 74%|███████▍  | 122/165 [1:33:33<33:42, 47.03s/it]"
     ]
    },
    {
     "name": "stdout",
     "output_type": "stream",
     "text": [
      "Total progress: 36.72%\n"
     ]
    },
    {
     "name": "stderr",
     "output_type": "stream",
     "text": [
      " 75%|███████▍  | 123/165 [1:34:48<32:38, 46.64s/it]"
     ]
    },
    {
     "name": "stdout",
     "output_type": "stream",
     "text": [
      "Total progress: 37.18%\n"
     ]
    },
    {
     "name": "stderr",
     "output_type": "stream",
     "text": [
      " 76%|███████▌  | 125/165 [1:35:52<30:57, 46.43s/it]"
     ]
    },
    {
     "name": "stdout",
     "output_type": "stream",
     "text": [
      "Total progress: 37.63%\n"
     ]
    },
    {
     "name": "stderr",
     "output_type": "stream",
     "text": [
      " 76%|███████▋  | 126/165 [1:37:05<30:00, 46.16s/it]"
     ]
    },
    {
     "name": "stdout",
     "output_type": "stream",
     "text": [
      "Total progress: 38.09%\n"
     ]
    },
    {
     "name": "stderr",
     "output_type": "stream",
     "text": [
      " 78%|███████▊  | 128/165 [1:38:09<28:18, 45.91s/it]"
     ]
    },
    {
     "name": "stdout",
     "output_type": "stream",
     "text": [
      "Total progress: 38.54%\n"
     ]
    },
    {
     "name": "stderr",
     "output_type": "stream",
     "text": [
      " 78%|███████▊  | 128/164 [1:39:24<27:28, 45.79s/it]"
     ]
    },
    {
     "name": "stdout",
     "output_type": "stream",
     "text": [
      "Total progress: 39.07%\n"
     ]
    },
    {
     "name": "stderr",
     "output_type": "stream",
     "text": [
      " 79%|███████▉  | 131/165 [1:40:26<25:57, 45.80s/it]"
     ]
    },
    {
     "name": "stdout",
     "output_type": "stream",
     "text": [
      "Total progress: 39.45%\n"
     ]
    },
    {
     "name": "stderr",
     "output_type": "stream",
     "text": [
      " 80%|███████▉  | 131/164 [1:41:41<25:07, 45.68s/it]"
     ]
    },
    {
     "name": "stdout",
     "output_type": "stream",
     "text": [
      "Total progress: 39.98%\n"
     ]
    },
    {
     "name": "stderr",
     "output_type": "stream",
     "text": [
      " 81%|████████  | 134/165 [1:42:43<23:36, 45.70s/it]"
     ]
    },
    {
     "name": "stdout",
     "output_type": "stream",
     "text": [
      "Total progress: 40.36%\n"
     ]
    },
    {
     "name": "stderr",
     "output_type": "stream",
     "text": [
      " 82%|████████▏ | 136/165 [1:44:14<22:03, 45.64s/it]"
     ]
    },
    {
     "name": "stdout",
     "output_type": "stream",
     "text": [
      "Total progress: 40.97%\n"
     ]
    },
    {
     "name": "stderr",
     "output_type": "stream",
     "text": [
      " 83%|████████▎ | 137/165 [1:45:10<21:19, 45.69s/it]"
     ]
    },
    {
     "name": "stdout",
     "output_type": "stream",
     "text": [
      "Total progress: 41.35%\n"
     ]
    },
    {
     "name": "stderr",
     "output_type": "stream",
     "text": [
      " 84%|████████▍ | 139/165 [1:46:32<19:51, 45.81s/it]"
     ]
    },
    {
     "name": "stdout",
     "output_type": "stream",
     "text": [
      "Total progress: 41.88%\n"
     ]
    },
    {
     "name": "stderr",
     "output_type": "stream",
     "text": [
      " 85%|████████▍ | 140/165 [1:47:27<19:00, 45.64s/it]"
     ]
    },
    {
     "name": "stdout",
     "output_type": "stream",
     "text": [
      "Total progress: 42.26%\n"
     ]
    },
    {
     "name": "stderr",
     "output_type": "stream",
     "text": [
      " 86%|████████▌ | 142/165 [1:48:49<17:33, 45.81s/it]"
     ]
    },
    {
     "name": "stdout",
     "output_type": "stream",
     "text": [
      "Total progress: 42.79%\n"
     ]
    },
    {
     "name": "stderr",
     "output_type": "stream",
     "text": [
      " 87%|████████▋ | 143/165 [1:49:44<16:44, 45.66s/it]"
     ]
    },
    {
     "name": "stdout",
     "output_type": "stream",
     "text": [
      "Total progress: 43.17%\n"
     ]
    },
    {
     "name": "stderr",
     "output_type": "stream",
     "text": [
      " 88%|████████▊ | 145/165 [1:51:10<15:34, 46.73s/it]"
     ]
    },
    {
     "name": "stdout",
     "output_type": "stream",
     "text": [
      "Total progress: 43.7%\n"
     ]
    },
    {
     "name": "stderr",
     "output_type": "stream",
     "text": [
      " 88%|████████▊ | 146/165 [1:52:04<14:41, 46.42s/it]"
     ]
    },
    {
     "name": "stdout",
     "output_type": "stream",
     "text": [
      "Total progress: 44.08%\n"
     ]
    },
    {
     "name": "stderr",
     "output_type": "stream",
     "text": [
      " 90%|████████▉ | 148/165 [1:53:30<13:13, 46.69s/it]"
     ]
    },
    {
     "name": "stdout",
     "output_type": "stream",
     "text": [
      "Total progress: 44.61%\n"
     ]
    },
    {
     "name": "stderr",
     "output_type": "stream",
     "text": [
      " 90%|█████████ | 149/165 [1:54:39<12:15, 45.95s/it]"
     ]
    },
    {
     "name": "stdout",
     "output_type": "stream",
     "text": [
      "Total progress: 45.07%\n"
     ]
    },
    {
     "name": "stderr",
     "output_type": "stream",
     "text": [
      " 92%|█████████▏| 151/165 [1:55:47<10:43, 45.99s/it]"
     ]
    },
    {
     "name": "stdout",
     "output_type": "stream",
     "text": [
      "Total progress: 45.52%\n"
     ]
    },
    {
     "name": "stderr",
     "output_type": "stream",
     "text": [
      " 92%|█████████▏| 152/165 [1:56:55<09:54, 45.70s/it]"
     ]
    },
    {
     "name": "stdout",
     "output_type": "stream",
     "text": [
      "Total progress: 45.98%\n"
     ]
    },
    {
     "name": "stderr",
     "output_type": "stream",
     "text": [
      " 93%|█████████▎| 154/165 [1:58:04<08:24, 45.83s/it]"
     ]
    },
    {
     "name": "stdout",
     "output_type": "stream",
     "text": [
      "Total progress: 46.43%\n"
     ]
    },
    {
     "name": "stderr",
     "output_type": "stream",
     "text": [
      " 94%|█████████▍| 155/165 [1:59:12<07:35, 45.57s/it]"
     ]
    },
    {
     "name": "stdout",
     "output_type": "stream",
     "text": [
      "Total progress: 46.89%\n"
     ]
    },
    {
     "name": "stderr",
     "output_type": "stream",
     "text": [
      " 95%|█████████▌| 157/165 [2:00:23<06:10, 46.27s/it]"
     ]
    },
    {
     "name": "stdout",
     "output_type": "stream",
     "text": [
      "Total progress: 47.34%\n"
     ]
    },
    {
     "name": "stderr",
     "output_type": "stream",
     "text": [
      " 96%|█████████▌| 158/165 [2:01:33<05:26, 46.58s/it]"
     ]
    },
    {
     "name": "stdout",
     "output_type": "stream",
     "text": [
      "Total progress: 47.8%\n"
     ]
    },
    {
     "name": "stderr",
     "output_type": "stream",
     "text": [
      " 97%|█████████▋| 160/165 [2:02:43<03:52, 46.47s/it]"
     ]
    },
    {
     "name": "stdout",
     "output_type": "stream",
     "text": [
      "Total progress: 48.25%\n"
     ]
    },
    {
     "name": "stderr",
     "output_type": "stream",
     "text": [
      " 98%|█████████▊| 161/165 [2:03:54<03:07, 46.86s/it]"
     ]
    },
    {
     "name": "stdout",
     "output_type": "stream",
     "text": [
      "Total progress: 48.71%\n"
     ]
    },
    {
     "name": "stderr",
     "output_type": "stream",
     "text": [
      " 99%|█████████▉| 163/165 [2:05:03<01:33, 46.52s/it]"
     ]
    },
    {
     "name": "stdout",
     "output_type": "stream",
     "text": [
      "Total progress: 49.17%\n"
     ]
    },
    {
     "name": "stderr",
     "output_type": "stream",
     "text": [
      " 99%|█████████▉| 164/165 [2:06:15<00:46, 46.91s/it]"
     ]
    },
    {
     "name": "stdout",
     "output_type": "stream",
     "text": [
      "Total progress: 49.62%\n"
     ]
    },
    {
     "name": "stderr",
     "output_type": "stream",
     "text": [
      "100%|██████████| 165/165 [2:06:36<00:00, 46.04s/it]\n",
      "100%|██████████| 165/165 [2:06:47<00:00, 46.11s/it]\n",
      "100%|██████████| 165/165 [2:07:02<00:00, 46.20s/it]\n",
      "100%|██████████| 164/164 [2:07:04<00:00, 46.49s/it]\n"
     ]
    },
    {
     "name": "stdout",
     "output_type": "stream",
     "text": [
      "Total progress: 50.0%\n",
      "Total progress: 50.0%\n"
     ]
    },
    {
     "ename": "KeyboardInterrupt",
     "evalue": "",
     "output_type": "error",
     "traceback": [
      "\u001b[0;31m---------------------------------------------------------------------------\u001b[0m",
      "\u001b[0;31mKeyboardInterrupt\u001b[0m                         Traceback (most recent call last)",
      "Input \u001b[0;32mIn [155]\u001b[0m, in \u001b[0;36m<cell line: 2>\u001b[0;34m()\u001b[0m\n\u001b[1;32m      3\u001b[0m time\u001b[38;5;241m.\u001b[39msleep(\u001b[38;5;241m10\u001b[39m)\n\u001b[1;32m      4\u001b[0m \u001b[38;5;28mprint\u001b[39m(\u001b[38;5;124mf\u001b[39m\u001b[38;5;124m\"\u001b[39m\u001b[38;5;124mTotal progress: \u001b[39m\u001b[38;5;132;01m{\u001b[39;00m\u001b[38;5;28mround\u001b[39m((\u001b[38;5;28msum\u001b[39m([(\u001b[38;5;28mlen\u001b[39m(\u001b[38;5;28mopen\u001b[39m(\u001b[38;5;124mf\u001b[39m\u001b[38;5;124m'\u001b[39m\u001b[38;5;132;01m{\u001b[39;00mi\u001b[38;5;132;01m}\u001b[39;00m\u001b[38;5;124m_out_natural.fasta\u001b[39m\u001b[38;5;124m'\u001b[39m,\u001b[38;5;124m'\u001b[39m\u001b[38;5;124mr\u001b[39m\u001b[38;5;124m'\u001b[39m)\u001b[38;5;241m.\u001b[39mreadlines())\u001b[38;5;241m/\u001b[39m\u001b[38;5;28mlen\u001b[39m(splitted_ls[i]))\u001b[38;5;241m/\u001b[39m\u001b[38;5;241m2\u001b[39m \u001b[38;5;28;01mfor\u001b[39;00m i \u001b[38;5;129;01min\u001b[39;00m \u001b[38;5;28mrange\u001b[39m(multiprocessing\u001b[38;5;241m.\u001b[39mcpu_count())\u001b[38;5;28;01mif\u001b[39;00m \u001b[38;5;28mlen\u001b[39m(splitted_ls[i]) \u001b[38;5;241m!=\u001b[39m \u001b[38;5;241m0\u001b[39m ])\u001b[38;5;241m/\u001b[39mmultiprocessing\u001b[38;5;241m.\u001b[39mcpu_count())\u001b[38;5;241m*\u001b[39m\u001b[38;5;241m100\u001b[39m,\u001b[38;5;241m2\u001b[39m)\u001b[38;5;132;01m}\u001b[39;00m\u001b[38;5;124m%\u001b[39m\u001b[38;5;124m\"\u001b[39m)\n\u001b[0;32m----> 5\u001b[0m \u001b[43mtime\u001b[49m\u001b[38;5;241;43m.\u001b[39;49m\u001b[43msleep\u001b[49m\u001b[43m(\u001b[49m\u001b[38;5;241;43m60\u001b[39;49m\u001b[43m)\u001b[49m\n",
      "\u001b[0;31mKeyboardInterrupt\u001b[0m: "
     ]
    }
   ],
   "source": [
    "perc = round((sum([(len(open(f'{i}_out_natural.fasta','r').readlines())/len(splitted_ls[i]))/2 for i in range(multiprocessing.cpu_count()) if len(splitted_ls[i]) != 0])/multiprocessing.cpu_count())*100,2)\n",
    "while perc < 100.:\n",
    "    time.sleep(10)\n",
    "    print(f\"Total progress: {round((sum([(len(open(f'{i}_out_natural.fasta','r').readlines())/len(splitted_ls[i]))/2 for i in range(multiprocessing.cpu_count())if len(splitted_ls[i]) != 0 ])/multiprocessing.cpu_count())*100,2)}%\")\n",
    "    time.sleep(60)"
   ]
  },
  {
   "cell_type": "code",
   "execution_count": 29,
   "id": "a31c160a-e6a2-47a2-8914-0550a247766f",
   "metadata": {
    "tags": []
   },
   "outputs": [
    {
     "name": "stdout",
     "output_type": "stream",
     "text": [
      "No label assigned: 0.5407028042073261\n",
      "Overall Accuracy for natural sequences with predicted labels: 0.62006237006237\n"
     ]
    }
   ],
   "source": [
    "acc = 0\n",
    "tot = 0\n",
    "empty = 0\n",
    "for idx,i in enumerate(splitted_ls):\n",
    "    data = open(f'{idx}_out_natural.fasta','r').readlines()\n",
    "    true = [j.split('|')[0].split(',')[2].replace(' ','') for j in data if j.startswith('>')]\n",
    "    lab = [j.split('|')[1].strip(\"('',)\").replace(\"'\",'').replace(',','') for j in data if j.startswith('>')]\n",
    "    #acc += sum([lab[ix][3:].rsplit('.', 2)[0] in j for ix,j in enumerate(true) if lab[ix] != ''])\n",
    "    acc += sum([sum([j.startswith(x.rsplit('.', 0)[0]) for x in lab[ix][3:].split(' ')])/len(lab[ix][3:].split(' ')) for ix,j in enumerate(true) if lab[ix] != ''])\n",
    "    tot += len([lab[ix] in j for ix,j in enumerate(true) if lab[ix] != ''])\n",
    "    empty += len([j for j in lab if j == ''])/len([j for j in lab ])\n",
    "print(f'No label assigned: {empty/len(splitted_ls)}')\n",
    "print(f'Overall Accuracy for natural sequences with predicted labels: {acc/tot}')"
   ]
  },
  {
   "cell_type": "code",
   "execution_count": 23,
   "id": "3ea0cf2d-bc5f-4f6a-abb8-3b50f789366e",
   "metadata": {
    "tags": []
   },
   "outputs": [
    {
     "name": "stdout",
     "output_type": "stream",
     "text": [
      "No label assigned: 0.698\n",
      "Overall Accuracy for generated sequences with predicted labels: 0.5395051508462104\n"
     ]
    }
   ],
   "source": [
    "acc = 0\n",
    "tot = 0\n",
    "empty = 0\n",
    "for idx,i in enumerate(splitted_ls):\n",
    "    data = open(f'{idx}_out_generated.fasta','r').readlines()\n",
    "    true = [j.split('|')[0].split(',')[2].replace(' ','') for j in data if j.startswith('>')]\n",
    "    lab = [j.split('|')[1].strip(\"('',)\").replace(\"'\",'').replace(',','') for j in data if j.startswith('>')]\n",
    "    #acc += sum([lab[ix][3:].rsplit('.', 2)[0] in j for ix,j in enumerate(true) if lab[ix] != ''])\n",
    "    acc += sum([sum([j.startswith(x.rsplit('.', 0)[0]) for x in lab[ix][3:].split(' ')])/len(lab[ix][3:].split(' ')) for ix,j in enumerate(true) if lab[ix] != ''])\n",
    "    tot += len([lab[ix] in j for ix,j in enumerate(true) if lab[ix] != ''])\n",
    "    empty += len([j for j in lab if j == ''])/len([j for j in lab ])\n",
    "print(f'No label assigned: {empty/len(splitted_ls)}')\n",
    "print(f'Overall Accuracy for generated sequences with predicted labels: {acc/tot}')"
   ]
  },
  {
   "cell_type": "code",
   "execution_count": 1,
   "id": "3273d439-2364-42fb-8a7e-dd8afdaa904b",
   "metadata": {},
   "outputs": [],
   "source": [
    "import pandas as pd\n",
    "df = pd.DataFrame(columns =['','Percentage', 'Dataset']) \n",
    "df.loc[1,:] = ['Missing label', 0.5407028042073261,'natural']\n",
    "df.loc[2,:] = ['1st Level', 0.8115038115038115,'natural']\n",
    "df.loc[3,:] = ['2nd Level', 0.7959112959112958,'natural']\n",
    "df.loc[4,:] = ['3rd Level', 0.760914760914761,'natural']\n",
    "df.loc[5,:] = ['4th Level', 0.62006237006237,'natural']\n",
    "df.loc[6,:] = ['Missing label',0.698,'generated']\n",
    "df.loc[7,:] = ['1st Level',0.8090139808682855,'generated']\n",
    "df.loc[8,:] = ['2nd Level',0.7646615158204562,'generated']\n",
    "df.loc[9,:] = ['3rd Level',0.7345842531272995,'generated']\n",
    "df.loc[10,:] = ['4th Level',0.5395051508462104,'generated']"
   ]
  },
  {
   "cell_type": "code",
   "execution_count": 2,
   "id": "4618fc8f-d5ea-4070-9e0b-c538532a98b3",
   "metadata": {},
   "outputs": [
    {
     "data": {
      "text/html": [
       "<div>\n",
       "<style scoped>\n",
       "    .dataframe tbody tr th:only-of-type {\n",
       "        vertical-align: middle;\n",
       "    }\n",
       "\n",
       "    .dataframe tbody tr th {\n",
       "        vertical-align: top;\n",
       "    }\n",
       "\n",
       "    .dataframe thead th {\n",
       "        text-align: right;\n",
       "    }\n",
       "</style>\n",
       "<table border=\"1\" class=\"dataframe\">\n",
       "  <thead>\n",
       "    <tr style=\"text-align: right;\">\n",
       "      <th></th>\n",
       "      <th></th>\n",
       "      <th>Percentage</th>\n",
       "      <th>Dataset</th>\n",
       "    </tr>\n",
       "  </thead>\n",
       "  <tbody>\n",
       "    <tr>\n",
       "      <th>1</th>\n",
       "      <td>Missing label</td>\n",
       "      <td>0.540703</td>\n",
       "      <td>natural</td>\n",
       "    </tr>\n",
       "    <tr>\n",
       "      <th>2</th>\n",
       "      <td>1st Level</td>\n",
       "      <td>0.811504</td>\n",
       "      <td>natural</td>\n",
       "    </tr>\n",
       "    <tr>\n",
       "      <th>3</th>\n",
       "      <td>2nd Level</td>\n",
       "      <td>0.795911</td>\n",
       "      <td>natural</td>\n",
       "    </tr>\n",
       "    <tr>\n",
       "      <th>4</th>\n",
       "      <td>3rd Level</td>\n",
       "      <td>0.760915</td>\n",
       "      <td>natural</td>\n",
       "    </tr>\n",
       "    <tr>\n",
       "      <th>5</th>\n",
       "      <td>4th Level</td>\n",
       "      <td>0.620062</td>\n",
       "      <td>natural</td>\n",
       "    </tr>\n",
       "    <tr>\n",
       "      <th>6</th>\n",
       "      <td>Missing label</td>\n",
       "      <td>0.698</td>\n",
       "      <td>generated</td>\n",
       "    </tr>\n",
       "    <tr>\n",
       "      <th>7</th>\n",
       "      <td>1st Level</td>\n",
       "      <td>0.809014</td>\n",
       "      <td>generated</td>\n",
       "    </tr>\n",
       "    <tr>\n",
       "      <th>8</th>\n",
       "      <td>2nd Level</td>\n",
       "      <td>0.764662</td>\n",
       "      <td>generated</td>\n",
       "    </tr>\n",
       "    <tr>\n",
       "      <th>9</th>\n",
       "      <td>3rd Level</td>\n",
       "      <td>0.734584</td>\n",
       "      <td>generated</td>\n",
       "    </tr>\n",
       "    <tr>\n",
       "      <th>10</th>\n",
       "      <td>4th Level</td>\n",
       "      <td>0.539505</td>\n",
       "      <td>generated</td>\n",
       "    </tr>\n",
       "  </tbody>\n",
       "</table>\n",
       "</div>"
      ],
      "text/plain": [
       "                  Percentage    Dataset\n",
       "1   Missing label   0.540703    natural\n",
       "2       1st Level   0.811504    natural\n",
       "3       2nd Level   0.795911    natural\n",
       "4       3rd Level   0.760915    natural\n",
       "5       4th Level   0.620062    natural\n",
       "6   Missing label      0.698  generated\n",
       "7       1st Level   0.809014  generated\n",
       "8       2nd Level   0.764662  generated\n",
       "9       3rd Level   0.734584  generated\n",
       "10      4th Level   0.539505  generated"
      ]
     },
     "execution_count": 2,
     "metadata": {},
     "output_type": "execute_result"
    }
   ],
   "source": [
    "df"
   ]
  },
  {
   "cell_type": "code",
   "execution_count": 7,
   "id": "47a213e6-970b-478f-9e8d-e88ecbff9ef5",
   "metadata": {},
   "outputs": [],
   "source": [
    "colors = [\"#FBC94E\", '#634687',\"#0B203F\",\"#68320D\"] #\"#F7FCFF\",\"#F3EBA2\"\n",
    "\n",
    "color_palette = sns.color_palette(colors)"
   ]
  },
  {
   "cell_type": "code",
   "execution_count": 8,
   "id": "328027ba-d45a-4745-b1d1-680986b6e67e",
   "metadata": {},
   "outputs": [
    {
     "data": {
      "image/png": "[encoded data removed]",
      "text/plain": [
       "<Figure size 640x480 with 1 Axes>"
      ]
     },
     "metadata": {},
     "output_type": "display_data"
    }
   ],
   "source": [
    "import seaborn as sns\n",
    "import matplotlib.pyplot as plt\n",
    "fig = sns.barplot(data=df,x='',y='Percentage',hue='Dataset',palette=color_palette)\n",
    "sns.move_legend(fig, \"lower center\", bbox_to_anchor=(.5, -.2), ncol=3, title=None, frameon=False)\n",
    "fig.spines['top'].set_visible(False)\n",
    "fig.spines['right'].set_visible(False)\n",
    "fig.spines['bottom'].set_visible(False)\n",
    "fig.spines['left'].set_visible(False)\n",
    "plt.plot()\n",
    "plt.savefig('./barplot_proteinfer',dpi=100,bbox_inches='tight')"
   ]
  }
 ],
 "metadata": {
  "kernelspec": {
   "display_name": "Python 3 (ipykernel)",
   "language": "python",
   "name": "python3"
  },
  "language_info": {
   "codemirror_mode": {
    "name": "ipython",
    "version": 3
   },
   "file_extension": ".py",
   "mimetype": "text/x-python",
   "name": "python",
   "nbconvert_exporter": "python",
   "pygments_lexer": "ipython3",
   "version": "3.10.6"
  }
 },
 "nbformat": 4,
 "nbformat_minor": 5
}
